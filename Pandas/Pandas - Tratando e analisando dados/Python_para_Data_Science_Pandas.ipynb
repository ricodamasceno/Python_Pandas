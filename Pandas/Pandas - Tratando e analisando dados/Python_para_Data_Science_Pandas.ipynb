{
  "nbformat": 4,
  "nbformat_minor": 0,
  "metadata": {
    "kernelspec": {
      "display_name": "Python 3",
      "language": "python",
      "name": "python3"
    },
    "language_info": {
      "codemirror_mode": {
        "name": "ipython",
        "version": 3
      },
      "file_extension": ".py",
      "mimetype": "text/x-python",
      "name": "python",
      "nbconvert_exporter": "python",
      "pygments_lexer": "ipython3",
      "version": "3.7.3"
    },
    "colab": {
      "name": "Python_para_Data_Science_Pandas.ipynb",
      "provenance": []
    }
  },
  "cells": [
    {
      "cell_type": "markdown",
      "metadata": {
        "id": "W4bTJkJED0-t"
      },
      "source": [
        "# <font color=green> PYTHON PARA DATA SCIENCE - PANDAS\n",
        "---"
      ]
    },
    {
      "cell_type": "markdown",
      "metadata": {
        "id": "GOEcCc62D0-x"
      },
      "source": [
        "# <font color=green> 1. INTRODUÇÃO AO PYTHON\n",
        "---"
      ]
    },
    {
      "cell_type": "markdown",
      "metadata": {
        "id": "oGvoOJ-XD0-y"
      },
      "source": [
        "# 1.1 Introdução"
      ]
    },
    {
      "cell_type": "markdown",
      "metadata": {
        "id": "fam3BM0aD0-z"
      },
      "source": [
        "> Python é uma linguagem de programação de alto nível com suporte a múltiplos paradigmas de programação. É um projeto *open source* e desde seu surgimento, em 1991, vem se tornando uma das linguagens de programação interpretadas mais populares. \n",
        ">\n",
        "> Nos últimos anos Python desenvolveu uma comunidade ativa de processamento científico e análise de dados e vem se destacando como uma das linguagens mais relevantes quando o assundo é ciência de dados e machine learning, tanto no ambiente acadêmico como também no mercado."
      ]
    },
    {
      "cell_type": "markdown",
      "metadata": {
        "id": "6kH5DY-vD0-1"
      },
      "source": [
        "# 1.2 Instalação e ambiente de desenvolvimento"
      ]
    },
    {
      "cell_type": "markdown",
      "metadata": {
        "id": "BTpm79I2D0-2"
      },
      "source": [
        "### Instalação Local\n",
        "\n",
        "### https://www.python.org/downloads/\n",
        "### ou\n",
        "### https://www.anaconda.com/distribution/"
      ]
    },
    {
      "cell_type": "markdown",
      "metadata": {
        "id": "AuPS_XwRD0-3"
      },
      "source": [
        "### Google Colaboratory\n",
        "\n",
        "### https://colab.research.google.com"
      ]
    },
    {
      "cell_type": "markdown",
      "metadata": {
        "id": "4rUYsPrXD0-4"
      },
      "source": [
        "### Verificando versão"
      ]
    },
    {
      "cell_type": "code",
      "metadata": {
        "id": "PgTCVRB2D0-5",
        "colab": {
          "base_uri": "https://localhost:8080/"
        },
        "outputId": "0c25093f-38a1-4861-d65d-2d79884e5c26"
      },
      "source": [
        "!phyton -V"
      ],
      "execution_count": null,
      "outputs": [
        {
          "output_type": "stream",
          "name": "stdout",
          "text": [
            "/bin/bash: phyton: command not found\n"
          ]
        }
      ]
    },
    {
      "cell_type": "markdown",
      "metadata": {
        "id": "lTtI6so4D0-9"
      },
      "source": [
        "# 1.3 Trabalhando com dados"
      ]
    },
    {
      "cell_type": "code",
      "metadata": {
        "scrolled": true,
        "id": "mOV1rCA6D0_A"
      },
      "source": [
        "import pandas as pd\n",
        "pd.set_option('display.max_rows', 10) # demonstrar todas as linhas do meu dataframe.\n",
        "pd.set_option('display.max_columns', 10) # demonstrar todas as quantidades de colunas que quer ver."
      ],
      "execution_count": null,
      "outputs": []
    },
    {
      "cell_type": "code",
      "metadata": {
        "id": "5D739PzJD0_B"
      },
      "source": [
        "dataset =  pd.read_csv('db.csv', sep = ';')"
      ],
      "execution_count": null,
      "outputs": []
    },
    {
      "cell_type": "code",
      "metadata": {
        "id": "r_qUf16LD0_D",
        "colab": {
          "base_uri": "https://localhost:8080/",
          "height": 419
        },
        "outputId": "c0b690bc-d731-4cec-b7bc-c2000bbae563"
      },
      "source": [
        "dataset"
      ],
      "execution_count": null,
      "outputs": [
        {
          "output_type": "execute_result",
          "data": {
            "text/html": [
              "<div>\n",
              "<style scoped>\n",
              "    .dataframe tbody tr th:only-of-type {\n",
              "        vertical-align: middle;\n",
              "    }\n",
              "\n",
              "    .dataframe tbody tr th {\n",
              "        vertical-align: top;\n",
              "    }\n",
              "\n",
              "    .dataframe thead th {\n",
              "        text-align: right;\n",
              "    }\n",
              "</style>\n",
              "<table border=\"1\" class=\"dataframe\">\n",
              "  <thead>\n",
              "    <tr style=\"text-align: right;\">\n",
              "      <th></th>\n",
              "      <th>Nome</th>\n",
              "      <th>Motor</th>\n",
              "      <th>Ano</th>\n",
              "      <th>Quilometragem</th>\n",
              "      <th>Zero_km</th>\n",
              "      <th>Acessórios</th>\n",
              "      <th>Valor</th>\n",
              "    </tr>\n",
              "  </thead>\n",
              "  <tbody>\n",
              "    <tr>\n",
              "      <th>0</th>\n",
              "      <td>Jetta Variant</td>\n",
              "      <td>Motor 4.0 Turbo</td>\n",
              "      <td>2003</td>\n",
              "      <td>44410.0</td>\n",
              "      <td>False</td>\n",
              "      <td>['Rodas de liga', 'Travas elétricas', 'Piloto ...</td>\n",
              "      <td>88078.64</td>\n",
              "    </tr>\n",
              "    <tr>\n",
              "      <th>1</th>\n",
              "      <td>Passat</td>\n",
              "      <td>Motor Diesel</td>\n",
              "      <td>1991</td>\n",
              "      <td>5712.0</td>\n",
              "      <td>False</td>\n",
              "      <td>['Central multimídia', 'Teto panorâmico', 'Fre...</td>\n",
              "      <td>106161.94</td>\n",
              "    </tr>\n",
              "    <tr>\n",
              "      <th>2</th>\n",
              "      <td>Crossfox</td>\n",
              "      <td>Motor Diesel V8</td>\n",
              "      <td>1990</td>\n",
              "      <td>37123.0</td>\n",
              "      <td>False</td>\n",
              "      <td>['Piloto automático', 'Controle de estabilidad...</td>\n",
              "      <td>72832.16</td>\n",
              "    </tr>\n",
              "    <tr>\n",
              "      <th>3</th>\n",
              "      <td>DS5</td>\n",
              "      <td>Motor 2.4 Turbo</td>\n",
              "      <td>2019</td>\n",
              "      <td>NaN</td>\n",
              "      <td>True</td>\n",
              "      <td>['Travas elétricas', '4 X 4', 'Vidros elétrico...</td>\n",
              "      <td>124549.07</td>\n",
              "    </tr>\n",
              "    <tr>\n",
              "      <th>4</th>\n",
              "      <td>Aston Martin DB4</td>\n",
              "      <td>Motor 2.4 Turbo</td>\n",
              "      <td>2006</td>\n",
              "      <td>25757.0</td>\n",
              "      <td>False</td>\n",
              "      <td>['Rodas de liga', '4 X 4', 'Central multimídia...</td>\n",
              "      <td>92612.10</td>\n",
              "    </tr>\n",
              "    <tr>\n",
              "      <th>...</th>\n",
              "      <td>...</td>\n",
              "      <td>...</td>\n",
              "      <td>...</td>\n",
              "      <td>...</td>\n",
              "      <td>...</td>\n",
              "      <td>...</td>\n",
              "      <td>...</td>\n",
              "    </tr>\n",
              "    <tr>\n",
              "      <th>253</th>\n",
              "      <td>Phantom 2013</td>\n",
              "      <td>Motor V8</td>\n",
              "      <td>2014</td>\n",
              "      <td>27505.0</td>\n",
              "      <td>False</td>\n",
              "      <td>['Controle de estabilidade', 'Piloto automátic...</td>\n",
              "      <td>51759.58</td>\n",
              "    </tr>\n",
              "    <tr>\n",
              "      <th>254</th>\n",
              "      <td>Cadillac Ciel concept</td>\n",
              "      <td>Motor V8</td>\n",
              "      <td>1991</td>\n",
              "      <td>29981.0</td>\n",
              "      <td>False</td>\n",
              "      <td>['Bancos de couro', 'Painel digital', 'Sensor ...</td>\n",
              "      <td>51667.06</td>\n",
              "    </tr>\n",
              "    <tr>\n",
              "      <th>255</th>\n",
              "      <td>Classe GLK</td>\n",
              "      <td>Motor 5.0 V8 Bi-Turbo</td>\n",
              "      <td>2002</td>\n",
              "      <td>52637.0</td>\n",
              "      <td>False</td>\n",
              "      <td>['Rodas de liga', 'Controle de tração', 'Câmbi...</td>\n",
              "      <td>68934.03</td>\n",
              "    </tr>\n",
              "    <tr>\n",
              "      <th>256</th>\n",
              "      <td>Aston Martin DB5</td>\n",
              "      <td>Motor Diesel</td>\n",
              "      <td>1996</td>\n",
              "      <td>7685.0</td>\n",
              "      <td>False</td>\n",
              "      <td>['Ar condicionado', '4 X 4', 'Câmbio automátic...</td>\n",
              "      <td>122110.90</td>\n",
              "    </tr>\n",
              "    <tr>\n",
              "      <th>257</th>\n",
              "      <td>Macan</td>\n",
              "      <td>Motor Diesel V6</td>\n",
              "      <td>1992</td>\n",
              "      <td>50188.0</td>\n",
              "      <td>False</td>\n",
              "      <td>['Central multimídia', 'Teto panorâmico', 'Vid...</td>\n",
              "      <td>90381.47</td>\n",
              "    </tr>\n",
              "  </tbody>\n",
              "</table>\n",
              "<p>258 rows × 7 columns</p>\n",
              "</div>"
            ],
            "text/plain": [
              "                      Nome                  Motor   Ano  Quilometragem  \\\n",
              "0            Jetta Variant        Motor 4.0 Turbo  2003        44410.0   \n",
              "1                   Passat           Motor Diesel  1991         5712.0   \n",
              "2                 Crossfox        Motor Diesel V8  1990        37123.0   \n",
              "3                      DS5        Motor 2.4 Turbo  2019            NaN   \n",
              "4         Aston Martin DB4        Motor 2.4 Turbo  2006        25757.0   \n",
              "..                     ...                    ...   ...            ...   \n",
              "253           Phantom 2013               Motor V8  2014        27505.0   \n",
              "254  Cadillac Ciel concept               Motor V8  1991        29981.0   \n",
              "255             Classe GLK  Motor 5.0 V8 Bi-Turbo  2002        52637.0   \n",
              "256       Aston Martin DB5           Motor Diesel  1996         7685.0   \n",
              "257                  Macan        Motor Diesel V6  1992        50188.0   \n",
              "\n",
              "     Zero_km                                         Acessórios      Valor  \n",
              "0      False  ['Rodas de liga', 'Travas elétricas', 'Piloto ...   88078.64  \n",
              "1      False  ['Central multimídia', 'Teto panorâmico', 'Fre...  106161.94  \n",
              "2      False  ['Piloto automático', 'Controle de estabilidad...   72832.16  \n",
              "3       True  ['Travas elétricas', '4 X 4', 'Vidros elétrico...  124549.07  \n",
              "4      False  ['Rodas de liga', '4 X 4', 'Central multimídia...   92612.10  \n",
              "..       ...                                                ...        ...  \n",
              "253    False  ['Controle de estabilidade', 'Piloto automátic...   51759.58  \n",
              "254    False  ['Bancos de couro', 'Painel digital', 'Sensor ...   51667.06  \n",
              "255    False  ['Rodas de liga', 'Controle de tração', 'Câmbi...   68934.03  \n",
              "256    False  ['Ar condicionado', '4 X 4', 'Câmbio automátic...  122110.90  \n",
              "257    False  ['Central multimídia', 'Teto panorâmico', 'Vid...   90381.47  \n",
              "\n",
              "[258 rows x 7 columns]"
            ]
          },
          "metadata": {},
          "execution_count": 13
        }
      ]
    },
    {
      "cell_type": "code",
      "metadata": {
        "id": "0R-_7PH5D0_E",
        "colab": {
          "base_uri": "https://localhost:8080/"
        },
        "outputId": "ee49ff39-cad4-4f7b-a666-de75b92def00"
      },
      "source": [
        "dataset.dtypes"
      ],
      "execution_count": null,
      "outputs": [
        {
          "output_type": "execute_result",
          "data": {
            "text/plain": [
              "Nome              object\n",
              "Motor             object\n",
              "Ano                int64\n",
              "Quilometragem    float64\n",
              "Zero_km             bool\n",
              "Acessórios        object\n",
              "Valor            float64\n",
              "dtype: object"
            ]
          },
          "metadata": {},
          "execution_count": 14
        }
      ]
    },
    {
      "cell_type": "code",
      "metadata": {
        "colab": {
          "base_uri": "https://localhost:8080/",
          "height": 297
        },
        "id": "FcI0SO17hDoX",
        "outputId": "1249164b-36d7-4d83-a076-dd320100fa1e"
      },
      "source": [
        "dataset[['Quilometragem', 'Valor']].describe()"
      ],
      "execution_count": null,
      "outputs": [
        {
          "output_type": "execute_result",
          "data": {
            "text/html": [
              "<div>\n",
              "<style scoped>\n",
              "    .dataframe tbody tr th:only-of-type {\n",
              "        vertical-align: middle;\n",
              "    }\n",
              "\n",
              "    .dataframe tbody tr th {\n",
              "        vertical-align: top;\n",
              "    }\n",
              "\n",
              "    .dataframe thead th {\n",
              "        text-align: right;\n",
              "    }\n",
              "</style>\n",
              "<table border=\"1\" class=\"dataframe\">\n",
              "  <thead>\n",
              "    <tr style=\"text-align: right;\">\n",
              "      <th></th>\n",
              "      <th>Quilometragem</th>\n",
              "      <th>Valor</th>\n",
              "    </tr>\n",
              "  </thead>\n",
              "  <tbody>\n",
              "    <tr>\n",
              "      <th>count</th>\n",
              "      <td>197.000000</td>\n",
              "      <td>258.000000</td>\n",
              "    </tr>\n",
              "    <tr>\n",
              "      <th>mean</th>\n",
              "      <td>58278.421320</td>\n",
              "      <td>98960.513101</td>\n",
              "    </tr>\n",
              "    <tr>\n",
              "      <th>std</th>\n",
              "      <td>35836.733259</td>\n",
              "      <td>29811.932305</td>\n",
              "    </tr>\n",
              "    <tr>\n",
              "      <th>min</th>\n",
              "      <td>107.000000</td>\n",
              "      <td>50742.100000</td>\n",
              "    </tr>\n",
              "    <tr>\n",
              "      <th>25%</th>\n",
              "      <td>27505.000000</td>\n",
              "      <td>70743.512500</td>\n",
              "    </tr>\n",
              "    <tr>\n",
              "      <th>50%</th>\n",
              "      <td>55083.000000</td>\n",
              "      <td>97724.380000</td>\n",
              "    </tr>\n",
              "    <tr>\n",
              "      <th>75%</th>\n",
              "      <td>90495.000000</td>\n",
              "      <td>124633.302500</td>\n",
              "    </tr>\n",
              "    <tr>\n",
              "      <th>max</th>\n",
              "      <td>119945.000000</td>\n",
              "      <td>149489.920000</td>\n",
              "    </tr>\n",
              "  </tbody>\n",
              "</table>\n",
              "</div>"
            ],
            "text/plain": [
              "       Quilometragem          Valor\n",
              "count     197.000000     258.000000\n",
              "mean    58278.421320   98960.513101\n",
              "std     35836.733259   29811.932305\n",
              "min       107.000000   50742.100000\n",
              "25%     27505.000000   70743.512500\n",
              "50%     55083.000000   97724.380000\n",
              "75%     90495.000000  124633.302500\n",
              "max    119945.000000  149489.920000"
            ]
          },
          "metadata": {},
          "execution_count": 15
        }
      ]
    },
    {
      "cell_type": "code",
      "metadata": {
        "colab": {
          "base_uri": "https://localhost:8080/"
        },
        "id": "2c_TfT9shDzg",
        "outputId": "52bb76ec-0090-472a-84f1-62b7f2209d6e"
      },
      "source": [
        " dataset.info()"
      ],
      "execution_count": null,
      "outputs": [
        {
          "output_type": "stream",
          "name": "stdout",
          "text": [
            "<class 'pandas.core.frame.DataFrame'>\n",
            "RangeIndex: 258 entries, 0 to 257\n",
            "Data columns (total 7 columns):\n",
            " #   Column         Non-Null Count  Dtype  \n",
            "---  ------         --------------  -----  \n",
            " 0   Nome           258 non-null    object \n",
            " 1   Motor          258 non-null    object \n",
            " 2   Ano            258 non-null    int64  \n",
            " 3   Quilometragem  197 non-null    float64\n",
            " 4   Zero_km        258 non-null    bool   \n",
            " 5   Acessórios     258 non-null    object \n",
            " 6   Valor          258 non-null    float64\n",
            "dtypes: bool(1), float64(2), int64(1), object(3)\n",
            "memory usage: 12.5+ KB\n"
          ]
        }
      ]
    },
    {
      "cell_type": "markdown",
      "metadata": {
        "id": "htjoBLwiD0_F"
      },
      "source": [
        "# <font color=green> 2. TRABALHANDO COM TUPLAS\n",
        "---"
      ]
    },
    {
      "cell_type": "markdown",
      "metadata": {
        "id": "MZH5_QnYD0_G"
      },
      "source": [
        "# 2.1 Criando tuplas\n",
        "\n",
        "Tuplas são sequências imutáveis que são utilizadas para armazenar coleções de itens, geralmente heterogêneos. Podem ser construídas de várias formas:\n",
        "```\n",
        "- Utilizando um par de parênteses: ( )\n",
        "- Utilizando uma vírgula à direita: x,\n",
        "- Utilizando um par de parênteses com itens separados por vírgulas: ( x, y, z )\n",
        "- Utilizando: tuple() ou tuple(iterador)\n",
        "```"
      ]
    },
    {
      "cell_type": "code",
      "metadata": {
        "id": "xzcs9fzeD0_G",
        "colab": {
          "base_uri": "https://localhost:8080/"
        },
        "outputId": "302828cb-5e1e-4e30-b784-1db143b1302e"
      },
      "source": [
        "()"
      ],
      "execution_count": null,
      "outputs": [
        {
          "output_type": "execute_result",
          "data": {
            "text/plain": [
              "()"
            ]
          },
          "metadata": {},
          "execution_count": 18
        }
      ]
    },
    {
      "cell_type": "code",
      "metadata": {
        "id": "qJq7a2qTD0_I",
        "colab": {
          "base_uri": "https://localhost:8080/"
        },
        "outputId": "5e8f9e5e-5ffc-4592-cfe8-352b02392497"
      },
      "source": [
        "1, 2, 3"
      ],
      "execution_count": null,
      "outputs": [
        {
          "output_type": "execute_result",
          "data": {
            "text/plain": [
              "(1, 2, 3)"
            ]
          },
          "metadata": {},
          "execution_count": 19
        }
      ]
    },
    {
      "cell_type": "code",
      "metadata": {
        "id": "sg7LdvptD0_J",
        "colab": {
          "base_uri": "https://localhost:8080/"
        },
        "outputId": "22c9153a-3ca0-4317-c0ad-b81940bd81d2"
      },
      "source": [
        "nome = 'Passat'\n",
        "valor = 153000\n",
        "(nome, valor)"
      ],
      "execution_count": null,
      "outputs": [
        {
          "output_type": "execute_result",
          "data": {
            "text/plain": [
              "('Passat', 153000)"
            ]
          },
          "metadata": {},
          "execution_count": 20
        }
      ]
    },
    {
      "cell_type": "code",
      "metadata": {
        "id": "XSSMebXjD0_K",
        "colab": {
          "base_uri": "https://localhost:8080/"
        },
        "outputId": "ccec099c-eb31-4ecf-c9d1-7b78b2e6fce9"
      },
      "source": [
        "nomes_carros = tuple(['Jetta Variant', 'Passat', 'Crossfox', 'DS5'])\n",
        "nomes_carros"
      ],
      "execution_count": null,
      "outputs": [
        {
          "output_type": "execute_result",
          "data": {
            "text/plain": [
              "('Jetta Variant', 'Passat', 'Crossfox', 'DS5')"
            ]
          },
          "metadata": {},
          "execution_count": 22
        }
      ]
    },
    {
      "cell_type": "code",
      "metadata": {
        "id": "dpkdzrzRD0_M",
        "colab": {
          "base_uri": "https://localhost:8080/"
        },
        "outputId": "ff5f2fd5-ebb0-467b-98b5-1df9f99bed33"
      },
      "source": [
        "type(nomes_carros)"
      ],
      "execution_count": null,
      "outputs": [
        {
          "output_type": "execute_result",
          "data": {
            "text/plain": [
              "tuple"
            ]
          },
          "metadata": {},
          "execution_count": 23
        }
      ]
    },
    {
      "cell_type": "markdown",
      "metadata": {
        "id": "iKUY2DOUD0_N"
      },
      "source": [
        "# 2.2 Seleções em tuplas"
      ]
    },
    {
      "cell_type": "code",
      "metadata": {
        "id": "hBEeAM7_D0_N",
        "colab": {
          "base_uri": "https://localhost:8080/"
        },
        "outputId": "5ec344cb-8201-41c7-9188-c31a9e3e05de"
      },
      "source": [
        "nomes_carros = tuple(['Jetta Variant', 'Passat', 'Crossfox', 'DS5'])\n",
        "nomes_carros"
      ],
      "execution_count": null,
      "outputs": [
        {
          "output_type": "execute_result",
          "data": {
            "text/plain": [
              "('Jetta Variant', 'Passat', 'Crossfox', 'DS5')"
            ]
          },
          "metadata": {},
          "execution_count": 24
        }
      ]
    },
    {
      "cell_type": "code",
      "metadata": {
        "id": "-mx_1E_tD0_P",
        "colab": {
          "base_uri": "https://localhost:8080/",
          "height": 35
        },
        "outputId": "8f703615-b6bb-4b08-cdee-d9dca9588f5e"
      },
      "source": [
        "nomes_carros[0]"
      ],
      "execution_count": null,
      "outputs": [
        {
          "output_type": "execute_result",
          "data": {
            "application/vnd.google.colaboratory.intrinsic+json": {
              "type": "string"
            },
            "text/plain": [
              "'Jetta Variant'"
            ]
          },
          "metadata": {},
          "execution_count": 25
        }
      ]
    },
    {
      "cell_type": "code",
      "metadata": {
        "id": "LMhyqnFID0_Q",
        "colab": {
          "base_uri": "https://localhost:8080/",
          "height": 35
        },
        "outputId": "089d4640-f443-4986-f648-a360038c8443"
      },
      "source": [
        "nomes_carros[1]"
      ],
      "execution_count": null,
      "outputs": [
        {
          "output_type": "execute_result",
          "data": {
            "application/vnd.google.colaboratory.intrinsic+json": {
              "type": "string"
            },
            "text/plain": [
              "'Passat'"
            ]
          },
          "metadata": {},
          "execution_count": 26
        }
      ]
    },
    {
      "cell_type": "code",
      "metadata": {
        "id": "6btHff4BD0_T",
        "colab": {
          "base_uri": "https://localhost:8080/",
          "height": 35
        },
        "outputId": "28ac46a2-d0e6-4427-d3a4-f7ca1ffd6a8f"
      },
      "source": [
        "nomes_carros[-1]"
      ],
      "execution_count": null,
      "outputs": [
        {
          "output_type": "execute_result",
          "data": {
            "application/vnd.google.colaboratory.intrinsic+json": {
              "type": "string"
            },
            "text/plain": [
              "'DS5'"
            ]
          },
          "metadata": {},
          "execution_count": 27
        }
      ]
    },
    {
      "cell_type": "code",
      "metadata": {
        "id": "K_Dc12xBD0_U",
        "colab": {
          "base_uri": "https://localhost:8080/"
        },
        "outputId": "50bfe479-3d76-48b0-e2f2-36e08a299196"
      },
      "source": [
        "nomes_carros[1:3]"
      ],
      "execution_count": null,
      "outputs": [
        {
          "output_type": "execute_result",
          "data": {
            "text/plain": [
              "('Passat', 'Crossfox')"
            ]
          },
          "metadata": {},
          "execution_count": 30
        }
      ]
    },
    {
      "cell_type": "code",
      "metadata": {
        "id": "zvrWYkkeD0_W",
        "colab": {
          "base_uri": "https://localhost:8080/"
        },
        "outputId": "d112dac6-4ccf-41dd-806a-5a8c45bb5fe2"
      },
      "source": [
        "nomes_carros = ('Jetta Variant', 'Passat', 'Crossfox', 'DS5', ('Fusca', 'Gol', 'C4'))\n",
        "nomes_carros"
      ],
      "execution_count": null,
      "outputs": [
        {
          "output_type": "execute_result",
          "data": {
            "text/plain": [
              "('Jetta Variant', 'Passat', 'Crossfox', 'DS5', ('Fusca', 'Gol', 'C4'))"
            ]
          },
          "metadata": {},
          "execution_count": 31
        }
      ]
    },
    {
      "cell_type": "code",
      "metadata": {
        "id": "Dw7tbM2ED0_Z",
        "colab": {
          "base_uri": "https://localhost:8080/"
        },
        "outputId": "054a23af-d932-49f4-8e7e-9d9ae518d80e"
      },
      "source": [
        "nomes_carros[-1]"
      ],
      "execution_count": null,
      "outputs": [
        {
          "output_type": "execute_result",
          "data": {
            "text/plain": [
              "('Fusca', 'Gol', 'C4')"
            ]
          },
          "metadata": {},
          "execution_count": 32
        }
      ]
    },
    {
      "cell_type": "code",
      "metadata": {
        "id": "SAMD3BtXD0_b",
        "colab": {
          "base_uri": "https://localhost:8080/",
          "height": 35
        },
        "outputId": "9832d01d-eb59-4e04-e79e-d300348971c8"
      },
      "source": [
        "nomes_carros[-1][1]"
      ],
      "execution_count": null,
      "outputs": [
        {
          "output_type": "execute_result",
          "data": {
            "application/vnd.google.colaboratory.intrinsic+json": {
              "type": "string"
            },
            "text/plain": [
              "'Gol'"
            ]
          },
          "metadata": {},
          "execution_count": 33
        }
      ]
    },
    {
      "cell_type": "markdown",
      "metadata": {
        "id": "c8S8zQhQ5CCD"
      },
      "source": [
        "## Exercício: Selecionando itens em tuplas."
      ]
    },
    {
      "cell_type": "code",
      "metadata": {
        "id": "v9nOX5nr5JDP"
      },
      "source": [
        "carros = (\n",
        "    (\n",
        "        'Jetta Variant',\n",
        "        'Motor 4.0 Turbo',\n",
        "        2003,\n",
        "        False,\n",
        "        ('Rodas de liga', 'Travas elétricas', 'Piloto automático')\n",
        "    ),\n",
        "    (\n",
        "        'Passat',\n",
        "        'Motor Diesel',\n",
        "        1991,\n",
        "        True,\n",
        "        ('Central multimídia', 'Teto panorâmico', 'Freios ABS')\n",
        "    )\n",
        ")"
      ],
      "execution_count": null,
      "outputs": []
    },
    {
      "cell_type": "code",
      "metadata": {
        "colab": {
          "base_uri": "https://localhost:8080/"
        },
        "id": "-aDQ6UwC5Jbl",
        "outputId": "3064c6e2-0446-4d79-ac31-943ba9b74ff8"
      },
      "source": [
        "carros"
      ],
      "execution_count": null,
      "outputs": [
        {
          "output_type": "execute_result",
          "data": {
            "text/plain": [
              "(('Jetta Variant',\n",
              "  'Motor 4.0 Turbo',\n",
              "  2003,\n",
              "  False,\n",
              "  ('Rodas de liga', 'Travas elétricas', 'Piloto automático')),\n",
              " ('Passat',\n",
              "  'Motor Diesel',\n",
              "  1991,\n",
              "  True,\n",
              "  ('Central multimídia', 'Teto panorâmico', 'Freios ABS')))"
            ]
          },
          "metadata": {},
          "execution_count": 35
        }
      ]
    },
    {
      "cell_type": "code",
      "metadata": {
        "colab": {
          "base_uri": "https://localhost:8080/"
        },
        "id": "sM-k3KTF5MeA",
        "outputId": "f95ac072-3166-4e02-8a6a-e135753bfb90"
      },
      "source": [
        "carros[0][3]"
      ],
      "execution_count": null,
      "outputs": [
        {
          "output_type": "execute_result",
          "data": {
            "text/plain": [
              "False"
            ]
          },
          "metadata": {},
          "execution_count": 36
        }
      ]
    },
    {
      "cell_type": "code",
      "metadata": {
        "colab": {
          "base_uri": "https://localhost:8080/",
          "height": 35
        },
        "id": "V0y0Aw925MmK",
        "outputId": "578a9275-dcde-41d9-f9e5-bc9e3d3d0df0"
      },
      "source": [
        "carros[-1][-1][-1]"
      ],
      "execution_count": null,
      "outputs": [
        {
          "output_type": "execute_result",
          "data": {
            "application/vnd.google.colaboratory.intrinsic+json": {
              "type": "string"
            },
            "text/plain": [
              "'Freios ABS'"
            ]
          },
          "metadata": {},
          "execution_count": 37
        }
      ]
    },
    {
      "cell_type": "code",
      "metadata": {
        "colab": {
          "base_uri": "https://localhost:8080/"
        },
        "id": "tRZpayHJ5MpU",
        "outputId": "efca4627-792b-483d-b168-48bb6e722a29"
      },
      "source": [
        "carros[0][-1][:2]"
      ],
      "execution_count": null,
      "outputs": [
        {
          "output_type": "execute_result",
          "data": {
            "text/plain": [
              "('Rodas de liga', 'Travas elétricas')"
            ]
          },
          "metadata": {},
          "execution_count": 38
        }
      ]
    },
    {
      "cell_type": "markdown",
      "metadata": {
        "id": "KLMxh4-0D0_c"
      },
      "source": [
        "# 2.3 Iterando em tuplas"
      ]
    },
    {
      "cell_type": "code",
      "metadata": {
        "id": "K53elKsYD0_c",
        "colab": {
          "base_uri": "https://localhost:8080/"
        },
        "outputId": "9fa7f0c7-30a4-4398-da5f-6de76a3581c1"
      },
      "source": [
        "nomes_carros = ('Jetta Variant', 'Passat', 'Crossfox', 'DS5')\n",
        "nomes_carros"
      ],
      "execution_count": null,
      "outputs": [
        {
          "output_type": "execute_result",
          "data": {
            "text/plain": [
              "('Jetta Variant', 'Passat', 'Crossfox', 'DS5')"
            ]
          },
          "metadata": {},
          "execution_count": 39
        }
      ]
    },
    {
      "cell_type": "code",
      "metadata": {
        "id": "igZhZ5zdD0_d",
        "colab": {
          "base_uri": "https://localhost:8080/"
        },
        "outputId": "74dbc85a-ee64-4ebf-ba0e-67310e8186a4"
      },
      "source": [
        "for item in nomes_carros:\n",
        "  print(item)"
      ],
      "execution_count": null,
      "outputs": [
        {
          "output_type": "stream",
          "name": "stdout",
          "text": [
            "Jetta Variant\n",
            "Passat\n",
            "Crossfox\n",
            "DS5\n"
          ]
        }
      ]
    },
    {
      "cell_type": "markdown",
      "metadata": {
        "id": "AOBjxBk8D0_f"
      },
      "source": [
        "### Desempacotamento de tuplas"
      ]
    },
    {
      "cell_type": "code",
      "metadata": {
        "id": "UoEFnumhD0_f",
        "colab": {
          "base_uri": "https://localhost:8080/"
        },
        "outputId": "72251daf-63e1-4c66-d316-9b50c8e06f06"
      },
      "source": [
        "nomes_carros = ('Jetta Variant', 'Passat', 'Crossfox', 'DS5')\n",
        "nomes_carros"
      ],
      "execution_count": null,
      "outputs": [
        {
          "output_type": "execute_result",
          "data": {
            "text/plain": [
              "('Jetta Variant', 'Passat', 'Crossfox', 'DS5')"
            ]
          },
          "metadata": {},
          "execution_count": 41
        }
      ]
    },
    {
      "cell_type": "code",
      "metadata": {
        "id": "AaCLcNYTD0_g"
      },
      "source": [
        "carro_1, carro_2, carro_3, carro_4 = nomes_carros"
      ],
      "execution_count": null,
      "outputs": []
    },
    {
      "cell_type": "code",
      "metadata": {
        "id": "TA71S9egD0_h",
        "colab": {
          "base_uri": "https://localhost:8080/",
          "height": 35
        },
        "outputId": "c4dfb8e6-c8d5-4838-e721-6d1bf34d932a"
      },
      "source": [
        "carro_1"
      ],
      "execution_count": null,
      "outputs": [
        {
          "output_type": "execute_result",
          "data": {
            "application/vnd.google.colaboratory.intrinsic+json": {
              "type": "string"
            },
            "text/plain": [
              "'Jetta Variant'"
            ]
          },
          "metadata": {},
          "execution_count": 43
        }
      ]
    },
    {
      "cell_type": "code",
      "metadata": {
        "id": "CHoJ034MD0_i",
        "colab": {
          "base_uri": "https://localhost:8080/",
          "height": 35
        },
        "outputId": "1039abc8-ea5e-4b5d-be44-5005c3287652"
      },
      "source": [
        "carro_2"
      ],
      "execution_count": null,
      "outputs": [
        {
          "output_type": "execute_result",
          "data": {
            "application/vnd.google.colaboratory.intrinsic+json": {
              "type": "string"
            },
            "text/plain": [
              "'Passat'"
            ]
          },
          "metadata": {},
          "execution_count": 44
        }
      ]
    },
    {
      "cell_type": "code",
      "metadata": {
        "id": "oxJrOuCSD0_j",
        "colab": {
          "base_uri": "https://localhost:8080/",
          "height": 35
        },
        "outputId": "9769a37a-0ed6-4fa4-eb28-dc7251f61607"
      },
      "source": [
        "carro_3"
      ],
      "execution_count": null,
      "outputs": [
        {
          "output_type": "execute_result",
          "data": {
            "application/vnd.google.colaboratory.intrinsic+json": {
              "type": "string"
            },
            "text/plain": [
              "'Crossfox'"
            ]
          },
          "metadata": {},
          "execution_count": 45
        }
      ]
    },
    {
      "cell_type": "code",
      "metadata": {
        "id": "BbR9sB4BD0_k",
        "colab": {
          "base_uri": "https://localhost:8080/",
          "height": 35
        },
        "outputId": "aa1dd995-0049-41ac-9d2a-3ce169fe6d7a"
      },
      "source": [
        "carro_4"
      ],
      "execution_count": null,
      "outputs": [
        {
          "output_type": "execute_result",
          "data": {
            "application/vnd.google.colaboratory.intrinsic+json": {
              "type": "string"
            },
            "text/plain": [
              "'DS5'"
            ]
          },
          "metadata": {},
          "execution_count": 48
        }
      ]
    },
    {
      "cell_type": "code",
      "metadata": {
        "id": "aZvokrjPD0_m"
      },
      "source": [
        "_, A, _, B = nomes_carros"
      ],
      "execution_count": null,
      "outputs": []
    },
    {
      "cell_type": "code",
      "metadata": {
        "id": "wZXDbVg0D0_o",
        "colab": {
          "base_uri": "https://localhost:8080/",
          "height": 35
        },
        "outputId": "732ede57-3fbe-419f-d1ab-e3aa4b7d461d"
      },
      "source": [
        "A"
      ],
      "execution_count": null,
      "outputs": [
        {
          "output_type": "execute_result",
          "data": {
            "application/vnd.google.colaboratory.intrinsic+json": {
              "type": "string"
            },
            "text/plain": [
              "'Passat'"
            ]
          },
          "metadata": {},
          "execution_count": 50
        }
      ]
    },
    {
      "cell_type": "code",
      "metadata": {
        "id": "aWgDMBXiD0_p",
        "colab": {
          "base_uri": "https://localhost:8080/",
          "height": 35
        },
        "outputId": "cb7d823d-afcf-4abe-c0cd-e9c4a904628d"
      },
      "source": [
        "B"
      ],
      "execution_count": null,
      "outputs": [
        {
          "output_type": "execute_result",
          "data": {
            "application/vnd.google.colaboratory.intrinsic+json": {
              "type": "string"
            },
            "text/plain": [
              "'DS5'"
            ]
          },
          "metadata": {},
          "execution_count": 51
        }
      ]
    },
    {
      "cell_type": "code",
      "metadata": {
        "id": "OdpgNh-ND0_q"
      },
      "source": [
        "_, C, *_ = nomes_carros"
      ],
      "execution_count": null,
      "outputs": []
    },
    {
      "cell_type": "code",
      "metadata": {
        "id": "upVYFnMdD0_r",
        "colab": {
          "base_uri": "https://localhost:8080/",
          "height": 35
        },
        "outputId": "11589eb0-6a79-40c5-8b5d-3fcda4ba42a3"
      },
      "source": [
        "C"
      ],
      "execution_count": null,
      "outputs": [
        {
          "output_type": "execute_result",
          "data": {
            "application/vnd.google.colaboratory.intrinsic+json": {
              "type": "string"
            },
            "text/plain": [
              "'Passat'"
            ]
          },
          "metadata": {},
          "execution_count": 53
        }
      ]
    },
    {
      "cell_type": "markdown",
      "metadata": {
        "id": "u85Aou8WD0_s"
      },
      "source": [
        "## *zip()*\n",
        "\n",
        "https://docs.python.org/3.6/library/functions.html#zip"
      ]
    },
    {
      "cell_type": "code",
      "metadata": {
        "id": "PaC2oXGED0_t",
        "colab": {
          "base_uri": "https://localhost:8080/"
        },
        "outputId": "ec1f9a60-cbd8-4bf0-a425-f38a4b054a40"
      },
      "source": [
        "carros = ['Jetta Variant', 'Passat', 'Crossfox', 'DS5']\n",
        "carros"
      ],
      "execution_count": null,
      "outputs": [
        {
          "output_type": "execute_result",
          "data": {
            "text/plain": [
              "['Jetta Variant', 'Passat', 'Crossfox', 'DS5']"
            ]
          },
          "metadata": {},
          "execution_count": 54
        }
      ]
    },
    {
      "cell_type": "code",
      "metadata": {
        "id": "_02O1VnHD0_u",
        "colab": {
          "base_uri": "https://localhost:8080/"
        },
        "outputId": "39b01afe-b071-477c-df37-892bc7709fee"
      },
      "source": [
        "valores = [88078.64, 106161.94, 72832.16, 124549.07]\n",
        "valores"
      ],
      "execution_count": null,
      "outputs": [
        {
          "output_type": "execute_result",
          "data": {
            "text/plain": [
              "[88078.64, 106161.94, 72832.16, 124549.07]"
            ]
          },
          "metadata": {},
          "execution_count": 55
        }
      ]
    },
    {
      "cell_type": "code",
      "metadata": {
        "id": "roQK5nYRD0_v",
        "colab": {
          "base_uri": "https://localhost:8080/"
        },
        "outputId": "92addbb0-1316-4756-839a-ba6a87b2a8f5"
      },
      "source": [
        "list(zip(carros, valores))"
      ],
      "execution_count": null,
      "outputs": [
        {
          "output_type": "execute_result",
          "data": {
            "text/plain": [
              "[('Jetta Variant', 88078.64),\n",
              " ('Passat', 106161.94),\n",
              " ('Crossfox', 72832.16),\n",
              " ('DS5', 124549.07)]"
            ]
          },
          "metadata": {},
          "execution_count": 57
        }
      ]
    },
    {
      "cell_type": "code",
      "metadata": {
        "id": "_WRxIRHrD0_w",
        "colab": {
          "base_uri": "https://localhost:8080/"
        },
        "outputId": "8d55fc9e-2f2d-4431-db4c-bf6566c22615"
      },
      "source": [
        "for item in zip(carros, valores):\n",
        "  print(item)"
      ],
      "execution_count": null,
      "outputs": [
        {
          "output_type": "stream",
          "name": "stdout",
          "text": [
            "('Jetta Variant', 88078.64)\n",
            "('Passat', 106161.94)\n",
            "('Crossfox', 72832.16)\n",
            "('DS5', 124549.07)\n"
          ]
        }
      ]
    },
    {
      "cell_type": "code",
      "metadata": {
        "id": "2zIuhIILD0_x",
        "colab": {
          "base_uri": "https://localhost:8080/"
        },
        "outputId": "882204e7-098a-4a64-d272-98cb9742b611"
      },
      "source": [
        "for carro, valor in zip(carros, valores):\n",
        "  print(carro, ':', valor)"
      ],
      "execution_count": null,
      "outputs": [
        {
          "output_type": "stream",
          "name": "stdout",
          "text": [
            "Jetta Variant : 88078.64\n",
            "Passat : 106161.94\n",
            "Crossfox : 72832.16\n",
            "DS5 : 124549.07\n"
          ]
        }
      ]
    },
    {
      "cell_type": "code",
      "metadata": {
        "id": "ZJaL62IpD0_y",
        "colab": {
          "base_uri": "https://localhost:8080/"
        },
        "outputId": "80840ed0-9fcb-49c4-9221-129e9f1ca600"
      },
      "source": [
        "for carro, valor in zip(carros, valores):\n",
        "  if(valor > 100000):\n",
        "    print(carro)"
      ],
      "execution_count": null,
      "outputs": [
        {
          "output_type": "stream",
          "name": "stdout",
          "text": [
            "Passat\n",
            "DS5\n"
          ]
        }
      ]
    },
    {
      "cell_type": "markdown",
      "metadata": {
        "id": "wdOGMh-qDf1x"
      },
      "source": [
        "## Exercício: Laços for com tuplas"
      ]
    },
    {
      "cell_type": "code",
      "metadata": {
        "id": "M4Ut5mz0Dnch"
      },
      "source": [
        "carros = (\n",
        "    (\n",
        "        'Jetta Variant',\n",
        "        'Motor 4.0 Turbo',\n",
        "        2003,\n",
        "        False,\n",
        "        ('Rodas de liga', 'Travas elétricas', 'Piloto automático')\n",
        "    ),\n",
        "    (\n",
        "        'Passat',\n",
        "        'Motor Diesel',\n",
        "        1991,\n",
        "        True,\n",
        "        ('Central multimídia', 'Teto panorâmico', 'Freios ABS')\n",
        "    )\n",
        ")"
      ],
      "execution_count": null,
      "outputs": []
    },
    {
      "cell_type": "code",
      "metadata": {
        "colab": {
          "base_uri": "https://localhost:8080/"
        },
        "id": "qMVvdiRQDnys",
        "outputId": "32b7e76a-eb50-439f-ef4a-95c38794ef87"
      },
      "source": [
        "carros"
      ],
      "execution_count": null,
      "outputs": [
        {
          "output_type": "execute_result",
          "data": {
            "text/plain": [
              "(('Jetta Variant',\n",
              "  'Motor 4.0 Turbo',\n",
              "  2003,\n",
              "  False,\n",
              "  ('Rodas de liga', 'Travas elétricas', 'Piloto automático')),\n",
              " ('Passat',\n",
              "  'Motor Diesel',\n",
              "  1991,\n",
              "  True,\n",
              "  ('Central multimídia', 'Teto panorâmico', 'Freios ABS')))"
            ]
          },
          "metadata": {},
          "execution_count": 62
        }
      ]
    },
    {
      "cell_type": "code",
      "metadata": {
        "colab": {
          "base_uri": "https://localhost:8080/"
        },
        "id": "f5POYr6yDn2D",
        "outputId": "c596415a-bbb3-4c83-9d49-490b1a2d4bb6"
      },
      "source": [
        "for tupla in carros:\n",
        "  for item in tupla[-1]:\n",
        "    print(item)"
      ],
      "execution_count": null,
      "outputs": [
        {
          "output_type": "stream",
          "name": "stdout",
          "text": [
            "Rodas de liga\n",
            "Travas elétricas\n",
            "Piloto automático\n",
            "Central multimídia\n",
            "Teto panorâmico\n",
            "Freios ABS\n"
          ]
        }
      ]
    },
    {
      "cell_type": "markdown",
      "metadata": {
        "id": "Mc0mGvoTEwuR"
      },
      "source": [
        "## Exercício: Função zip()"
      ]
    },
    {
      "cell_type": "code",
      "metadata": {
        "id": "3_CBCaP4E3S5"
      },
      "source": [
        "nomes = ['Passat', 'Crossfox', 'DS5', 'C4', 'Jetta']"
      ],
      "execution_count": null,
      "outputs": []
    },
    {
      "cell_type": "code",
      "metadata": {
        "id": "YCK2PWciE4MQ"
      },
      "source": [
        "kms = [15000, 12000, 32000, 8000, 50000]"
      ],
      "execution_count": null,
      "outputs": []
    },
    {
      "cell_type": "code",
      "metadata": {
        "colab": {
          "base_uri": "https://localhost:8080/"
        },
        "id": "cXh5i9z7E3us",
        "outputId": "c73a0259-2fdb-46a3-d3fc-01ad418b22ab"
      },
      "source": [
        "list(zip(nomes, kms))"
      ],
      "execution_count": null,
      "outputs": [
        {
          "output_type": "execute_result",
          "data": {
            "text/plain": [
              "[('Passat', 15000),\n",
              " ('Crossfox', 12000),\n",
              " ('DS5', 32000),\n",
              " ('C4', 8000),\n",
              " ('Jetta', 50000)]"
            ]
          },
          "metadata": {},
          "execution_count": 79
        }
      ]
    },
    {
      "cell_type": "code",
      "metadata": {
        "colab": {
          "base_uri": "https://localhost:8080/"
        },
        "id": "aVMZcvjUE_cv",
        "outputId": "a2ff8743-60f3-401a-e200-9b9aecde6931"
      },
      "source": [
        "for nome, km in zip(nomes, kms):\n",
        "  if(km < 20000):\n",
        "    print(nome)"
      ],
      "execution_count": null,
      "outputs": [
        {
          "output_type": "stream",
          "name": "stdout",
          "text": [
            "Passat\n",
            "Crossfox\n",
            "C4\n"
          ]
        }
      ]
    },
    {
      "cell_type": "code",
      "metadata": {
        "id": "SfbPoLg4E_hz"
      },
      "source": [
        ""
      ],
      "execution_count": null,
      "outputs": []
    },
    {
      "cell_type": "code",
      "metadata": {
        "id": "TZD-e7SuE_kR"
      },
      "source": [
        ""
      ],
      "execution_count": null,
      "outputs": []
    },
    {
      "cell_type": "markdown",
      "metadata": {
        "id": "xo76nR8rD0_0"
      },
      "source": [
        "# <font color=green> 3. TRABALHANDO COM DICIONÁRIOS\n",
        "---"
      ]
    },
    {
      "cell_type": "markdown",
      "metadata": {
        "id": "wfWzOuztD0_0"
      },
      "source": [
        "# 3.1 Criando dicionários\n",
        "\n",
        "Listas são coleções sequenciais, isto é, os itens destas sequências estão ordenados e utilizam índices (números inteiros) para acessar os valores.\n",
        "\n",
        "Os dicionários são coleções um pouco diferentes. São estruturas de dados que representam um tipo de mapeamento. Mapeamentos são coleções de associações entre pares de valores onde o primeiro elemento do par é conhecido como chave (*key*) e o segundo como valor (*value*).\n",
        "\n",
        "```\n",
        "dicionario = {key_1: value_1, key_2: value_2, ..., key_n: value_n}\n",
        "```\n",
        "\n",
        "https://docs.python.org/3.6/library/stdtypes.html#typesmapping"
      ]
    },
    {
      "cell_type": "code",
      "metadata": {
        "id": "YIFVkWT6D0_1",
        "colab": {
          "base_uri": "https://localhost:8080/"
        },
        "outputId": "af973d31-1f89-4cc9-dd2b-43ae5137ce68"
      },
      "source": [
        "carros = ['Jetta Variant', 'Passat', 'Crossfox']\n",
        "carros"
      ],
      "execution_count": null,
      "outputs": [
        {
          "output_type": "execute_result",
          "data": {
            "text/plain": [
              "['Jetta Variant', 'Passat', 'Crossfox']"
            ]
          },
          "metadata": {},
          "execution_count": 4
        }
      ]
    },
    {
      "cell_type": "code",
      "metadata": {
        "id": "2LHiBn3-D0_2",
        "colab": {
          "base_uri": "https://localhost:8080/"
        },
        "outputId": "38339836-aa29-470f-80ef-0e2fc0553abf"
      },
      "source": [
        "valores = [88078.64, 106161.94, 72832.16]\n",
        "valores"
      ],
      "execution_count": null,
      "outputs": [
        {
          "output_type": "execute_result",
          "data": {
            "text/plain": [
              "[88078.64, 106161.94, 72832.16]"
            ]
          },
          "metadata": {},
          "execution_count": 5
        }
      ]
    },
    {
      "cell_type": "code",
      "metadata": {
        "id": "SuPcV9v6D0_0",
        "colab": {
          "base_uri": "https://localhost:8080/"
        },
        "outputId": "f2a47b18-4d9e-48e9-8d7f-43dbafb5aef3"
      },
      "source": [
        "carros.index('Passat')"
      ],
      "execution_count": null,
      "outputs": [
        {
          "output_type": "execute_result",
          "data": {
            "text/plain": [
              "1"
            ]
          },
          "metadata": {},
          "execution_count": 6
        }
      ]
    },
    {
      "cell_type": "code",
      "metadata": {
        "id": "YxLAx_sqD0_4",
        "colab": {
          "base_uri": "https://localhost:8080/"
        },
        "outputId": "fa00ed6a-4736-4d72-8633-98ba96472fca"
      },
      "source": [
        "valores[carros.index('Passat')]"
      ],
      "execution_count": null,
      "outputs": [
        {
          "output_type": "execute_result",
          "data": {
            "text/plain": [
              "106161.94"
            ]
          },
          "metadata": {},
          "execution_count": 7
        }
      ]
    },
    {
      "cell_type": "code",
      "metadata": {
        "id": "WITNWExID0_7",
        "colab": {
          "base_uri": "https://localhost:8080/"
        },
        "outputId": "62f3dbdf-055f-47c5-f2fa-e8b37b97d814"
      },
      "source": [
        "dados = {'Jetta Variant': 88078.64, 'Passat': 106161.94, 'Crossfox': 72832.16 }\n",
        "dados"
      ],
      "execution_count": null,
      "outputs": [
        {
          "output_type": "execute_result",
          "data": {
            "text/plain": [
              "{'Crossfox': 72832.16, 'Jetta Variant': 88078.64, 'Passat': 106161.94}"
            ]
          },
          "metadata": {},
          "execution_count": 9
        }
      ]
    },
    {
      "cell_type": "code",
      "metadata": {
        "id": "bHNqoDbTD0_8",
        "colab": {
          "base_uri": "https://localhost:8080/"
        },
        "outputId": "54c56ecb-41b2-4f99-9d85-7ffd32c1f8f3"
      },
      "source": [
        "type(dados)"
      ],
      "execution_count": null,
      "outputs": [
        {
          "output_type": "execute_result",
          "data": {
            "text/plain": [
              "dict"
            ]
          },
          "metadata": {},
          "execution_count": 10
        }
      ]
    },
    {
      "cell_type": "markdown",
      "metadata": {
        "id": "PQg-MLkGD0_-"
      },
      "source": [
        "### Criando dicionários com *zip()*"
      ]
    },
    {
      "cell_type": "code",
      "metadata": {
        "id": "4FyQgmcAD0_9",
        "colab": {
          "base_uri": "https://localhost:8080/"
        },
        "outputId": "a2397d1f-b18a-496c-8e6b-5ec410ea2634"
      },
      "source": [
        "list(zip(carros, valores))"
      ],
      "execution_count": null,
      "outputs": [
        {
          "output_type": "execute_result",
          "data": {
            "text/plain": [
              "[('Jetta Variant', 88078.64), ('Passat', 106161.94), ('Crossfox', 72832.16)]"
            ]
          },
          "metadata": {},
          "execution_count": 14
        }
      ]
    },
    {
      "cell_type": "code",
      "metadata": {
        "id": "iB4Q_gbND0__",
        "colab": {
          "base_uri": "https://localhost:8080/"
        },
        "outputId": "e114ba18-528e-4e1c-c3ed-14d7bc94f2ac"
      },
      "source": [
        "dados = dict(zip(carros, valores))\n",
        "dados"
      ],
      "execution_count": null,
      "outputs": [
        {
          "output_type": "execute_result",
          "data": {
            "text/plain": [
              "{'Crossfox': 72832.16, 'Jetta Variant': 88078.64, 'Passat': 106161.94}"
            ]
          },
          "metadata": {},
          "execution_count": 16
        }
      ]
    },
    {
      "cell_type": "markdown",
      "metadata": {
        "id": "_5YOEeItEEo8"
      },
      "source": [
        "## Forma simples de criação de dicionários:"
      ]
    },
    {
      "cell_type": "code",
      "metadata": {
        "id": "akZhfdouELQL"
      },
      "source": [
        "nomes = ['Passat', 'Crossfox', 'DS5', 'C4', 'Jetta']\n",
        "kms = [15000, 12000, 32000, 8000, 50000]"
      ],
      "execution_count": null,
      "outputs": []
    },
    {
      "cell_type": "code",
      "metadata": {
        "colab": {
          "base_uri": "https://localhost:8080/"
        },
        "id": "HMinHt5REOpj",
        "outputId": "21f4707e-9eef-440b-b50d-82088dbd0a50"
      },
      "source": [
        "simples = dict(zip(nomes, kms))\n",
        "simples"
      ],
      "execution_count": null,
      "outputs": [
        {
          "output_type": "execute_result",
          "data": {
            "text/plain": [
              "{'C4': 8000, 'Crossfox': 12000, 'DS5': 32000, 'Jetta': 50000, 'Passat': 15000}"
            ]
          },
          "metadata": {},
          "execution_count": 19
        }
      ]
    },
    {
      "cell_type": "markdown",
      "metadata": {
        "id": "KYeRqavFD1AD"
      },
      "source": [
        "# 3.2 Operações com dicionários"
      ]
    },
    {
      "cell_type": "code",
      "metadata": {
        "colab": {
          "base_uri": "https://localhost:8080/"
        },
        "id": "rBSvJ-URExWJ",
        "outputId": "0d4938b2-1ef7-41d0-b714-0942fc3b0294"
      },
      "source": [
        "dados = {'Jetta Variant': 88078.64, 'Passat': 106161.94, 'Crossfox': 72832.16 }\n",
        "dados"
      ],
      "execution_count": null,
      "outputs": [
        {
          "output_type": "execute_result",
          "data": {
            "text/plain": [
              "{'Crossfox': 72832.16, 'Jetta Variant': 88078.64, 'Passat': 106161.94}"
            ]
          },
          "metadata": {},
          "execution_count": 49
        }
      ]
    },
    {
      "cell_type": "markdown",
      "metadata": {
        "id": "KzmWbEltD1AD"
      },
      "source": [
        "## *dict[ key ]*\n",
        "\n",
        "Retorna o valor correspondente à chave (*key*) no dicionário."
      ]
    },
    {
      "cell_type": "code",
      "metadata": {
        "id": "hFFDz6wKD1AD",
        "colab": {
          "base_uri": "https://localhost:8080/"
        },
        "outputId": "e383cc86-9de1-4e92-b627-1506a475cb88"
      },
      "source": [
        "dados['Passat']"
      ],
      "execution_count": null,
      "outputs": [
        {
          "output_type": "execute_result",
          "data": {
            "text/plain": [
              "106161.94"
            ]
          },
          "metadata": {},
          "execution_count": 25
        }
      ]
    },
    {
      "cell_type": "markdown",
      "metadata": {
        "id": "SWlE6VTBD1AE"
      },
      "source": [
        "## *key in dict*\n",
        "\n",
        "Retorna **True** se a chave (*key*) for encontrada no dicionário."
      ]
    },
    {
      "cell_type": "code",
      "metadata": {
        "id": "Iy88SxBtD1AE",
        "colab": {
          "base_uri": "https://localhost:8080/"
        },
        "outputId": "6c55c90e-3d0c-4964-d71e-b339548f9df4"
      },
      "source": [
        "'Passat' in dados"
      ],
      "execution_count": null,
      "outputs": [
        {
          "output_type": "execute_result",
          "data": {
            "text/plain": [
              "True"
            ]
          },
          "metadata": {},
          "execution_count": 26
        }
      ]
    },
    {
      "cell_type": "code",
      "metadata": {
        "id": "Oma56NkAD1AF",
        "colab": {
          "base_uri": "https://localhost:8080/"
        },
        "outputId": "aaf95d89-1bf0-4a52-82d7-f05b022369bb"
      },
      "source": [
        "'Palio' in dados"
      ],
      "execution_count": null,
      "outputs": [
        {
          "output_type": "execute_result",
          "data": {
            "text/plain": [
              "False"
            ]
          },
          "metadata": {},
          "execution_count": 27
        }
      ]
    },
    {
      "cell_type": "code",
      "metadata": {
        "id": "yS2U-_8gD1AG",
        "colab": {
          "base_uri": "https://localhost:8080/"
        },
        "outputId": "b888b4ba-d92b-4f0d-8672-ac3d72e4de5e"
      },
      "source": [
        "'Palio' not in dados"
      ],
      "execution_count": null,
      "outputs": [
        {
          "output_type": "execute_result",
          "data": {
            "text/plain": [
              "True"
            ]
          },
          "metadata": {},
          "execution_count": 28
        }
      ]
    },
    {
      "cell_type": "markdown",
      "metadata": {
        "id": "oWbWyDd0D1AI"
      },
      "source": [
        "## *len(dict)*\n",
        "\n",
        "Retorna o número de itens do dicionário."
      ]
    },
    {
      "cell_type": "code",
      "metadata": {
        "id": "k08YkCc1D1AJ",
        "colab": {
          "base_uri": "https://localhost:8080/"
        },
        "outputId": "e06e440a-2270-4770-fcbf-6f5c7cd8d202"
      },
      "source": [
        "len(dados)"
      ],
      "execution_count": null,
      "outputs": [
        {
          "output_type": "execute_result",
          "data": {
            "text/plain": [
              "3"
            ]
          },
          "metadata": {},
          "execution_count": 29
        }
      ]
    },
    {
      "cell_type": "markdown",
      "metadata": {
        "id": "yYNqIHJBD1AK"
      },
      "source": [
        "## *dict[ key ] = value*\n",
        "\n",
        "Inclui um item ao dicionário."
      ]
    },
    {
      "cell_type": "code",
      "metadata": {
        "id": "5jj3i52bD1AK"
      },
      "source": [
        "dados['DS5'] = 124549.07"
      ],
      "execution_count": null,
      "outputs": []
    },
    {
      "cell_type": "code",
      "metadata": {
        "id": "y6rso5hLD1AL",
        "colab": {
          "base_uri": "https://localhost:8080/"
        },
        "outputId": "bd58ea39-c908-4a1b-86a8-91d7c0290e61"
      },
      "source": [
        "dados"
      ],
      "execution_count": null,
      "outputs": [
        {
          "output_type": "execute_result",
          "data": {
            "text/plain": [
              "{'Crossfox': 72832.16,\n",
              " 'DS5': 124549.07,\n",
              " 'Jetta Variant': 88078.64,\n",
              " 'Passat': 106161.94}"
            ]
          },
          "metadata": {},
          "execution_count": 51
        }
      ]
    },
    {
      "cell_type": "markdown",
      "metadata": {
        "id": "_z0JySuqD1AL"
      },
      "source": [
        "## *del dict[ key ]*\n",
        "\n",
        "Remove o item de chave (*key*) do dicionário."
      ]
    },
    {
      "cell_type": "code",
      "metadata": {
        "id": "PPfh6sfID1AM",
        "colab": {
          "base_uri": "https://localhost:8080/"
        },
        "outputId": "46899656-8675-4f00-ac0b-62abe7e2a0b9"
      },
      "source": [
        "dados"
      ],
      "execution_count": null,
      "outputs": [
        {
          "output_type": "execute_result",
          "data": {
            "text/plain": [
              "{'Crossfox': 72832.16,\n",
              " 'DS5': 124549.07,\n",
              " 'Jetta Variant': 88078.64,\n",
              " 'Passat': 106161.94}"
            ]
          },
          "metadata": {},
          "execution_count": 52
        }
      ]
    },
    {
      "cell_type": "code",
      "metadata": {
        "id": "BtjGpXtGD1AN",
        "colab": {
          "base_uri": "https://localhost:8080/"
        },
        "outputId": "327fd863-0d5b-4a4d-c81d-7743402daea9"
      },
      "source": [
        "del dados ['Passat']\n",
        "dados"
      ],
      "execution_count": null,
      "outputs": [
        {
          "output_type": "execute_result",
          "data": {
            "text/plain": [
              "{'Crossfox': 72832.16, 'DS5': 124549.07, 'Jetta Variant': 88078.64}"
            ]
          },
          "metadata": {},
          "execution_count": 53
        }
      ]
    },
    {
      "cell_type": "markdown",
      "metadata": {
        "id": "b-CTY8Q0KjiS"
      },
      "source": [
        "## Exercício: Operações básicas com Dicionários."
      ]
    },
    {
      "cell_type": "code",
      "metadata": {
        "id": "CVEK123JKqmA"
      },
      "source": [
        "dados = {\n",
        "    'Passat': {\n",
        "        'ano': 2012,\n",
        "        'km': 50000,\n",
        "        'valor': 75000,\n",
        "        'acessorios': ['Airbag', 'ABS']\n",
        "    }, \n",
        "    'Crossfox': {\n",
        "        'ano': 2015,\n",
        "        'km': 35000,\n",
        "        'valor': 25000\n",
        "    }\n",
        "}"
      ],
      "execution_count": null,
      "outputs": []
    },
    {
      "cell_type": "code",
      "metadata": {
        "colab": {
          "base_uri": "https://localhost:8080/"
        },
        "id": "WuBdEHJXKqvW",
        "outputId": "b7002a84-94d4-4016-82dc-dee5f588145c"
      },
      "source": [
        "'acessorios' in dados['Crossfox']"
      ],
      "execution_count": null,
      "outputs": [
        {
          "output_type": "execute_result",
          "data": {
            "text/plain": [
              "False"
            ]
          },
          "metadata": {},
          "execution_count": 39
        }
      ]
    },
    {
      "cell_type": "code",
      "metadata": {
        "colab": {
          "base_uri": "https://localhost:8080/"
        },
        "id": "w3t5qyWCKq3e",
        "outputId": "2e189ece-1cfe-4653-949e-9c4eb61acdc5"
      },
      "source": [
        "'acessorios' in dados['Passat']"
      ],
      "execution_count": null,
      "outputs": [
        {
          "output_type": "execute_result",
          "data": {
            "text/plain": [
              "True"
            ]
          },
          "metadata": {},
          "execution_count": 40
        }
      ]
    },
    {
      "cell_type": "code",
      "metadata": {
        "colab": {
          "base_uri": "https://localhost:8080/"
        },
        "id": "xqgVwrHWKq_e",
        "outputId": "1a7cb679-1403-4d30-eb2e-b656bb3b2db0"
      },
      "source": [
        "dados['Crossfox']['valor']"
      ],
      "execution_count": null,
      "outputs": [
        {
          "output_type": "execute_result",
          "data": {
            "text/plain": [
              "25000"
            ]
          },
          "metadata": {},
          "execution_count": 45
        }
      ]
    },
    {
      "cell_type": "code",
      "metadata": {
        "colab": {
          "base_uri": "https://localhost:8080/",
          "height": 35
        },
        "id": "SfNXrEtuKrGW",
        "outputId": "96c7ca09-3206-4ae3-f44f-fdf1604c9066"
      },
      "source": [
        "dados['Passat']['acessorios'][-1]"
      ],
      "execution_count": null,
      "outputs": [
        {
          "output_type": "execute_result",
          "data": {
            "application/vnd.google.colaboratory.intrinsic+json": {
              "type": "string"
            },
            "text/plain": [
              "'ABS'"
            ]
          },
          "metadata": {},
          "execution_count": 46
        }
      ]
    },
    {
      "cell_type": "markdown",
      "metadata": {
        "id": "FodJVx5sD1AP"
      },
      "source": [
        "# 3.3 Métodos de dicionários"
      ]
    },
    {
      "cell_type": "markdown",
      "metadata": {
        "id": "7pqdPOkYD1AP"
      },
      "source": [
        "## *dict.update()*\n",
        "\n",
        "Atualiza o dicionário."
      ]
    },
    {
      "cell_type": "code",
      "metadata": {
        "id": "DUySYxKQD1AQ",
        "colab": {
          "base_uri": "https://localhost:8080/"
        },
        "outputId": "28486898-ea73-43ea-9e3f-4a39ee209512"
      },
      "source": [
        "dados"
      ],
      "execution_count": null,
      "outputs": [
        {
          "output_type": "execute_result",
          "data": {
            "text/plain": [
              "{'Crossfox': 72832.16, 'DS5': 124549.07, 'Jetta Variant': 88078.64}"
            ]
          },
          "metadata": {},
          "execution_count": 54
        }
      ]
    },
    {
      "cell_type": "code",
      "metadata": {
        "id": "DLsqp71cD1AR",
        "colab": {
          "base_uri": "https://localhost:8080/"
        },
        "outputId": "d57ab09a-6d36-4ec3-dc84-aae93e12d1a7"
      },
      "source": [
        "dados.update({'Passat': 106161.94})\n",
        "dados"
      ],
      "execution_count": null,
      "outputs": [
        {
          "output_type": "execute_result",
          "data": {
            "text/plain": [
              "{'Crossfox': 72832.16,\n",
              " 'DS5': 124549.07,\n",
              " 'Jetta Variant': 88078.64,\n",
              " 'Passat': 106161.94}"
            ]
          },
          "metadata": {},
          "execution_count": 56
        }
      ]
    },
    {
      "cell_type": "code",
      "metadata": {
        "colab": {
          "base_uri": "https://localhost:8080/"
        },
        "id": "Ghv1WuvCOT82",
        "outputId": "be920927-efeb-4279-fdaa-f5a9bba64048"
      },
      "source": [
        "dados.update({'Passat': 106161.95, 'Fusca': 150000.00})\n",
        "dados"
      ],
      "execution_count": null,
      "outputs": [
        {
          "output_type": "execute_result",
          "data": {
            "text/plain": [
              "{'Crossfox': 72832.16,\n",
              " 'DS5': 124549.07,\n",
              " 'Fusca': 150000.0,\n",
              " 'Jetta Variant': 88078.64,\n",
              " 'Passat': 106161.95}"
            ]
          },
          "metadata": {},
          "execution_count": 57
        }
      ]
    },
    {
      "cell_type": "markdown",
      "metadata": {
        "id": "JLs5c0DeD1AR"
      },
      "source": [
        "## *dict.copy()*\n",
        "\n",
        "Cria uma cópia do dicionário."
      ]
    },
    {
      "cell_type": "code",
      "metadata": {
        "id": "X9F7OB3eD1AS"
      },
      "source": [
        "dadosCopy = dados.copy()"
      ],
      "execution_count": null,
      "outputs": []
    },
    {
      "cell_type": "code",
      "metadata": {
        "id": "v0rL0bveD1AS",
        "colab": {
          "base_uri": "https://localhost:8080/"
        },
        "outputId": "664fac3a-0c1d-4c4a-bda2-eb791914ff6b"
      },
      "source": [
        "dadosCopy"
      ],
      "execution_count": null,
      "outputs": [
        {
          "output_type": "execute_result",
          "data": {
            "text/plain": [
              "{'Crossfox': 72832.16,\n",
              " 'DS5': 124549.07,\n",
              " 'Fusca': 150000.0,\n",
              " 'Jetta Variant': 88078.64,\n",
              " 'Passat': 106161.95}"
            ]
          },
          "metadata": {},
          "execution_count": 60
        }
      ]
    },
    {
      "cell_type": "code",
      "metadata": {
        "id": "M-abRGGrD1AT",
        "colab": {
          "base_uri": "https://localhost:8080/"
        },
        "outputId": "2019ae02-fac6-41e3-8a79-98d1213392ea"
      },
      "source": [
        "del dadosCopy['Fusca']\n",
        "dadosCopy"
      ],
      "execution_count": null,
      "outputs": [
        {
          "output_type": "execute_result",
          "data": {
            "text/plain": [
              "{'Crossfox': 72832.16,\n",
              " 'DS5': 124549.07,\n",
              " 'Jetta Variant': 88078.64,\n",
              " 'Passat': 106161.95}"
            ]
          },
          "metadata": {},
          "execution_count": 61
        }
      ]
    },
    {
      "cell_type": "code",
      "metadata": {
        "id": "ETBD0TkND1AU",
        "colab": {
          "base_uri": "https://localhost:8080/"
        },
        "outputId": "7ae4edc0-494b-458b-8f48-e608e383fde0"
      },
      "source": [
        "dados"
      ],
      "execution_count": null,
      "outputs": [
        {
          "output_type": "execute_result",
          "data": {
            "text/plain": [
              "{'Crossfox': 72832.16,\n",
              " 'DS5': 124549.07,\n",
              " 'Fusca': 150000.0,\n",
              " 'Jetta Variant': 88078.64,\n",
              " 'Passat': 106161.95}"
            ]
          },
          "metadata": {},
          "execution_count": 62
        }
      ]
    },
    {
      "cell_type": "markdown",
      "metadata": {
        "id": "mNODkmHCD1AV"
      },
      "source": [
        "## *dict.pop(key[, default ])*\n",
        "\n",
        "Se a chave for encontrada no dicionário, o item é removido e seu valor é retornado. Caso contrário, o valor especificado como *default* é retornado. Se o valor *default* não for fornecido e a chave não for encontrada no dicionário um erro será gerado."
      ]
    },
    {
      "cell_type": "code",
      "metadata": {
        "id": "_4QEPwScD1AW",
        "colab": {
          "base_uri": "https://localhost:8080/"
        },
        "outputId": "4c084a16-13bb-4b18-f1d5-5f66d235137c"
      },
      "source": [
        "dadosCopy.pop('Passat')"
      ],
      "execution_count": null,
      "outputs": [
        {
          "output_type": "execute_result",
          "data": {
            "text/plain": [
              "106161.95"
            ]
          },
          "metadata": {},
          "execution_count": 65
        }
      ]
    },
    {
      "cell_type": "code",
      "metadata": {
        "id": "Hjh0MuymD1AX",
        "colab": {
          "base_uri": "https://localhost:8080/"
        },
        "outputId": "1d6106c9-2bcb-4b47-9e41-4e2ce3d08d2f"
      },
      "source": [
        "dadosCopy"
      ],
      "execution_count": null,
      "outputs": [
        {
          "output_type": "execute_result",
          "data": {
            "text/plain": [
              "{'Crossfox': 72832.16, 'DS5': 124549.07, 'Jetta Variant': 88078.64}"
            ]
          },
          "metadata": {},
          "execution_count": 66
        }
      ]
    },
    {
      "cell_type": "code",
      "metadata": {
        "id": "f51rKjkuD1AX"
      },
      "source": [
        "# dadosCopy.pop('Passat')"
      ],
      "execution_count": null,
      "outputs": []
    },
    {
      "cell_type": "code",
      "metadata": {
        "id": "Ah4sZ7axD1AZ",
        "colab": {
          "base_uri": "https://localhost:8080/",
          "height": 35
        },
        "outputId": "b2b91976-61ba-4937-e7ee-da612aaa97b4"
      },
      "source": [
        "dadosCopy.pop('Passat', 'Chave não encontrada')"
      ],
      "execution_count": null,
      "outputs": [
        {
          "output_type": "execute_result",
          "data": {
            "application/vnd.google.colaboratory.intrinsic+json": {
              "type": "string"
            },
            "text/plain": [
              "'Chave não encontrada'"
            ]
          },
          "metadata": {},
          "execution_count": 69
        }
      ]
    },
    {
      "cell_type": "code",
      "metadata": {
        "id": "SJATRY8RD1Aa",
        "colab": {
          "base_uri": "https://localhost:8080/"
        },
        "outputId": "a545fd95-7d30-4454-abe1-55e1c136e55c"
      },
      "source": [
        "dadosCopy.pop('DS5', 'Chave não encontrada')"
      ],
      "execution_count": null,
      "outputs": [
        {
          "output_type": "execute_result",
          "data": {
            "text/plain": [
              "124549.07"
            ]
          },
          "metadata": {},
          "execution_count": 70
        }
      ]
    },
    {
      "cell_type": "code",
      "metadata": {
        "id": "V36wHdzmD1Ab",
        "colab": {
          "base_uri": "https://localhost:8080/"
        },
        "outputId": "331c5c87-97c5-4d59-d4fe-1ff9fcd606c5"
      },
      "source": [
        "dadosCopy"
      ],
      "execution_count": null,
      "outputs": [
        {
          "output_type": "execute_result",
          "data": {
            "text/plain": [
              "{'Crossfox': 72832.16, 'Jetta Variant': 88078.64}"
            ]
          },
          "metadata": {},
          "execution_count": 71
        }
      ]
    },
    {
      "cell_type": "markdown",
      "metadata": {
        "id": "Q5J0R7d3D1Ag"
      },
      "source": [
        "## *dict.clear()*\n",
        "\n",
        "Remove todos os itens do dicionário."
      ]
    },
    {
      "cell_type": "code",
      "metadata": {
        "id": "AvkP_8mND1Ag"
      },
      "source": [
        "dadosCopy.clear()"
      ],
      "execution_count": null,
      "outputs": []
    },
    {
      "cell_type": "code",
      "metadata": {
        "id": "S69pMYboD1Ah",
        "colab": {
          "base_uri": "https://localhost:8080/"
        },
        "outputId": "2a167988-8d29-4c67-fc6d-f09d2772f395"
      },
      "source": [
        "dadosCopy"
      ],
      "execution_count": null,
      "outputs": [
        {
          "output_type": "execute_result",
          "data": {
            "text/plain": [
              "{}"
            ]
          },
          "metadata": {},
          "execution_count": 74
        }
      ]
    },
    {
      "cell_type": "markdown",
      "metadata": {
        "id": "QhoSRfPsD1Ai"
      },
      "source": [
        "# 3.4 Iterando em dicionários"
      ]
    },
    {
      "cell_type": "code",
      "metadata": {
        "colab": {
          "base_uri": "https://localhost:8080/"
        },
        "id": "fWRJ-U2jVCjT",
        "outputId": "6e83365a-e5cb-4d1f-8f2e-dbfa97d02cf1"
      },
      "source": [
        "dados = {'Crossfox': 72832.16, 'DS5': 124549.07,  'Fusca': 150000,  'Jetta Variant': 88078.64,  'Passat': 106161.95}\n",
        "dados"
      ],
      "execution_count": null,
      "outputs": [
        {
          "output_type": "execute_result",
          "data": {
            "text/plain": [
              "{'Crossfox': 72832.16,\n",
              " 'DS5': 124549.07,\n",
              " 'Fusca': 150000,\n",
              " 'Jetta Variant': 88078.64,\n",
              " 'Passat': 106161.95}"
            ]
          },
          "metadata": {},
          "execution_count": 75
        }
      ]
    },
    {
      "cell_type": "markdown",
      "metadata": {
        "id": "E-agaqakD1Ai"
      },
      "source": [
        "## *dict.keys()*\n",
        "\n",
        "Retorna uma lista contendo as chaves (*keys*) do dicionário."
      ]
    },
    {
      "cell_type": "code",
      "metadata": {
        "id": "qFADEYmBD1Aj",
        "colab": {
          "base_uri": "https://localhost:8080/"
        },
        "outputId": "56b736dc-bb3f-4edd-8e42-784c013d8f35"
      },
      "source": [
        "dados.keys()"
      ],
      "execution_count": null,
      "outputs": [
        {
          "output_type": "execute_result",
          "data": {
            "text/plain": [
              "dict_keys(['Crossfox', 'DS5', 'Fusca', 'Jetta Variant', 'Passat'])"
            ]
          },
          "metadata": {},
          "execution_count": 76
        }
      ]
    },
    {
      "cell_type": "code",
      "metadata": {
        "id": "niwh9AgDD1Aj",
        "colab": {
          "base_uri": "https://localhost:8080/"
        },
        "outputId": "98357362-de7d-41ca-a9bc-86ff3186ff4d"
      },
      "source": [
        "for key in dados.keys():\n",
        "  print(dados[key])"
      ],
      "execution_count": null,
      "outputs": [
        {
          "output_type": "stream",
          "name": "stdout",
          "text": [
            "72832.16\n",
            "124549.07\n",
            "150000\n",
            "88078.64\n",
            "106161.95\n"
          ]
        }
      ]
    },
    {
      "cell_type": "markdown",
      "metadata": {
        "id": "qFj6Cc7dD1Ak"
      },
      "source": [
        "## *dict.values()*\n",
        "\n",
        "Retorna uma lista com todos os valores (*values*) do dicionário."
      ]
    },
    {
      "cell_type": "code",
      "metadata": {
        "id": "nfpLxrQVD1Al",
        "colab": {
          "base_uri": "https://localhost:8080/"
        },
        "outputId": "e5d4347f-771b-413c-e7e9-bf752a98174e"
      },
      "source": [
        "dados.values()"
      ],
      "execution_count": null,
      "outputs": [
        {
          "output_type": "execute_result",
          "data": {
            "text/plain": [
              "dict_values([72832.16, 124549.07, 150000, 88078.64, 106161.95])"
            ]
          },
          "metadata": {},
          "execution_count": 79
        }
      ]
    },
    {
      "cell_type": "markdown",
      "metadata": {
        "id": "-NGRwX0AD1Al"
      },
      "source": [
        "## *dict.items()*\n",
        "\n",
        "Retorna uma lista contendo uma tupla para cada par chave-valor (*key-value*) do dicionário."
      ]
    },
    {
      "cell_type": "code",
      "metadata": {
        "id": "Q2I9_6YvD1Am",
        "colab": {
          "base_uri": "https://localhost:8080/"
        },
        "outputId": "fda9a7c7-ef5c-402a-d0d6-0d86f5aaf228"
      },
      "source": [
        "dados.items()"
      ],
      "execution_count": null,
      "outputs": [
        {
          "output_type": "execute_result",
          "data": {
            "text/plain": [
              "dict_items([('Crossfox', 72832.16), ('DS5', 124549.07), ('Fusca', 150000), ('Jetta Variant', 88078.64), ('Passat', 106161.95)])"
            ]
          },
          "metadata": {},
          "execution_count": 81
        }
      ]
    },
    {
      "cell_type": "code",
      "metadata": {
        "id": "0j41ZqgQD1Am",
        "colab": {
          "base_uri": "https://localhost:8080/"
        },
        "outputId": "d0a1c0fd-cffd-4477-e057-b4928d50d9ab"
      },
      "source": [
        "for item in dados.items():\n",
        "  print(item)"
      ],
      "execution_count": null,
      "outputs": [
        {
          "output_type": "stream",
          "name": "stdout",
          "text": [
            "('Crossfox', 72832.16)\n",
            "('DS5', 124549.07)\n",
            "('Fusca', 150000)\n",
            "('Jetta Variant', 88078.64)\n",
            "('Passat', 106161.95)\n"
          ]
        }
      ]
    },
    {
      "cell_type": "code",
      "metadata": {
        "id": "OVY9rIwFD1An",
        "colab": {
          "base_uri": "https://localhost:8080/"
        },
        "outputId": "0003bac6-216e-4534-edb0-7c29cf0d31fd"
      },
      "source": [
        "for key, value in dados.items():\n",
        "  print(key,':', value)"
      ],
      "execution_count": null,
      "outputs": [
        {
          "output_type": "stream",
          "name": "stdout",
          "text": [
            "Crossfox : 72832.16\n",
            "DS5 : 124549.07\n",
            "Fusca : 150000\n",
            "Jetta Variant : 88078.64\n",
            "Passat : 106161.95\n"
          ]
        }
      ]
    },
    {
      "cell_type": "code",
      "metadata": {
        "id": "ma2Ol8vcD1Ap",
        "colab": {
          "base_uri": "https://localhost:8080/"
        },
        "outputId": "40c6030f-6fad-4803-f6e2-a9022940ba4c"
      },
      "source": [
        "for key, value in dados.items():\n",
        "  if(value > 100000):\n",
        "    print(key)"
      ],
      "execution_count": null,
      "outputs": [
        {
          "output_type": "stream",
          "name": "stdout",
          "text": [
            "DS5\n",
            "Fusca\n",
            "Passat\n"
          ]
        }
      ]
    },
    {
      "cell_type": "markdown",
      "metadata": {
        "id": "5KZdq7ckZ0-F"
      },
      "source": [
        "##Exercício: Iterando em dicionário de dicionários."
      ]
    },
    {
      "cell_type": "code",
      "metadata": {
        "id": "ih7KCYiXZ-xi"
      },
      "source": [
        "dados = {\n",
        "    'Crossfox': {'valor': 72000, 'ano': 2005}, \n",
        "    'DS5': {'valor': 125000, 'ano': 2015}, \n",
        "    'Fusca': {'valor': 150000, 'ano': 1976}, \n",
        "    'Jetta': {'valor': 88000, 'ano': 2010}, \n",
        "    'Passat': {'valor': 106000, 'ano': 1998}\n",
        "}"
      ],
      "execution_count": null,
      "outputs": []
    },
    {
      "cell_type": "code",
      "metadata": {
        "colab": {
          "base_uri": "https://localhost:8080/"
        },
        "id": "M_e7FpfSZ-64",
        "outputId": "e0b72ea0-ad6f-4d51-d448-a96457c4c049"
      },
      "source": [
        "dados.items()"
      ],
      "execution_count": null,
      "outputs": [
        {
          "output_type": "execute_result",
          "data": {
            "text/plain": [
              "dict_items([('Crossfox', {'valor': 72000, 'ano': 2005}), ('DS5', {'valor': 125000, 'ano': 2015}), ('Fusca', {'valor': 150000, 'ano': 1976}), ('Jetta', {'valor': 88000, 'ano': 2010}), ('Passat', {'valor': 106000, 'ano': 1998})])"
            ]
          },
          "metadata": {},
          "execution_count": 90
        }
      ]
    },
    {
      "cell_type": "code",
      "metadata": {
        "colab": {
          "base_uri": "https://localhost:8080/"
        },
        "id": "4IiyHw-CZ_CO",
        "outputId": "9ee83722-8829-429f-97c9-965fe6e5f1ec"
      },
      "source": [
        "for item in dados.items():\n",
        "  if(item[1]['ano'] >= 2000):\n",
        "    print(item[0])"
      ],
      "execution_count": null,
      "outputs": [
        {
          "output_type": "stream",
          "name": "stdout",
          "text": [
            "Crossfox\n",
            "DS5\n",
            "Jetta\n"
          ]
        }
      ]
    },
    {
      "cell_type": "code",
      "metadata": {
        "id": "2roqZnbmZ_Gb"
      },
      "source": [
        ""
      ],
      "execution_count": null,
      "outputs": []
    },
    {
      "cell_type": "code",
      "metadata": {
        "id": "4bSFwcz8Z_Lp"
      },
      "source": [
        ""
      ],
      "execution_count": null,
      "outputs": []
    },
    {
      "cell_type": "markdown",
      "metadata": {
        "id": "-q3AlSg3D1Aq"
      },
      "source": [
        "# <font color=green> 4. FUNÇÕES E PACOTES\n",
        "---\n",
        "    \n",
        "Funções são unidades de código reutilizáveis que realizam uma tarefa específica, podem receber alguma entrada e também podem retornar alguma resultado."
      ]
    },
    {
      "cell_type": "markdown",
      "metadata": {
        "id": "5CfEcU58D1Aq"
      },
      "source": [
        "# 4.1 Built-in function\n",
        "\n",
        "A linguagem Python possui várias funções integradas que estão sempre acessíveis. Algumas já utilizamos em nosso treinamento: type(), print(), zip(), len(), set() etc.\n",
        "\n",
        "https://docs.python.org/3.6/library/functions.html"
      ]
    },
    {
      "cell_type": "code",
      "metadata": {
        "id": "DP7cmY7xD1Aq",
        "colab": {
          "base_uri": "https://localhost:8080/"
        },
        "outputId": "1fd4352c-8879-4d75-ac07-8d7a9a89c316"
      },
      "source": [
        "dados = {'Jetta Variant': 88078.64, 'Passat': 106161.94, 'Crossfox': 72832.16}\n",
        "dados"
      ],
      "execution_count": null,
      "outputs": [
        {
          "output_type": "execute_result",
          "data": {
            "text/plain": [
              "{'Crossfox': 72832.16, 'Jetta Variant': 88078.64, 'Passat': 106161.94}"
            ]
          },
          "metadata": {},
          "execution_count": 3
        }
      ]
    },
    {
      "cell_type": "code",
      "metadata": {
        "id": "5zAcGSCbD1Ar",
        "colab": {
          "base_uri": "https://localhost:8080/"
        },
        "outputId": "cbd04ec9-2755-4ca4-962d-0a5f7deae4b5"
      },
      "source": [
        "valores = []\n",
        "for valor in dados.values():\n",
        "  valores.append(valor)\n",
        "valores"
      ],
      "execution_count": null,
      "outputs": [
        {
          "output_type": "execute_result",
          "data": {
            "text/plain": [
              "[88078.64, 106161.94, 72832.16]"
            ]
          },
          "metadata": {},
          "execution_count": 5
        }
      ]
    },
    {
      "cell_type": "code",
      "metadata": {
        "id": "zG9_jU_1D1At",
        "colab": {
          "base_uri": "https://localhost:8080/"
        },
        "outputId": "2fda2157-fc25-4ad6-8c42-3880f8fb5526"
      },
      "source": [
        "soma = 0\n",
        "for valor in dados.values():\n",
        "  soma += valor\n",
        "soma"
      ],
      "execution_count": null,
      "outputs": [
        {
          "output_type": "execute_result",
          "data": {
            "text/plain": [
              "267072.74"
            ]
          },
          "metadata": {},
          "execution_count": 7
        }
      ]
    },
    {
      "cell_type": "code",
      "metadata": {
        "id": "jn0O3uXZD1Au",
        "colab": {
          "base_uri": "https://localhost:8080/"
        },
        "outputId": "1e00c41d-8545-41c1-a40c-1fb74de8412e"
      },
      "source": [
        "list(dados.values())"
      ],
      "execution_count": null,
      "outputs": [
        {
          "output_type": "execute_result",
          "data": {
            "text/plain": [
              "[88078.64, 106161.94, 72832.16]"
            ]
          },
          "metadata": {},
          "execution_count": 10
        }
      ]
    },
    {
      "cell_type": "code",
      "metadata": {
        "id": "lnUjKVnoD1Aw",
        "colab": {
          "base_uri": "https://localhost:8080/"
        },
        "outputId": "80372389-87f1-4c51-f86a-c84e29017f89"
      },
      "source": [
        "sum(dados.values())"
      ],
      "execution_count": null,
      "outputs": [
        {
          "output_type": "execute_result",
          "data": {
            "text/plain": [
              "267072.74"
            ]
          },
          "metadata": {},
          "execution_count": 11
        }
      ]
    },
    {
      "cell_type": "code",
      "metadata": {
        "scrolled": false,
        "id": "WdEuYXe2D1Ay",
        "colab": {
          "base_uri": "https://localhost:8080/"
        },
        "outputId": "102daa66-6a41-4636-94b0-c02126572ef6"
      },
      "source": [
        "help(print)"
      ],
      "execution_count": null,
      "outputs": [
        {
          "output_type": "stream",
          "name": "stdout",
          "text": [
            "Help on built-in function print in module builtins:\n",
            "\n",
            "print(...)\n",
            "    print(value, ..., sep=' ', end='\\n', file=sys.stdout, flush=False)\n",
            "    \n",
            "    Prints the values to a stream, or to sys.stdout by default.\n",
            "    Optional keyword arguments:\n",
            "    file:  a file-like object (stream); defaults to the current sys.stdout.\n",
            "    sep:   string inserted between values, default a space.\n",
            "    end:   string appended after the last value, default a newline.\n",
            "    flush: whether to forcibly flush the stream.\n",
            "\n"
          ]
        }
      ]
    },
    {
      "cell_type": "code",
      "metadata": {
        "id": "hIA29O3tD1Az"
      },
      "source": [
        "print?"
      ],
      "execution_count": null,
      "outputs": []
    },
    {
      "cell_type": "markdown",
      "metadata": {
        "id": "6w62Sl5ZD1A0"
      },
      "source": [
        "# 4.2 Definindo funções sem e com parâmetros"
      ]
    },
    {
      "cell_type": "markdown",
      "metadata": {
        "id": "OADZiBP2D1A0"
      },
      "source": [
        "### Funções sem parâmetros\n",
        "\n",
        "#### Formato padrão\n",
        "\n",
        "```\n",
        "def <nome>():\n",
        "    <instruções>\n",
        "```"
      ]
    },
    {
      "cell_type": "code",
      "metadata": {
        "id": "uCkplEpQD1A0"
      },
      "source": [
        "def media():\n",
        "  valor = (1 + 2 + 3) / 3\n",
        "  print(valor)"
      ],
      "execution_count": null,
      "outputs": []
    },
    {
      "cell_type": "code",
      "metadata": {
        "id": "fOCEGq5VD1A1",
        "colab": {
          "base_uri": "https://localhost:8080/"
        },
        "outputId": "42d12570-3c56-4721-8339-14c038cea3f8"
      },
      "source": [
        "media()"
      ],
      "execution_count": null,
      "outputs": [
        {
          "output_type": "stream",
          "name": "stdout",
          "text": [
            "2.0\n"
          ]
        }
      ]
    },
    {
      "cell_type": "markdown",
      "metadata": {
        "id": "PwSlYSVAD1A2"
      },
      "source": [
        "### Funções com parâmetros\n",
        "\n",
        "#### Formato padrão\n",
        "\n",
        "```\n",
        "def <nome>(<param_1>, <param_2>, ..., <param_n>):\n",
        "    <instruções>\n",
        "```"
      ]
    },
    {
      "cell_type": "code",
      "metadata": {
        "id": "A3YnBUduD1A3"
      },
      "source": [
        "def media(number_1, number_2, number_3):\n",
        "  valor = (number_1 + number_2 + number_3) / 3\n",
        "  print(valor)"
      ],
      "execution_count": null,
      "outputs": []
    },
    {
      "cell_type": "code",
      "metadata": {
        "id": "rGUZbRERD1A3",
        "colab": {
          "base_uri": "https://localhost:8080/"
        },
        "outputId": "78d2a324-3cf5-4a6e-d4b8-8bd5ea9bd81c"
      },
      "source": [
        "media(1, 2, 3)"
      ],
      "execution_count": null,
      "outputs": [
        {
          "output_type": "stream",
          "name": "stdout",
          "text": [
            "2.0\n"
          ]
        }
      ]
    },
    {
      "cell_type": "code",
      "metadata": {
        "id": "B9WDlRE7D1A5",
        "colab": {
          "base_uri": "https://localhost:8080/"
        },
        "outputId": "01889542-513a-4b79-ab3b-156c80c8d2ff"
      },
      "source": [
        "media(44, 55, 67)"
      ],
      "execution_count": null,
      "outputs": [
        {
          "output_type": "stream",
          "name": "stdout",
          "text": [
            "55.333333333333336\n"
          ]
        }
      ]
    },
    {
      "cell_type": "code",
      "metadata": {
        "id": "1HAy8OK_D1A6"
      },
      "source": [
        "def media(lista):\n",
        "  valor = sum(lista) / len(lista)\n",
        "  print(valor)"
      ],
      "execution_count": null,
      "outputs": []
    },
    {
      "cell_type": "code",
      "metadata": {
        "id": "_CDa4oOfD1A6",
        "colab": {
          "base_uri": "https://localhost:8080/"
        },
        "outputId": "99c96f98-5424-4216-a315-1ba621ce6f9d"
      },
      "source": [
        "media([1, 2, 3, 4, 5, 6, 7, 8, 9])"
      ],
      "execution_count": null,
      "outputs": [
        {
          "output_type": "stream",
          "name": "stdout",
          "text": [
            "5.0\n"
          ]
        }
      ]
    },
    {
      "cell_type": "code",
      "metadata": {
        "id": "xH-mxqYAD1A8"
      },
      "source": [
        ""
      ],
      "execution_count": null,
      "outputs": []
    },
    {
      "cell_type": "code",
      "metadata": {
        "id": "WXXC_UidD1A8"
      },
      "source": [
        ""
      ],
      "execution_count": null,
      "outputs": []
    },
    {
      "cell_type": "markdown",
      "metadata": {
        "id": "71jh2_A315fO"
      },
      "source": [
        "## Exercício: Quilometragem média de um veículo."
      ]
    },
    {
      "cell_type": "code",
      "metadata": {
        "id": "xxYbIEl82Blk"
      },
      "source": [
        "dados = {\n",
        "    'Crossfox': {'km': 35000, 'ano': 2005}, \n",
        "    'DS5': {'km': 17000, 'ano': 2015}, \n",
        "    'Fusca': {'km': 130000, 'ano': 1979}, \n",
        "    'Jetta': {'km': 56000, 'ano': 2011}, \n",
        "    'Passat': {'km': 62000, 'ano': 1999}\n",
        "}"
      ],
      "execution_count": null,
      "outputs": []
    },
    {
      "cell_type": "code",
      "metadata": {
        "id": "a_1943Rz2BpE"
      },
      "source": [
        "def km_media(dataset, ano_atual):\n",
        "  for item in dataset.items():\n",
        "    result = item[1]['km']/ (ano_atual - item[1]['ano'])\n",
        "    print(result)"
      ],
      "execution_count": null,
      "outputs": []
    },
    {
      "cell_type": "code",
      "metadata": {
        "colab": {
          "base_uri": "https://localhost:8080/"
        },
        "id": "T7WaNDgY2Bq8",
        "outputId": "c865fc4c-9cf1-47a4-a6d8-426aeaabdbf2"
      },
      "source": [
        "km_media(dados, 2019)"
      ],
      "execution_count": null,
      "outputs": [
        {
          "output_type": "stream",
          "name": "stdout",
          "text": [
            "2500.0\n",
            "4250.0\n",
            "3250.0\n",
            "7000.0\n",
            "3100.0\n"
          ]
        }
      ]
    },
    {
      "cell_type": "code",
      "metadata": {
        "id": "nQXOYFE72Bwh"
      },
      "source": [
        ""
      ],
      "execution_count": null,
      "outputs": []
    },
    {
      "cell_type": "code",
      "metadata": {
        "id": "DJtO6kG82B3v"
      },
      "source": [
        ""
      ],
      "execution_count": null,
      "outputs": []
    },
    {
      "cell_type": "markdown",
      "metadata": {
        "id": "8zNYrmFbD1A9"
      },
      "source": [
        "# 4.3 Definindo funções que retornam valores"
      ]
    },
    {
      "cell_type": "markdown",
      "metadata": {
        "id": "J44K-dMOD1A9"
      },
      "source": [
        "### Funções que retornam um valor\n",
        "\n",
        "#### Formato padrão\n",
        "\n",
        "```\n",
        "def <nome>(<param_1>, <param_2>, ..., <param_n>):\n",
        "    <instruções>\n",
        "    return <resultado>\n",
        "```"
      ]
    },
    {
      "cell_type": "code",
      "metadata": {
        "id": "-UG42RQJD1A9"
      },
      "source": [
        "def media(lista):\n",
        "  valor = sum(lista) / len(lista)\n",
        "  return valor"
      ],
      "execution_count": null,
      "outputs": []
    },
    {
      "cell_type": "code",
      "metadata": {
        "id": "VJwdvoT5D1A-",
        "colab": {
          "base_uri": "https://localhost:8080/"
        },
        "outputId": "b94084ff-8bbf-4b41-92cc-334ff0947bc3"
      },
      "source": [
        "media([1, 2, 3,4,5,6,7,8])"
      ],
      "execution_count": null,
      "outputs": [
        {
          "output_type": "execute_result",
          "data": {
            "text/plain": [
              "4.5"
            ]
          },
          "metadata": {},
          "execution_count": 3
        }
      ]
    },
    {
      "cell_type": "code",
      "metadata": {
        "id": "AgAeJkpND1A-"
      },
      "source": [
        "resultado = media([1, 2, 3, 4, 5, 6, 7, 8])"
      ],
      "execution_count": null,
      "outputs": []
    },
    {
      "cell_type": "code",
      "metadata": {
        "id": "_r616TevD1A_",
        "colab": {
          "base_uri": "https://localhost:8080/"
        },
        "outputId": "d4ad99a6-3214-4d4c-db04-196f5aa26641"
      },
      "source": [
        "resultado"
      ],
      "execution_count": null,
      "outputs": [
        {
          "output_type": "execute_result",
          "data": {
            "text/plain": [
              "4.5"
            ]
          },
          "metadata": {},
          "execution_count": 6
        }
      ]
    },
    {
      "cell_type": "markdown",
      "metadata": {
        "id": "MQaK8GV5D1BA"
      },
      "source": [
        "### Funções que retornam mais de um valor\n",
        "\n",
        "#### Formato padrão\n",
        "\n",
        "```\n",
        "def <nome>(<param_1>, <param_2>, ..., <param_n>):\n",
        "    <instruções>\n",
        "    return (<resultado_1>, <resultado_2>, ..., <resultado_n>)\n",
        "```"
      ]
    },
    {
      "cell_type": "code",
      "metadata": {
        "id": "v0PUMegVD1BA"
      },
      "source": [
        "def media(lista):\n",
        "  valor = sum(lista) / len(lista)\n",
        "  return (valor, len(lista))"
      ],
      "execution_count": null,
      "outputs": []
    },
    {
      "cell_type": "code",
      "metadata": {
        "id": "Ys-etom8D1BA",
        "colab": {
          "base_uri": "https://localhost:8080/"
        },
        "outputId": "05821498-b236-4b00-e602-3e378b1d6e48"
      },
      "source": [
        "media([1, 2, 3,4,5,6,7,8])"
      ],
      "execution_count": null,
      "outputs": [
        {
          "output_type": "execute_result",
          "data": {
            "text/plain": [
              "(4.5, 8)"
            ]
          },
          "metadata": {},
          "execution_count": 8
        }
      ]
    },
    {
      "cell_type": "code",
      "metadata": {
        "id": "LERrvkMHD1BC"
      },
      "source": [
        "resultado, n = media([1, 2, 3,4,5,6,7,8])"
      ],
      "execution_count": null,
      "outputs": []
    },
    {
      "cell_type": "code",
      "metadata": {
        "id": "sqoFOWSsD1BC",
        "colab": {
          "base_uri": "https://localhost:8080/"
        },
        "outputId": "cae5e4a1-01e6-44cd-8926-89765ef6100c"
      },
      "source": [
        "resultado"
      ],
      "execution_count": null,
      "outputs": [
        {
          "output_type": "execute_result",
          "data": {
            "text/plain": [
              "4.5"
            ]
          },
          "metadata": {},
          "execution_count": 10
        }
      ]
    },
    {
      "cell_type": "code",
      "metadata": {
        "id": "NdB_Jyw_D1BD",
        "colab": {
          "base_uri": "https://localhost:8080/"
        },
        "outputId": "0986fa33-379d-4256-fdad-97147c912625"
      },
      "source": [
        "n"
      ],
      "execution_count": null,
      "outputs": [
        {
          "output_type": "execute_result",
          "data": {
            "text/plain": [
              "8"
            ]
          },
          "metadata": {},
          "execution_count": 11
        }
      ]
    },
    {
      "cell_type": "markdown",
      "metadata": {
        "id": "xsN8NlgCDQ5E"
      },
      "source": [
        "## Exercício: Melhorando a nossa função."
      ]
    },
    {
      "cell_type": "code",
      "metadata": {
        "id": "Ptj89rRuDXkq"
      },
      "source": [
        "dados = {\n",
        "    'Crossfox': {'km': 35000, 'ano': 2005}, \n",
        "    'DS5': {'km': 17000, 'ano': 2015}, \n",
        "    'Fusca': {'km': 130000, 'ano': 1979}, \n",
        "    'Jetta': {'km': 56000, 'ano': 2011}, \n",
        "    'Passat': {'km': 62000, 'ano': 1999}\n",
        "}"
      ],
      "execution_count": null,
      "outputs": []
    },
    {
      "cell_type": "code",
      "metadata": {
        "id": "qoRdDVYJDYFX"
      },
      "source": [
        "def km_media(dataset, ano_atual):\n",
        "  result = {}\n",
        "  for item in dataset.items():\n",
        "    media = item[1]['km'] / (ano_atual - item[1]['ano'])\n",
        "    result.update({item[0]: media })\n",
        "  return result"
      ],
      "execution_count": null,
      "outputs": []
    },
    {
      "cell_type": "code",
      "metadata": {
        "colab": {
          "base_uri": "https://localhost:8080/"
        },
        "id": "mSs94mIODYL9",
        "outputId": "d19e6fc8-1f55-4a00-82e0-03f14bd0a16d"
      },
      "source": [
        "km_media(dados, 2019)"
      ],
      "execution_count": null,
      "outputs": [
        {
          "output_type": "execute_result",
          "data": {
            "text/plain": [
              "{'Crossfox': 2500.0,\n",
              " 'DS5': 4250.0,\n",
              " 'Fusca': 3250.0,\n",
              " 'Jetta': 7000.0,\n",
              " 'Passat': 3100.0}"
            ]
          },
          "metadata": {},
          "execution_count": 31
        }
      ]
    },
    {
      "cell_type": "markdown",
      "metadata": {
        "id": "6l-opeqeGfYI"
      },
      "source": [
        "## Exercício: Elaborando um pouco mais a nossa função."
      ]
    },
    {
      "cell_type": "code",
      "metadata": {
        "id": "b-4kPelfDYOy"
      },
      "source": [
        "dados = {\n",
        "    'Crossfox': {'km': 35000, 'ano': 2005}, \n",
        "    'DS5': {'km': 17000, 'ano': 2015}, \n",
        "    'Fusca': {'km': 130000, 'ano': 1979}, \n",
        "    'Jetta': {'km': 56000, 'ano': 2011}, \n",
        "    'Passat': {'km': 62000, 'ano': 1999}\n",
        "}"
      ],
      "execution_count": null,
      "outputs": []
    },
    {
      "cell_type": "code",
      "metadata": {
        "id": "D-SM5JnADYRy"
      },
      "source": [
        "def km_media(dataset, ano_atual):\n",
        "  result = {}\n",
        "  for item in dataset.items():\n",
        "    media = item[1]['km'] / (ano_atual - item[1]['ano'])\n",
        "    item[1].update({'km_media' : media})\n",
        "    result.update({item[0] : item[1]})\n",
        "  return result"
      ],
      "execution_count": null,
      "outputs": []
    },
    {
      "cell_type": "code",
      "metadata": {
        "colab": {
          "base_uri": "https://localhost:8080/"
        },
        "id": "vcLSz4pKDYU8",
        "outputId": "9cc06626-7563-40d0-d5d9-1785c8ccb058"
      },
      "source": [
        "km_media(dados, 2019)"
      ],
      "execution_count": null,
      "outputs": [
        {
          "output_type": "execute_result",
          "data": {
            "text/plain": [
              "{'Crossfox': {'ano': 2005, 'km': 35000, 'km_media': 2500.0},\n",
              " 'DS5': {'ano': 2015, 'km': 17000, 'km_media': 4250.0},\n",
              " 'Fusca': {'ano': 1979, 'km': 130000, 'km_media': 3250.0},\n",
              " 'Jetta': {'ano': 2011, 'km': 56000, 'km_media': 7000.0},\n",
              " 'Passat': {'ano': 1999, 'km': 62000, 'km_media': 3100.0}}"
            ]
          },
          "metadata": {},
          "execution_count": 43
        }
      ]
    },
    {
      "cell_type": "markdown",
      "metadata": {
        "id": "uQ5lNnKrD1BD"
      },
      "source": [
        "# <font color=green> 5. PANDAS BÁSICO\n",
        "---\n",
        "\n",
        "**versão: 0.25.2**\n",
        "  \n",
        "Pandas é uma ferramenta de manipulação de dados de alto nível, construída com base no pacote Numpy. O pacote pandas possui estruturas de dados bastante interessantes para manipulação de dados e por isso é muito utilizado por cientistas de dados.\n",
        "\n",
        "\n",
        "## Estruturas de Dados\n",
        "\n",
        "### Series\n",
        "\n",
        "Series são arrays unidimensionais rotulados capazes de armazenar qualquer tipo de dado. Os rótulos das linhas são chamados de **index**. A forma básica de criação de uma Series é a seguinte:\n",
        "\n",
        "\n",
        "```\n",
        "    s = pd.Series(dados, index = index)\n",
        "```\n",
        "\n",
        "O argumento *dados* pode ser um dicionário, uma lista, um array Numpy ou uma constante.\n",
        "\n",
        "### DataFrames\n",
        "\n",
        "DataFrame é uma estrutura de dados tabular bidimensional com rótulos nas linha e colunas. Como a Series, os DataFrames são capazes de armazenar qualquer tipo de dados.\n",
        "\n",
        "\n",
        "```\n",
        "    df = pd.DataFrame(dados, index = index, columns = columns)\n",
        "```\n",
        "\n",
        "O argumento *dados* pode ser um dicionário, uma lista, um array Numpy, uma Series e outro DataFrame.\n",
        "\n",
        "**Documentação:** https://pandas.pydata.org/pandas-docs/version/0.25/"
      ]
    },
    {
      "cell_type": "markdown",
      "metadata": {
        "id": "2qa7RC03D1BD"
      },
      "source": [
        "# 5.1 Estruturas de dados"
      ]
    },
    {
      "cell_type": "code",
      "metadata": {
        "id": "4QyFDeS4D1BD"
      },
      "source": [
        "import pandas as pd"
      ],
      "execution_count": null,
      "outputs": []
    },
    {
      "cell_type": "markdown",
      "metadata": {
        "id": "kIey8_OcD1BF"
      },
      "source": [
        "### Criando uma Series a partir de uma lista"
      ]
    },
    {
      "cell_type": "code",
      "metadata": {
        "id": "yEZR6DWiD1BF",
        "colab": {
          "base_uri": "https://localhost:8080/"
        },
        "outputId": "eb5774d2-04b8-4198-af11-2f7b665ba8aa"
      },
      "source": [
        "carros = ['Jetta Variant', 'Passat', 'Crossfox']\n",
        "carros"
      ],
      "execution_count": null,
      "outputs": [
        {
          "output_type": "execute_result",
          "data": {
            "text/plain": [
              "['Jetta Variant', 'Passat', 'Crossfox']"
            ]
          },
          "metadata": {},
          "execution_count": 2
        }
      ]
    },
    {
      "cell_type": "code",
      "metadata": {
        "id": "rLudWKZ_D1BF",
        "colab": {
          "base_uri": "https://localhost:8080/"
        },
        "outputId": "2f06ef40-3ba9-4df5-ebe4-d808b15a6ebd"
      },
      "source": [
        "pd.Series(carros)"
      ],
      "execution_count": null,
      "outputs": [
        {
          "output_type": "execute_result",
          "data": {
            "text/plain": [
              "0    Jetta Variant\n",
              "1           Passat\n",
              "2         Crossfox\n",
              "dtype: object"
            ]
          },
          "metadata": {},
          "execution_count": 3
        }
      ]
    },
    {
      "cell_type": "markdown",
      "metadata": {
        "id": "VYVIKd1-D1BG"
      },
      "source": [
        "### Criando um DataFrame a partir de uma lista de dicionários"
      ]
    },
    {
      "cell_type": "code",
      "metadata": {
        "id": "QFNS9PckD1BG"
      },
      "source": [
        "dados = [\n",
        "    {'Nome': 'Jetta Variant', 'Motor': 'Motor 4.0 Turbo', 'Ano': 2003, 'Quilometragem': 44410.0, 'Zero_km': False, 'Valor': 88078.64},\n",
        "    {'Nome': 'Passat', 'Motor': 'Motor Diesel', 'Ano': 1991, 'Quilometragem': 5712.0, 'Zero_km': False, 'Valor': 106161.94},\n",
        "    {'Nome': 'Crossfox', 'Motor': 'Motor Diesel V8', 'Ano': 1990, 'Quilometragem': 37123.0, 'Zero_km': False, 'Valor': 72832.16}\n",
        "]"
      ],
      "execution_count": null,
      "outputs": []
    },
    {
      "cell_type": "code",
      "metadata": {
        "id": "WDQb9AnKD1BH"
      },
      "source": [
        "dataset = pd.DataFrame(dados)"
      ],
      "execution_count": null,
      "outputs": []
    },
    {
      "cell_type": "code",
      "metadata": {
        "id": "-2-jGvmGD1BI",
        "colab": {
          "base_uri": "https://localhost:8080/",
          "height": 142
        },
        "outputId": "b86c61b0-9618-4f3d-fe86-f199887f49c4"
      },
      "source": [
        "dataset"
      ],
      "execution_count": null,
      "outputs": [
        {
          "output_type": "execute_result",
          "data": {
            "text/html": [
              "<div>\n",
              "<style scoped>\n",
              "    .dataframe tbody tr th:only-of-type {\n",
              "        vertical-align: middle;\n",
              "    }\n",
              "\n",
              "    .dataframe tbody tr th {\n",
              "        vertical-align: top;\n",
              "    }\n",
              "\n",
              "    .dataframe thead th {\n",
              "        text-align: right;\n",
              "    }\n",
              "</style>\n",
              "<table border=\"1\" class=\"dataframe\">\n",
              "  <thead>\n",
              "    <tr style=\"text-align: right;\">\n",
              "      <th></th>\n",
              "      <th>Nome</th>\n",
              "      <th>Motor</th>\n",
              "      <th>Ano</th>\n",
              "      <th>Quilometragem</th>\n",
              "      <th>Zero_km</th>\n",
              "      <th>Valor</th>\n",
              "    </tr>\n",
              "  </thead>\n",
              "  <tbody>\n",
              "    <tr>\n",
              "      <th>0</th>\n",
              "      <td>Jetta Variant</td>\n",
              "      <td>Motor 4.0 Turbo</td>\n",
              "      <td>2003</td>\n",
              "      <td>44410.0</td>\n",
              "      <td>False</td>\n",
              "      <td>88078.64</td>\n",
              "    </tr>\n",
              "    <tr>\n",
              "      <th>1</th>\n",
              "      <td>Passat</td>\n",
              "      <td>Motor Diesel</td>\n",
              "      <td>1991</td>\n",
              "      <td>5712.0</td>\n",
              "      <td>False</td>\n",
              "      <td>106161.94</td>\n",
              "    </tr>\n",
              "    <tr>\n",
              "      <th>2</th>\n",
              "      <td>Crossfox</td>\n",
              "      <td>Motor Diesel V8</td>\n",
              "      <td>1990</td>\n",
              "      <td>37123.0</td>\n",
              "      <td>False</td>\n",
              "      <td>72832.16</td>\n",
              "    </tr>\n",
              "  </tbody>\n",
              "</table>\n",
              "</div>"
            ],
            "text/plain": [
              "            Nome            Motor   Ano  Quilometragem  Zero_km      Valor\n",
              "0  Jetta Variant  Motor 4.0 Turbo  2003        44410.0    False   88078.64\n",
              "1         Passat     Motor Diesel  1991         5712.0    False  106161.94\n",
              "2       Crossfox  Motor Diesel V8  1990        37123.0    False   72832.16"
            ]
          },
          "metadata": {},
          "execution_count": 6
        }
      ]
    },
    {
      "cell_type": "code",
      "metadata": {
        "id": "2kbyOThiD1BJ",
        "colab": {
          "base_uri": "https://localhost:8080/",
          "height": 142
        },
        "outputId": "c890eefa-8115-4890-eb6c-67f035422dd4"
      },
      "source": [
        "dataset[['Nome', 'Motor', 'Ano', 'Zero_km', 'Valor', 'Quilometragem']]  #deste formato consigo mudar a sequencia do Dataframe."
      ],
      "execution_count": null,
      "outputs": [
        {
          "output_type": "execute_result",
          "data": {
            "text/html": [
              "<div>\n",
              "<style scoped>\n",
              "    .dataframe tbody tr th:only-of-type {\n",
              "        vertical-align: middle;\n",
              "    }\n",
              "\n",
              "    .dataframe tbody tr th {\n",
              "        vertical-align: top;\n",
              "    }\n",
              "\n",
              "    .dataframe thead th {\n",
              "        text-align: right;\n",
              "    }\n",
              "</style>\n",
              "<table border=\"1\" class=\"dataframe\">\n",
              "  <thead>\n",
              "    <tr style=\"text-align: right;\">\n",
              "      <th></th>\n",
              "      <th>Nome</th>\n",
              "      <th>Motor</th>\n",
              "      <th>Ano</th>\n",
              "      <th>Zero_km</th>\n",
              "      <th>Valor</th>\n",
              "      <th>Quilometragem</th>\n",
              "    </tr>\n",
              "  </thead>\n",
              "  <tbody>\n",
              "    <tr>\n",
              "      <th>0</th>\n",
              "      <td>Jetta Variant</td>\n",
              "      <td>Motor 4.0 Turbo</td>\n",
              "      <td>2003</td>\n",
              "      <td>False</td>\n",
              "      <td>88078.64</td>\n",
              "      <td>44410.0</td>\n",
              "    </tr>\n",
              "    <tr>\n",
              "      <th>1</th>\n",
              "      <td>Passat</td>\n",
              "      <td>Motor Diesel</td>\n",
              "      <td>1991</td>\n",
              "      <td>False</td>\n",
              "      <td>106161.94</td>\n",
              "      <td>5712.0</td>\n",
              "    </tr>\n",
              "    <tr>\n",
              "      <th>2</th>\n",
              "      <td>Crossfox</td>\n",
              "      <td>Motor Diesel V8</td>\n",
              "      <td>1990</td>\n",
              "      <td>False</td>\n",
              "      <td>72832.16</td>\n",
              "      <td>37123.0</td>\n",
              "    </tr>\n",
              "  </tbody>\n",
              "</table>\n",
              "</div>"
            ],
            "text/plain": [
              "            Nome            Motor   Ano  Zero_km      Valor  Quilometragem\n",
              "0  Jetta Variant  Motor 4.0 Turbo  2003    False   88078.64        44410.0\n",
              "1         Passat     Motor Diesel  1991    False  106161.94         5712.0\n",
              "2       Crossfox  Motor Diesel V8  1990    False   72832.16        37123.0"
            ]
          },
          "metadata": {},
          "execution_count": 8
        }
      ]
    },
    {
      "cell_type": "markdown",
      "metadata": {
        "id": "pJK2tQgYD1BK"
      },
      "source": [
        "### Criando um DataFrame a partir de um dicionário"
      ]
    },
    {
      "cell_type": "code",
      "metadata": {
        "id": "WKNQwKucD1BK"
      },
      "source": [
        "dados = {\n",
        "    'Nome': ['Jetta Variant', 'Passat', 'Crossfox'], \n",
        "    'Motor': ['Motor 4.0 Turbo', 'Motor Diesel', 'Motor Diesel V8'],\n",
        "    'Ano': [2003, 1991, 1990],\n",
        "    'Quilometragem': [44410.0, 5712.0, 37123.0],\n",
        "    'Zero_km': [False, False, False],\n",
        "    'Valor': [88078.64, 106161.94, 72832.16]\n",
        "}"
      ],
      "execution_count": null,
      "outputs": []
    },
    {
      "cell_type": "code",
      "metadata": {
        "id": "lKnuZfzcD1BK"
      },
      "source": [
        "dataset = pd.DataFrame(dados)"
      ],
      "execution_count": null,
      "outputs": []
    },
    {
      "cell_type": "code",
      "metadata": {
        "id": "PNqTytC-D1BL",
        "colab": {
          "base_uri": "https://localhost:8080/",
          "height": 142
        },
        "outputId": "6a8b7614-ff85-4790-fd37-82d0b6b673e1"
      },
      "source": [
        "dataset"
      ],
      "execution_count": null,
      "outputs": [
        {
          "output_type": "execute_result",
          "data": {
            "text/html": [
              "<div>\n",
              "<style scoped>\n",
              "    .dataframe tbody tr th:only-of-type {\n",
              "        vertical-align: middle;\n",
              "    }\n",
              "\n",
              "    .dataframe tbody tr th {\n",
              "        vertical-align: top;\n",
              "    }\n",
              "\n",
              "    .dataframe thead th {\n",
              "        text-align: right;\n",
              "    }\n",
              "</style>\n",
              "<table border=\"1\" class=\"dataframe\">\n",
              "  <thead>\n",
              "    <tr style=\"text-align: right;\">\n",
              "      <th></th>\n",
              "      <th>Nome</th>\n",
              "      <th>Motor</th>\n",
              "      <th>Ano</th>\n",
              "      <th>Quilometragem</th>\n",
              "      <th>Zero_km</th>\n",
              "      <th>Valor</th>\n",
              "    </tr>\n",
              "  </thead>\n",
              "  <tbody>\n",
              "    <tr>\n",
              "      <th>0</th>\n",
              "      <td>Jetta Variant</td>\n",
              "      <td>Motor 4.0 Turbo</td>\n",
              "      <td>2003</td>\n",
              "      <td>44410.0</td>\n",
              "      <td>False</td>\n",
              "      <td>88078.64</td>\n",
              "    </tr>\n",
              "    <tr>\n",
              "      <th>1</th>\n",
              "      <td>Passat</td>\n",
              "      <td>Motor Diesel</td>\n",
              "      <td>1991</td>\n",
              "      <td>5712.0</td>\n",
              "      <td>False</td>\n",
              "      <td>106161.94</td>\n",
              "    </tr>\n",
              "    <tr>\n",
              "      <th>2</th>\n",
              "      <td>Crossfox</td>\n",
              "      <td>Motor Diesel V8</td>\n",
              "      <td>1990</td>\n",
              "      <td>37123.0</td>\n",
              "      <td>False</td>\n",
              "      <td>72832.16</td>\n",
              "    </tr>\n",
              "  </tbody>\n",
              "</table>\n",
              "</div>"
            ],
            "text/plain": [
              "            Nome            Motor   Ano  Quilometragem  Zero_km      Valor\n",
              "0  Jetta Variant  Motor 4.0 Turbo  2003        44410.0    False   88078.64\n",
              "1         Passat     Motor Diesel  1991         5712.0    False  106161.94\n",
              "2       Crossfox  Motor Diesel V8  1990        37123.0    False   72832.16"
            ]
          },
          "metadata": {},
          "execution_count": 11
        }
      ]
    },
    {
      "cell_type": "markdown",
      "metadata": {
        "id": "fCCXs0reD1BL"
      },
      "source": [
        "### Criando um DataFrame a partir de uma arquivo externo"
      ]
    },
    {
      "cell_type": "code",
      "metadata": {
        "id": "78PRHGeZD1BL"
      },
      "source": [
        "dataset = pd.read_csv('db.csv', sep = ';', index_col = 0) #Com o index col consigo colocar o indice pela coluna 0."
      ],
      "execution_count": null,
      "outputs": []
    },
    {
      "cell_type": "code",
      "metadata": {
        "scrolled": true,
        "id": "1o1YlnVPD1BM",
        "colab": {
          "base_uri": "https://localhost:8080/",
          "height": 450
        },
        "outputId": "ee990880-96ad-4559-c310-4ee8ed37032f"
      },
      "source": [
        "dataset"
      ],
      "execution_count": null,
      "outputs": [
        {
          "output_type": "execute_result",
          "data": {
            "text/html": [
              "<div>\n",
              "<style scoped>\n",
              "    .dataframe tbody tr th:only-of-type {\n",
              "        vertical-align: middle;\n",
              "    }\n",
              "\n",
              "    .dataframe tbody tr th {\n",
              "        vertical-align: top;\n",
              "    }\n",
              "\n",
              "    .dataframe thead th {\n",
              "        text-align: right;\n",
              "    }\n",
              "</style>\n",
              "<table border=\"1\" class=\"dataframe\">\n",
              "  <thead>\n",
              "    <tr style=\"text-align: right;\">\n",
              "      <th></th>\n",
              "      <th>Motor</th>\n",
              "      <th>Ano</th>\n",
              "      <th>Quilometragem</th>\n",
              "      <th>Zero_km</th>\n",
              "      <th>Acessórios</th>\n",
              "      <th>Valor</th>\n",
              "    </tr>\n",
              "    <tr>\n",
              "      <th>Nome</th>\n",
              "      <th></th>\n",
              "      <th></th>\n",
              "      <th></th>\n",
              "      <th></th>\n",
              "      <th></th>\n",
              "      <th></th>\n",
              "    </tr>\n",
              "  </thead>\n",
              "  <tbody>\n",
              "    <tr>\n",
              "      <th>Jetta Variant</th>\n",
              "      <td>Motor 4.0 Turbo</td>\n",
              "      <td>2003</td>\n",
              "      <td>44410.0</td>\n",
              "      <td>False</td>\n",
              "      <td>['Rodas de liga', 'Travas elétricas', 'Piloto ...</td>\n",
              "      <td>88078.64</td>\n",
              "    </tr>\n",
              "    <tr>\n",
              "      <th>Passat</th>\n",
              "      <td>Motor Diesel</td>\n",
              "      <td>1991</td>\n",
              "      <td>5712.0</td>\n",
              "      <td>False</td>\n",
              "      <td>['Central multimídia', 'Teto panorâmico', 'Fre...</td>\n",
              "      <td>106161.94</td>\n",
              "    </tr>\n",
              "    <tr>\n",
              "      <th>Crossfox</th>\n",
              "      <td>Motor Diesel V8</td>\n",
              "      <td>1990</td>\n",
              "      <td>37123.0</td>\n",
              "      <td>False</td>\n",
              "      <td>['Piloto automático', 'Controle de estabilidad...</td>\n",
              "      <td>72832.16</td>\n",
              "    </tr>\n",
              "    <tr>\n",
              "      <th>DS5</th>\n",
              "      <td>Motor 2.4 Turbo</td>\n",
              "      <td>2019</td>\n",
              "      <td>NaN</td>\n",
              "      <td>True</td>\n",
              "      <td>['Travas elétricas', '4 X 4', 'Vidros elétrico...</td>\n",
              "      <td>124549.07</td>\n",
              "    </tr>\n",
              "    <tr>\n",
              "      <th>Aston Martin DB4</th>\n",
              "      <td>Motor 2.4 Turbo</td>\n",
              "      <td>2006</td>\n",
              "      <td>25757.0</td>\n",
              "      <td>False</td>\n",
              "      <td>['Rodas de liga', '4 X 4', 'Central multimídia...</td>\n",
              "      <td>92612.10</td>\n",
              "    </tr>\n",
              "    <tr>\n",
              "      <th>...</th>\n",
              "      <td>...</td>\n",
              "      <td>...</td>\n",
              "      <td>...</td>\n",
              "      <td>...</td>\n",
              "      <td>...</td>\n",
              "      <td>...</td>\n",
              "    </tr>\n",
              "    <tr>\n",
              "      <th>Phantom 2013</th>\n",
              "      <td>Motor V8</td>\n",
              "      <td>2014</td>\n",
              "      <td>27505.0</td>\n",
              "      <td>False</td>\n",
              "      <td>['Controle de estabilidade', 'Piloto automátic...</td>\n",
              "      <td>51759.58</td>\n",
              "    </tr>\n",
              "    <tr>\n",
              "      <th>Cadillac Ciel concept</th>\n",
              "      <td>Motor V8</td>\n",
              "      <td>1991</td>\n",
              "      <td>29981.0</td>\n",
              "      <td>False</td>\n",
              "      <td>['Bancos de couro', 'Painel digital', 'Sensor ...</td>\n",
              "      <td>51667.06</td>\n",
              "    </tr>\n",
              "    <tr>\n",
              "      <th>Classe GLK</th>\n",
              "      <td>Motor 5.0 V8 Bi-Turbo</td>\n",
              "      <td>2002</td>\n",
              "      <td>52637.0</td>\n",
              "      <td>False</td>\n",
              "      <td>['Rodas de liga', 'Controle de tração', 'Câmbi...</td>\n",
              "      <td>68934.03</td>\n",
              "    </tr>\n",
              "    <tr>\n",
              "      <th>Aston Martin DB5</th>\n",
              "      <td>Motor Diesel</td>\n",
              "      <td>1996</td>\n",
              "      <td>7685.0</td>\n",
              "      <td>False</td>\n",
              "      <td>['Ar condicionado', '4 X 4', 'Câmbio automátic...</td>\n",
              "      <td>122110.90</td>\n",
              "    </tr>\n",
              "    <tr>\n",
              "      <th>Macan</th>\n",
              "      <td>Motor Diesel V6</td>\n",
              "      <td>1992</td>\n",
              "      <td>50188.0</td>\n",
              "      <td>False</td>\n",
              "      <td>['Central multimídia', 'Teto panorâmico', 'Vid...</td>\n",
              "      <td>90381.47</td>\n",
              "    </tr>\n",
              "  </tbody>\n",
              "</table>\n",
              "<p>258 rows × 6 columns</p>\n",
              "</div>"
            ],
            "text/plain": [
              "                                       Motor  ...      Valor\n",
              "Nome                                          ...           \n",
              "Jetta Variant                Motor 4.0 Turbo  ...   88078.64\n",
              "Passat                          Motor Diesel  ...  106161.94\n",
              "Crossfox                     Motor Diesel V8  ...   72832.16\n",
              "DS5                          Motor 2.4 Turbo  ...  124549.07\n",
              "Aston Martin DB4             Motor 2.4 Turbo  ...   92612.10\n",
              "...                                      ...  ...        ...\n",
              "Phantom 2013                        Motor V8  ...   51759.58\n",
              "Cadillac Ciel concept               Motor V8  ...   51667.06\n",
              "Classe GLK             Motor 5.0 V8 Bi-Turbo  ...   68934.03\n",
              "Aston Martin DB5                Motor Diesel  ...  122110.90\n",
              "Macan                        Motor Diesel V6  ...   90381.47\n",
              "\n",
              "[258 rows x 6 columns]"
            ]
          },
          "metadata": {},
          "execution_count": 145
        }
      ]
    },
    {
      "cell_type": "markdown",
      "metadata": {
        "id": "Dyp8BIGGqeQf"
      },
      "source": [
        "## Exercício: Criando DataFrames "
      ]
    },
    {
      "cell_type": "code",
      "metadata": {
        "id": "mKqaMXNvqjZY"
      },
      "source": [
        "dados = {\n",
        "    'Crossfox': {'km': 35000, 'ano': 2005}, \n",
        "    'DS5': {'km': 17000, 'ano': 2015}, \n",
        "    'Fusca': {'km': 130000, 'ano': 1979}, \n",
        "    'Jetta': {'km': 56000, 'ano': 2011}, \n",
        "    'Passat': {'km': 62000, 'ano': 1999}\n",
        "}"
      ],
      "execution_count": null,
      "outputs": []
    },
    {
      "cell_type": "code",
      "metadata": {
        "id": "OEjgTCyeqjbu"
      },
      "source": [
        "def km_media(dataset, ano_atual):\n",
        "  result = {}\n",
        "  for item in dataset.items():\n",
        "    media = item[1]['km'] / (ano_atual - item[1]['ano'])\n",
        "    item[1].update({'km_media': media })\n",
        "    result.update({item[0]: item[1]})\n",
        "\n",
        "  return result\n"
      ],
      "execution_count": null,
      "outputs": []
    },
    {
      "cell_type": "code",
      "metadata": {
        "colab": {
          "base_uri": "https://localhost:8080/"
        },
        "id": "z-CmVR7eqje-",
        "outputId": "b6e1eb7e-d05f-456e-af91-5f25b6de5fbb"
      },
      "source": [
        "km_media(dados, 2019)"
      ],
      "execution_count": null,
      "outputs": [
        {
          "output_type": "execute_result",
          "data": {
            "text/plain": [
              "{'Crossfox': {'ano': 2005, 'km': 35000, 'km_media': 2500.0},\n",
              " 'DS5': {'ano': 2015, 'km': 17000, 'km_media': 4250.0},\n",
              " 'Fusca': {'ano': 1979, 'km': 130000, 'km_media': 3250.0},\n",
              " 'Jetta': {'ano': 2011, 'km': 56000, 'km_media': 7000.0},\n",
              " 'Passat': {'ano': 1999, 'km': 62000, 'km_media': 3100.0}}"
            ]
          },
          "metadata": {},
          "execution_count": 34
        }
      ]
    },
    {
      "cell_type": "code",
      "metadata": {
        "id": "2A5Sj1nTrtoi"
      },
      "source": [
        "import pandas as pd\n",
        "\n",
        "carros = pd.DataFrame(km_media(dados,2019)).T"
      ],
      "execution_count": null,
      "outputs": []
    },
    {
      "cell_type": "code",
      "metadata": {
        "colab": {
          "base_uri": "https://localhost:8080/",
          "height": 204
        },
        "id": "Y5lI6bs5rtqd",
        "outputId": "b3bf5708-1687-4de6-8c20-8137be25b6f0"
      },
      "source": [
        "carros"
      ],
      "execution_count": null,
      "outputs": [
        {
          "output_type": "execute_result",
          "data": {
            "text/html": [
              "<div>\n",
              "<style scoped>\n",
              "    .dataframe tbody tr th:only-of-type {\n",
              "        vertical-align: middle;\n",
              "    }\n",
              "\n",
              "    .dataframe tbody tr th {\n",
              "        vertical-align: top;\n",
              "    }\n",
              "\n",
              "    .dataframe thead th {\n",
              "        text-align: right;\n",
              "    }\n",
              "</style>\n",
              "<table border=\"1\" class=\"dataframe\">\n",
              "  <thead>\n",
              "    <tr style=\"text-align: right;\">\n",
              "      <th></th>\n",
              "      <th>km</th>\n",
              "      <th>ano</th>\n",
              "      <th>km_media</th>\n",
              "    </tr>\n",
              "  </thead>\n",
              "  <tbody>\n",
              "    <tr>\n",
              "      <th>Crossfox</th>\n",
              "      <td>35000.0</td>\n",
              "      <td>2005.0</td>\n",
              "      <td>2500.0</td>\n",
              "    </tr>\n",
              "    <tr>\n",
              "      <th>DS5</th>\n",
              "      <td>17000.0</td>\n",
              "      <td>2015.0</td>\n",
              "      <td>4250.0</td>\n",
              "    </tr>\n",
              "    <tr>\n",
              "      <th>Fusca</th>\n",
              "      <td>130000.0</td>\n",
              "      <td>1979.0</td>\n",
              "      <td>3250.0</td>\n",
              "    </tr>\n",
              "    <tr>\n",
              "      <th>Jetta</th>\n",
              "      <td>56000.0</td>\n",
              "      <td>2011.0</td>\n",
              "      <td>7000.0</td>\n",
              "    </tr>\n",
              "    <tr>\n",
              "      <th>Passat</th>\n",
              "      <td>62000.0</td>\n",
              "      <td>1999.0</td>\n",
              "      <td>3100.0</td>\n",
              "    </tr>\n",
              "  </tbody>\n",
              "</table>\n",
              "</div>"
            ],
            "text/plain": [
              "                km     ano  km_media\n",
              "Crossfox   35000.0  2005.0    2500.0\n",
              "DS5        17000.0  2015.0    4250.0\n",
              "Fusca     130000.0  1979.0    3250.0\n",
              "Jetta      56000.0  2011.0    7000.0\n",
              "Passat     62000.0  1999.0    3100.0"
            ]
          },
          "metadata": {},
          "execution_count": 38
        }
      ]
    },
    {
      "cell_type": "markdown",
      "metadata": {
        "id": "y5V-1AK-D1BN"
      },
      "source": [
        "# 5.2 Seleções com DataFrames"
      ]
    },
    {
      "cell_type": "code",
      "metadata": {
        "colab": {
          "base_uri": "https://localhost:8080/",
          "height": 235
        },
        "id": "HDFzhLVBrtwI",
        "outputId": "f27bd59f-f2c8-4171-911b-360bce308737"
      },
      "source": [
        "dataset.head()"
      ],
      "execution_count": null,
      "outputs": [
        {
          "output_type": "execute_result",
          "data": {
            "text/html": [
              "<div>\n",
              "<style scoped>\n",
              "    .dataframe tbody tr th:only-of-type {\n",
              "        vertical-align: middle;\n",
              "    }\n",
              "\n",
              "    .dataframe tbody tr th {\n",
              "        vertical-align: top;\n",
              "    }\n",
              "\n",
              "    .dataframe thead th {\n",
              "        text-align: right;\n",
              "    }\n",
              "</style>\n",
              "<table border=\"1\" class=\"dataframe\">\n",
              "  <thead>\n",
              "    <tr style=\"text-align: right;\">\n",
              "      <th></th>\n",
              "      <th>Motor</th>\n",
              "      <th>Ano</th>\n",
              "      <th>Quilometragem</th>\n",
              "      <th>Zero_km</th>\n",
              "      <th>Acessórios</th>\n",
              "      <th>Valor</th>\n",
              "    </tr>\n",
              "    <tr>\n",
              "      <th>Nome</th>\n",
              "      <th></th>\n",
              "      <th></th>\n",
              "      <th></th>\n",
              "      <th></th>\n",
              "      <th></th>\n",
              "      <th></th>\n",
              "    </tr>\n",
              "  </thead>\n",
              "  <tbody>\n",
              "    <tr>\n",
              "      <th>Jetta Variant</th>\n",
              "      <td>Motor 4.0 Turbo</td>\n",
              "      <td>2003</td>\n",
              "      <td>44410.0</td>\n",
              "      <td>False</td>\n",
              "      <td>['Rodas de liga', 'Travas elétricas', 'Piloto ...</td>\n",
              "      <td>88078.64</td>\n",
              "    </tr>\n",
              "    <tr>\n",
              "      <th>Passat</th>\n",
              "      <td>Motor Diesel</td>\n",
              "      <td>1991</td>\n",
              "      <td>5712.0</td>\n",
              "      <td>False</td>\n",
              "      <td>['Central multimídia', 'Teto panorâmico', 'Fre...</td>\n",
              "      <td>106161.94</td>\n",
              "    </tr>\n",
              "    <tr>\n",
              "      <th>Crossfox</th>\n",
              "      <td>Motor Diesel V8</td>\n",
              "      <td>1990</td>\n",
              "      <td>37123.0</td>\n",
              "      <td>False</td>\n",
              "      <td>['Piloto automático', 'Controle de estabilidad...</td>\n",
              "      <td>72832.16</td>\n",
              "    </tr>\n",
              "    <tr>\n",
              "      <th>DS5</th>\n",
              "      <td>Motor 2.4 Turbo</td>\n",
              "      <td>2019</td>\n",
              "      <td>NaN</td>\n",
              "      <td>True</td>\n",
              "      <td>['Travas elétricas', '4 X 4', 'Vidros elétrico...</td>\n",
              "      <td>124549.07</td>\n",
              "    </tr>\n",
              "    <tr>\n",
              "      <th>Aston Martin DB4</th>\n",
              "      <td>Motor 2.4 Turbo</td>\n",
              "      <td>2006</td>\n",
              "      <td>25757.0</td>\n",
              "      <td>False</td>\n",
              "      <td>['Rodas de liga', '4 X 4', 'Central multimídia...</td>\n",
              "      <td>92612.10</td>\n",
              "    </tr>\n",
              "  </tbody>\n",
              "</table>\n",
              "</div>"
            ],
            "text/plain": [
              "                            Motor  ...      Valor\n",
              "Nome                               ...           \n",
              "Jetta Variant     Motor 4.0 Turbo  ...   88078.64\n",
              "Passat               Motor Diesel  ...  106161.94\n",
              "Crossfox          Motor Diesel V8  ...   72832.16\n",
              "DS5               Motor 2.4 Turbo  ...  124549.07\n",
              "Aston Martin DB4  Motor 2.4 Turbo  ...   92612.10\n",
              "\n",
              "[5 rows x 6 columns]"
            ]
          },
          "metadata": {},
          "execution_count": 42
        }
      ]
    },
    {
      "cell_type": "markdown",
      "metadata": {
        "id": "wZjqlHe9D1BN"
      },
      "source": [
        "### Selecionando colunas"
      ]
    },
    {
      "cell_type": "code",
      "metadata": {
        "scrolled": true,
        "id": "gM3LbtzlD1BN",
        "colab": {
          "base_uri": "https://localhost:8080/"
        },
        "outputId": "1caed16a-07ab-48a6-b38e-14ab43a2dc4f"
      },
      "source": [
        "dataset['Valor']"
      ],
      "execution_count": null,
      "outputs": [
        {
          "output_type": "execute_result",
          "data": {
            "text/plain": [
              "Nome\n",
              "Jetta Variant             88078.64\n",
              "Passat                   106161.94\n",
              "Crossfox                  72832.16\n",
              "DS5                      124549.07\n",
              "Aston Martin DB4          92612.10\n",
              "                           ...    \n",
              "Phantom 2013              51759.58\n",
              "Cadillac Ciel concept     51667.06\n",
              "Classe GLK                68934.03\n",
              "Aston Martin DB5         122110.90\n",
              "Macan                     90381.47\n",
              "Name: Valor, Length: 258, dtype: float64"
            ]
          },
          "metadata": {},
          "execution_count": 44
        }
      ]
    },
    {
      "cell_type": "code",
      "metadata": {
        "id": "R2FWgCM_D1BO",
        "colab": {
          "base_uri": "https://localhost:8080/"
        },
        "outputId": "af8fe851-8352-46bf-db7a-04f6a84e480c"
      },
      "source": [
        "type(dataset['Valor'])"
      ],
      "execution_count": null,
      "outputs": [
        {
          "output_type": "execute_result",
          "data": {
            "text/plain": [
              "pandas.core.series.Series"
            ]
          },
          "metadata": {},
          "execution_count": 45
        }
      ]
    },
    {
      "cell_type": "code",
      "metadata": {
        "scrolled": true,
        "id": "lCCumsxsD1BP",
        "colab": {
          "base_uri": "https://localhost:8080/",
          "height": 450
        },
        "outputId": "b15a3d64-21eb-471c-83e7-5272a2c32992"
      },
      "source": [
        "dataset[['Valor']]"
      ],
      "execution_count": null,
      "outputs": [
        {
          "output_type": "execute_result",
          "data": {
            "text/html": [
              "<div>\n",
              "<style scoped>\n",
              "    .dataframe tbody tr th:only-of-type {\n",
              "        vertical-align: middle;\n",
              "    }\n",
              "\n",
              "    .dataframe tbody tr th {\n",
              "        vertical-align: top;\n",
              "    }\n",
              "\n",
              "    .dataframe thead th {\n",
              "        text-align: right;\n",
              "    }\n",
              "</style>\n",
              "<table border=\"1\" class=\"dataframe\">\n",
              "  <thead>\n",
              "    <tr style=\"text-align: right;\">\n",
              "      <th></th>\n",
              "      <th>Valor</th>\n",
              "    </tr>\n",
              "    <tr>\n",
              "      <th>Nome</th>\n",
              "      <th></th>\n",
              "    </tr>\n",
              "  </thead>\n",
              "  <tbody>\n",
              "    <tr>\n",
              "      <th>Jetta Variant</th>\n",
              "      <td>88078.64</td>\n",
              "    </tr>\n",
              "    <tr>\n",
              "      <th>Passat</th>\n",
              "      <td>106161.94</td>\n",
              "    </tr>\n",
              "    <tr>\n",
              "      <th>Crossfox</th>\n",
              "      <td>72832.16</td>\n",
              "    </tr>\n",
              "    <tr>\n",
              "      <th>DS5</th>\n",
              "      <td>124549.07</td>\n",
              "    </tr>\n",
              "    <tr>\n",
              "      <th>Aston Martin DB4</th>\n",
              "      <td>92612.10</td>\n",
              "    </tr>\n",
              "    <tr>\n",
              "      <th>...</th>\n",
              "      <td>...</td>\n",
              "    </tr>\n",
              "    <tr>\n",
              "      <th>Phantom 2013</th>\n",
              "      <td>51759.58</td>\n",
              "    </tr>\n",
              "    <tr>\n",
              "      <th>Cadillac Ciel concept</th>\n",
              "      <td>51667.06</td>\n",
              "    </tr>\n",
              "    <tr>\n",
              "      <th>Classe GLK</th>\n",
              "      <td>68934.03</td>\n",
              "    </tr>\n",
              "    <tr>\n",
              "      <th>Aston Martin DB5</th>\n",
              "      <td>122110.90</td>\n",
              "    </tr>\n",
              "    <tr>\n",
              "      <th>Macan</th>\n",
              "      <td>90381.47</td>\n",
              "    </tr>\n",
              "  </tbody>\n",
              "</table>\n",
              "<p>258 rows × 1 columns</p>\n",
              "</div>"
            ],
            "text/plain": [
              "                           Valor\n",
              "Nome                            \n",
              "Jetta Variant           88078.64\n",
              "Passat                 106161.94\n",
              "Crossfox                72832.16\n",
              "DS5                    124549.07\n",
              "Aston Martin DB4        92612.10\n",
              "...                          ...\n",
              "Phantom 2013            51759.58\n",
              "Cadillac Ciel concept   51667.06\n",
              "Classe GLK              68934.03\n",
              "Aston Martin DB5       122110.90\n",
              "Macan                   90381.47\n",
              "\n",
              "[258 rows x 1 columns]"
            ]
          },
          "metadata": {},
          "execution_count": 46
        }
      ]
    },
    {
      "cell_type": "code",
      "metadata": {
        "id": "zxlyC3B8D1BP",
        "colab": {
          "base_uri": "https://localhost:8080/"
        },
        "outputId": "bf3f6cf1-f57c-4813-cd8b-f0a9006473ed"
      },
      "source": [
        "type(dataset[['Valor']])"
      ],
      "execution_count": null,
      "outputs": [
        {
          "output_type": "execute_result",
          "data": {
            "text/plain": [
              "pandas.core.frame.DataFrame"
            ]
          },
          "metadata": {},
          "execution_count": 47
        }
      ]
    },
    {
      "cell_type": "markdown",
      "metadata": {
        "id": "7RPXPm1XD1BQ"
      },
      "source": [
        "### Selecionando linhas - [ i : j ] \n",
        "\n",
        "<font color=red>**Observação:**</font> A indexação tem origem no zero e nos fatiamentos (*slices*) a linha com índice i é **incluída** e a linha com índice j **não é incluída** no resultado."
      ]
    },
    {
      "cell_type": "code",
      "metadata": {
        "id": "PdDUwPw3D1BQ",
        "colab": {
          "base_uri": "https://localhost:8080/",
          "height": 204
        },
        "outputId": "f69e3b52-0182-4695-87d7-8bf0e58ca8e4"
      },
      "source": [
        "dataset[0:4]"
      ],
      "execution_count": null,
      "outputs": [
        {
          "output_type": "execute_result",
          "data": {
            "text/html": [
              "<div>\n",
              "<style scoped>\n",
              "    .dataframe tbody tr th:only-of-type {\n",
              "        vertical-align: middle;\n",
              "    }\n",
              "\n",
              "    .dataframe tbody tr th {\n",
              "        vertical-align: top;\n",
              "    }\n",
              "\n",
              "    .dataframe thead th {\n",
              "        text-align: right;\n",
              "    }\n",
              "</style>\n",
              "<table border=\"1\" class=\"dataframe\">\n",
              "  <thead>\n",
              "    <tr style=\"text-align: right;\">\n",
              "      <th></th>\n",
              "      <th>Motor</th>\n",
              "      <th>Ano</th>\n",
              "      <th>Quilometragem</th>\n",
              "      <th>Zero_km</th>\n",
              "      <th>Acessórios</th>\n",
              "      <th>Valor</th>\n",
              "    </tr>\n",
              "    <tr>\n",
              "      <th>Nome</th>\n",
              "      <th></th>\n",
              "      <th></th>\n",
              "      <th></th>\n",
              "      <th></th>\n",
              "      <th></th>\n",
              "      <th></th>\n",
              "    </tr>\n",
              "  </thead>\n",
              "  <tbody>\n",
              "    <tr>\n",
              "      <th>Jetta Variant</th>\n",
              "      <td>Motor 4.0 Turbo</td>\n",
              "      <td>2003</td>\n",
              "      <td>44410.0</td>\n",
              "      <td>False</td>\n",
              "      <td>['Rodas de liga', 'Travas elétricas', 'Piloto ...</td>\n",
              "      <td>88078.64</td>\n",
              "    </tr>\n",
              "    <tr>\n",
              "      <th>Passat</th>\n",
              "      <td>Motor Diesel</td>\n",
              "      <td>1991</td>\n",
              "      <td>5712.0</td>\n",
              "      <td>False</td>\n",
              "      <td>['Central multimídia', 'Teto panorâmico', 'Fre...</td>\n",
              "      <td>106161.94</td>\n",
              "    </tr>\n",
              "    <tr>\n",
              "      <th>Crossfox</th>\n",
              "      <td>Motor Diesel V8</td>\n",
              "      <td>1990</td>\n",
              "      <td>37123.0</td>\n",
              "      <td>False</td>\n",
              "      <td>['Piloto automático', 'Controle de estabilidad...</td>\n",
              "      <td>72832.16</td>\n",
              "    </tr>\n",
              "    <tr>\n",
              "      <th>DS5</th>\n",
              "      <td>Motor 2.4 Turbo</td>\n",
              "      <td>2019</td>\n",
              "      <td>NaN</td>\n",
              "      <td>True</td>\n",
              "      <td>['Travas elétricas', '4 X 4', 'Vidros elétrico...</td>\n",
              "      <td>124549.07</td>\n",
              "    </tr>\n",
              "  </tbody>\n",
              "</table>\n",
              "</div>"
            ],
            "text/plain": [
              "                         Motor  ...      Valor\n",
              "Nome                            ...           \n",
              "Jetta Variant  Motor 4.0 Turbo  ...   88078.64\n",
              "Passat            Motor Diesel  ...  106161.94\n",
              "Crossfox       Motor Diesel V8  ...   72832.16\n",
              "DS5            Motor 2.4 Turbo  ...  124549.07\n",
              "\n",
              "[4 rows x 6 columns]"
            ]
          },
          "metadata": {},
          "execution_count": 48
        }
      ]
    },
    {
      "cell_type": "markdown",
      "metadata": {
        "id": "G3DMSk97D1BR"
      },
      "source": [
        "### Utilizando .loc para seleções\n",
        "\n",
        "<font color=red>**Observação:**</font> Seleciona um grupo de linhas e colunas segundo os rótulos ou uma matriz booleana."
      ]
    },
    {
      "cell_type": "code",
      "metadata": {
        "id": "Ftg-hNOoD1BR",
        "colab": {
          "base_uri": "https://localhost:8080/"
        },
        "outputId": "44fcc268-a9a5-45e9-8cda-99d7105041c0"
      },
      "source": [
        "dataset.loc['Passat']"
      ],
      "execution_count": null,
      "outputs": [
        {
          "output_type": "execute_result",
          "data": {
            "text/plain": [
              "Motor                                                 Motor Diesel\n",
              "Ano                                                           1991\n",
              "Quilometragem                                                 5712\n",
              "Zero_km                                                      False\n",
              "Acessórios       ['Central multimídia', 'Teto panorâmico', 'Fre...\n",
              "Valor                                                       106162\n",
              "Name: Passat, dtype: object"
            ]
          },
          "metadata": {},
          "execution_count": 49
        }
      ]
    },
    {
      "cell_type": "code",
      "metadata": {
        "id": "xdxkDrHvD1BS",
        "colab": {
          "base_uri": "https://localhost:8080/",
          "height": 142
        },
        "outputId": "5a280c10-a007-4a8e-e47c-f76b7be69f92"
      },
      "source": [
        "dataset.loc[['Passat', 'DS5']]"
      ],
      "execution_count": null,
      "outputs": [
        {
          "output_type": "execute_result",
          "data": {
            "text/html": [
              "<div>\n",
              "<style scoped>\n",
              "    .dataframe tbody tr th:only-of-type {\n",
              "        vertical-align: middle;\n",
              "    }\n",
              "\n",
              "    .dataframe tbody tr th {\n",
              "        vertical-align: top;\n",
              "    }\n",
              "\n",
              "    .dataframe thead th {\n",
              "        text-align: right;\n",
              "    }\n",
              "</style>\n",
              "<table border=\"1\" class=\"dataframe\">\n",
              "  <thead>\n",
              "    <tr style=\"text-align: right;\">\n",
              "      <th></th>\n",
              "      <th>Motor</th>\n",
              "      <th>Ano</th>\n",
              "      <th>Quilometragem</th>\n",
              "      <th>Zero_km</th>\n",
              "      <th>Acessórios</th>\n",
              "      <th>Valor</th>\n",
              "    </tr>\n",
              "    <tr>\n",
              "      <th>Nome</th>\n",
              "      <th></th>\n",
              "      <th></th>\n",
              "      <th></th>\n",
              "      <th></th>\n",
              "      <th></th>\n",
              "      <th></th>\n",
              "    </tr>\n",
              "  </thead>\n",
              "  <tbody>\n",
              "    <tr>\n",
              "      <th>Passat</th>\n",
              "      <td>Motor Diesel</td>\n",
              "      <td>1991</td>\n",
              "      <td>5712.0</td>\n",
              "      <td>False</td>\n",
              "      <td>['Central multimídia', 'Teto panorâmico', 'Fre...</td>\n",
              "      <td>106161.94</td>\n",
              "    </tr>\n",
              "    <tr>\n",
              "      <th>DS5</th>\n",
              "      <td>Motor 2.4 Turbo</td>\n",
              "      <td>2019</td>\n",
              "      <td>NaN</td>\n",
              "      <td>True</td>\n",
              "      <td>['Travas elétricas', '4 X 4', 'Vidros elétrico...</td>\n",
              "      <td>124549.07</td>\n",
              "    </tr>\n",
              "  </tbody>\n",
              "</table>\n",
              "</div>"
            ],
            "text/plain": [
              "                  Motor  ...      Valor\n",
              "Nome                     ...           \n",
              "Passat     Motor Diesel  ...  106161.94\n",
              "DS5     Motor 2.4 Turbo  ...  124549.07\n",
              "\n",
              "[2 rows x 6 columns]"
            ]
          },
          "metadata": {},
          "execution_count": 50
        }
      ]
    },
    {
      "cell_type": "code",
      "metadata": {
        "id": "pMN3U1KjD1BS",
        "colab": {
          "base_uri": "https://localhost:8080/",
          "height": 142
        },
        "outputId": "3e504d0c-e7ed-445b-dffe-737df461e8fb"
      },
      "source": [
        "dataset.loc[['Passat', 'DS5'], ['Motor', 'Valor']]"
      ],
      "execution_count": null,
      "outputs": [
        {
          "output_type": "execute_result",
          "data": {
            "text/html": [
              "<div>\n",
              "<style scoped>\n",
              "    .dataframe tbody tr th:only-of-type {\n",
              "        vertical-align: middle;\n",
              "    }\n",
              "\n",
              "    .dataframe tbody tr th {\n",
              "        vertical-align: top;\n",
              "    }\n",
              "\n",
              "    .dataframe thead th {\n",
              "        text-align: right;\n",
              "    }\n",
              "</style>\n",
              "<table border=\"1\" class=\"dataframe\">\n",
              "  <thead>\n",
              "    <tr style=\"text-align: right;\">\n",
              "      <th></th>\n",
              "      <th>Motor</th>\n",
              "      <th>Valor</th>\n",
              "    </tr>\n",
              "    <tr>\n",
              "      <th>Nome</th>\n",
              "      <th></th>\n",
              "      <th></th>\n",
              "    </tr>\n",
              "  </thead>\n",
              "  <tbody>\n",
              "    <tr>\n",
              "      <th>Passat</th>\n",
              "      <td>Motor Diesel</td>\n",
              "      <td>106161.94</td>\n",
              "    </tr>\n",
              "    <tr>\n",
              "      <th>DS5</th>\n",
              "      <td>Motor 2.4 Turbo</td>\n",
              "      <td>124549.07</td>\n",
              "    </tr>\n",
              "  </tbody>\n",
              "</table>\n",
              "</div>"
            ],
            "text/plain": [
              "                  Motor      Valor\n",
              "Nome                              \n",
              "Passat     Motor Diesel  106161.94\n",
              "DS5     Motor 2.4 Turbo  124549.07"
            ]
          },
          "metadata": {},
          "execution_count": 51
        }
      ]
    },
    {
      "cell_type": "code",
      "metadata": {
        "scrolled": true,
        "id": "oOEO72uZD1BT",
        "colab": {
          "base_uri": "https://localhost:8080/",
          "height": 450
        },
        "outputId": "9458d1ad-d64a-4377-ec20-ce4ae40b3a6c"
      },
      "source": [
        "dataset.loc[: , ['Motor', 'Valor']]"
      ],
      "execution_count": null,
      "outputs": [
        {
          "output_type": "execute_result",
          "data": {
            "text/html": [
              "<div>\n",
              "<style scoped>\n",
              "    .dataframe tbody tr th:only-of-type {\n",
              "        vertical-align: middle;\n",
              "    }\n",
              "\n",
              "    .dataframe tbody tr th {\n",
              "        vertical-align: top;\n",
              "    }\n",
              "\n",
              "    .dataframe thead th {\n",
              "        text-align: right;\n",
              "    }\n",
              "</style>\n",
              "<table border=\"1\" class=\"dataframe\">\n",
              "  <thead>\n",
              "    <tr style=\"text-align: right;\">\n",
              "      <th></th>\n",
              "      <th>Motor</th>\n",
              "      <th>Valor</th>\n",
              "    </tr>\n",
              "    <tr>\n",
              "      <th>Nome</th>\n",
              "      <th></th>\n",
              "      <th></th>\n",
              "    </tr>\n",
              "  </thead>\n",
              "  <tbody>\n",
              "    <tr>\n",
              "      <th>Jetta Variant</th>\n",
              "      <td>Motor 4.0 Turbo</td>\n",
              "      <td>88078.64</td>\n",
              "    </tr>\n",
              "    <tr>\n",
              "      <th>Passat</th>\n",
              "      <td>Motor Diesel</td>\n",
              "      <td>106161.94</td>\n",
              "    </tr>\n",
              "    <tr>\n",
              "      <th>Crossfox</th>\n",
              "      <td>Motor Diesel V8</td>\n",
              "      <td>72832.16</td>\n",
              "    </tr>\n",
              "    <tr>\n",
              "      <th>DS5</th>\n",
              "      <td>Motor 2.4 Turbo</td>\n",
              "      <td>124549.07</td>\n",
              "    </tr>\n",
              "    <tr>\n",
              "      <th>Aston Martin DB4</th>\n",
              "      <td>Motor 2.4 Turbo</td>\n",
              "      <td>92612.10</td>\n",
              "    </tr>\n",
              "    <tr>\n",
              "      <th>...</th>\n",
              "      <td>...</td>\n",
              "      <td>...</td>\n",
              "    </tr>\n",
              "    <tr>\n",
              "      <th>Phantom 2013</th>\n",
              "      <td>Motor V8</td>\n",
              "      <td>51759.58</td>\n",
              "    </tr>\n",
              "    <tr>\n",
              "      <th>Cadillac Ciel concept</th>\n",
              "      <td>Motor V8</td>\n",
              "      <td>51667.06</td>\n",
              "    </tr>\n",
              "    <tr>\n",
              "      <th>Classe GLK</th>\n",
              "      <td>Motor 5.0 V8 Bi-Turbo</td>\n",
              "      <td>68934.03</td>\n",
              "    </tr>\n",
              "    <tr>\n",
              "      <th>Aston Martin DB5</th>\n",
              "      <td>Motor Diesel</td>\n",
              "      <td>122110.90</td>\n",
              "    </tr>\n",
              "    <tr>\n",
              "      <th>Macan</th>\n",
              "      <td>Motor Diesel V6</td>\n",
              "      <td>90381.47</td>\n",
              "    </tr>\n",
              "  </tbody>\n",
              "</table>\n",
              "<p>258 rows × 2 columns</p>\n",
              "</div>"
            ],
            "text/plain": [
              "                                       Motor      Valor\n",
              "Nome                                                   \n",
              "Jetta Variant                Motor 4.0 Turbo   88078.64\n",
              "Passat                          Motor Diesel  106161.94\n",
              "Crossfox                     Motor Diesel V8   72832.16\n",
              "DS5                          Motor 2.4 Turbo  124549.07\n",
              "Aston Martin DB4             Motor 2.4 Turbo   92612.10\n",
              "...                                      ...        ...\n",
              "Phantom 2013                        Motor V8   51759.58\n",
              "Cadillac Ciel concept               Motor V8   51667.06\n",
              "Classe GLK             Motor 5.0 V8 Bi-Turbo   68934.03\n",
              "Aston Martin DB5                Motor Diesel  122110.90\n",
              "Macan                        Motor Diesel V6   90381.47\n",
              "\n",
              "[258 rows x 2 columns]"
            ]
          },
          "metadata": {},
          "execution_count": 52
        }
      ]
    },
    {
      "cell_type": "markdown",
      "metadata": {
        "id": "SYKEe3vCD1BT"
      },
      "source": [
        "### Utilizando .iloc para seleções\n",
        "\n",
        "<font color=red>**Observação:**</font> Seleciona com base nos índices, ou seja, se baseia na posição das informações."
      ]
    },
    {
      "cell_type": "code",
      "metadata": {
        "colab": {
          "base_uri": "https://localhost:8080/",
          "height": 235
        },
        "id": "3PC64Gcqv3uC",
        "outputId": "9b1973e3-b658-44ef-aea2-c7a2c3f36af1"
      },
      "source": [
        "dataset.head()"
      ],
      "execution_count": null,
      "outputs": [
        {
          "output_type": "execute_result",
          "data": {
            "text/html": [
              "<div>\n",
              "<style scoped>\n",
              "    .dataframe tbody tr th:only-of-type {\n",
              "        vertical-align: middle;\n",
              "    }\n",
              "\n",
              "    .dataframe tbody tr th {\n",
              "        vertical-align: top;\n",
              "    }\n",
              "\n",
              "    .dataframe thead th {\n",
              "        text-align: right;\n",
              "    }\n",
              "</style>\n",
              "<table border=\"1\" class=\"dataframe\">\n",
              "  <thead>\n",
              "    <tr style=\"text-align: right;\">\n",
              "      <th></th>\n",
              "      <th>Motor</th>\n",
              "      <th>Ano</th>\n",
              "      <th>Quilometragem</th>\n",
              "      <th>Zero_km</th>\n",
              "      <th>Acessórios</th>\n",
              "      <th>Valor</th>\n",
              "    </tr>\n",
              "    <tr>\n",
              "      <th>Nome</th>\n",
              "      <th></th>\n",
              "      <th></th>\n",
              "      <th></th>\n",
              "      <th></th>\n",
              "      <th></th>\n",
              "      <th></th>\n",
              "    </tr>\n",
              "  </thead>\n",
              "  <tbody>\n",
              "    <tr>\n",
              "      <th>Jetta Variant</th>\n",
              "      <td>Motor 4.0 Turbo</td>\n",
              "      <td>2003</td>\n",
              "      <td>44410.0</td>\n",
              "      <td>False</td>\n",
              "      <td>['Rodas de liga', 'Travas elétricas', 'Piloto ...</td>\n",
              "      <td>88078.64</td>\n",
              "    </tr>\n",
              "    <tr>\n",
              "      <th>Passat</th>\n",
              "      <td>Motor Diesel</td>\n",
              "      <td>1991</td>\n",
              "      <td>5712.0</td>\n",
              "      <td>False</td>\n",
              "      <td>['Central multimídia', 'Teto panorâmico', 'Fre...</td>\n",
              "      <td>106161.94</td>\n",
              "    </tr>\n",
              "    <tr>\n",
              "      <th>Crossfox</th>\n",
              "      <td>Motor Diesel V8</td>\n",
              "      <td>1990</td>\n",
              "      <td>37123.0</td>\n",
              "      <td>False</td>\n",
              "      <td>['Piloto automático', 'Controle de estabilidad...</td>\n",
              "      <td>72832.16</td>\n",
              "    </tr>\n",
              "    <tr>\n",
              "      <th>DS5</th>\n",
              "      <td>Motor 2.4 Turbo</td>\n",
              "      <td>2019</td>\n",
              "      <td>NaN</td>\n",
              "      <td>True</td>\n",
              "      <td>['Travas elétricas', '4 X 4', 'Vidros elétrico...</td>\n",
              "      <td>124549.07</td>\n",
              "    </tr>\n",
              "    <tr>\n",
              "      <th>Aston Martin DB4</th>\n",
              "      <td>Motor 2.4 Turbo</td>\n",
              "      <td>2006</td>\n",
              "      <td>25757.0</td>\n",
              "      <td>False</td>\n",
              "      <td>['Rodas de liga', '4 X 4', 'Central multimídia...</td>\n",
              "      <td>92612.10</td>\n",
              "    </tr>\n",
              "  </tbody>\n",
              "</table>\n",
              "</div>"
            ],
            "text/plain": [
              "                            Motor  ...      Valor\n",
              "Nome                               ...           \n",
              "Jetta Variant     Motor 4.0 Turbo  ...   88078.64\n",
              "Passat               Motor Diesel  ...  106161.94\n",
              "Crossfox          Motor Diesel V8  ...   72832.16\n",
              "DS5               Motor 2.4 Turbo  ...  124549.07\n",
              "Aston Martin DB4  Motor 2.4 Turbo  ...   92612.10\n",
              "\n",
              "[5 rows x 6 columns]"
            ]
          },
          "metadata": {},
          "execution_count": 57
        }
      ]
    },
    {
      "cell_type": "code",
      "metadata": {
        "id": "U4Bru90bD1BT",
        "colab": {
          "base_uri": "https://localhost:8080/",
          "height": 111
        },
        "outputId": "494d4862-0ce1-4963-f167-860670ac94d9"
      },
      "source": [
        "dataset.iloc[[1]]"
      ],
      "execution_count": null,
      "outputs": [
        {
          "output_type": "execute_result",
          "data": {
            "text/html": [
              "<div>\n",
              "<style scoped>\n",
              "    .dataframe tbody tr th:only-of-type {\n",
              "        vertical-align: middle;\n",
              "    }\n",
              "\n",
              "    .dataframe tbody tr th {\n",
              "        vertical-align: top;\n",
              "    }\n",
              "\n",
              "    .dataframe thead th {\n",
              "        text-align: right;\n",
              "    }\n",
              "</style>\n",
              "<table border=\"1\" class=\"dataframe\">\n",
              "  <thead>\n",
              "    <tr style=\"text-align: right;\">\n",
              "      <th></th>\n",
              "      <th>Motor</th>\n",
              "      <th>Ano</th>\n",
              "      <th>Quilometragem</th>\n",
              "      <th>Zero_km</th>\n",
              "      <th>Acessórios</th>\n",
              "      <th>Valor</th>\n",
              "    </tr>\n",
              "    <tr>\n",
              "      <th>Nome</th>\n",
              "      <th></th>\n",
              "      <th></th>\n",
              "      <th></th>\n",
              "      <th></th>\n",
              "      <th></th>\n",
              "      <th></th>\n",
              "    </tr>\n",
              "  </thead>\n",
              "  <tbody>\n",
              "    <tr>\n",
              "      <th>Passat</th>\n",
              "      <td>Motor Diesel</td>\n",
              "      <td>1991</td>\n",
              "      <td>5712.0</td>\n",
              "      <td>False</td>\n",
              "      <td>['Central multimídia', 'Teto panorâmico', 'Fre...</td>\n",
              "      <td>106161.94</td>\n",
              "    </tr>\n",
              "  </tbody>\n",
              "</table>\n",
              "</div>"
            ],
            "text/plain": [
              "               Motor  ...      Valor\n",
              "Nome                  ...           \n",
              "Passat  Motor Diesel  ...  106161.94\n",
              "\n",
              "[1 rows x 6 columns]"
            ]
          },
          "metadata": {},
          "execution_count": 61
        }
      ]
    },
    {
      "cell_type": "code",
      "metadata": {
        "id": "iLKUyrzND1BU",
        "colab": {
          "base_uri": "https://localhost:8080/",
          "height": 173
        },
        "outputId": "95bc41f0-d5d7-426e-cff3-16acaf9d52e1"
      },
      "source": [
        "dataset.iloc[1:4] # mais de um não precisa de dois []"
      ],
      "execution_count": null,
      "outputs": [
        {
          "output_type": "execute_result",
          "data": {
            "text/html": [
              "<div>\n",
              "<style scoped>\n",
              "    .dataframe tbody tr th:only-of-type {\n",
              "        vertical-align: middle;\n",
              "    }\n",
              "\n",
              "    .dataframe tbody tr th {\n",
              "        vertical-align: top;\n",
              "    }\n",
              "\n",
              "    .dataframe thead th {\n",
              "        text-align: right;\n",
              "    }\n",
              "</style>\n",
              "<table border=\"1\" class=\"dataframe\">\n",
              "  <thead>\n",
              "    <tr style=\"text-align: right;\">\n",
              "      <th></th>\n",
              "      <th>Motor</th>\n",
              "      <th>Ano</th>\n",
              "      <th>Quilometragem</th>\n",
              "      <th>Zero_km</th>\n",
              "      <th>Acessórios</th>\n",
              "      <th>Valor</th>\n",
              "    </tr>\n",
              "    <tr>\n",
              "      <th>Nome</th>\n",
              "      <th></th>\n",
              "      <th></th>\n",
              "      <th></th>\n",
              "      <th></th>\n",
              "      <th></th>\n",
              "      <th></th>\n",
              "    </tr>\n",
              "  </thead>\n",
              "  <tbody>\n",
              "    <tr>\n",
              "      <th>Passat</th>\n",
              "      <td>Motor Diesel</td>\n",
              "      <td>1991</td>\n",
              "      <td>5712.0</td>\n",
              "      <td>False</td>\n",
              "      <td>['Central multimídia', 'Teto panorâmico', 'Fre...</td>\n",
              "      <td>106161.94</td>\n",
              "    </tr>\n",
              "    <tr>\n",
              "      <th>Crossfox</th>\n",
              "      <td>Motor Diesel V8</td>\n",
              "      <td>1990</td>\n",
              "      <td>37123.0</td>\n",
              "      <td>False</td>\n",
              "      <td>['Piloto automático', 'Controle de estabilidad...</td>\n",
              "      <td>72832.16</td>\n",
              "    </tr>\n",
              "    <tr>\n",
              "      <th>DS5</th>\n",
              "      <td>Motor 2.4 Turbo</td>\n",
              "      <td>2019</td>\n",
              "      <td>NaN</td>\n",
              "      <td>True</td>\n",
              "      <td>['Travas elétricas', '4 X 4', 'Vidros elétrico...</td>\n",
              "      <td>124549.07</td>\n",
              "    </tr>\n",
              "  </tbody>\n",
              "</table>\n",
              "</div>"
            ],
            "text/plain": [
              "                    Motor  ...      Valor\n",
              "Nome                       ...           \n",
              "Passat       Motor Diesel  ...  106161.94\n",
              "Crossfox  Motor Diesel V8  ...   72832.16\n",
              "DS5       Motor 2.4 Turbo  ...  124549.07\n",
              "\n",
              "[3 rows x 6 columns]"
            ]
          },
          "metadata": {},
          "execution_count": 62
        }
      ]
    },
    {
      "cell_type": "code",
      "metadata": {
        "id": "KGZpixYUD1BU",
        "colab": {
          "base_uri": "https://localhost:8080/",
          "height": 173
        },
        "outputId": "7c06a35d-15ca-49a4-b12d-7e22d8fede98"
      },
      "source": [
        "dataset.iloc[1:4, [0, 5, 2]]"
      ],
      "execution_count": null,
      "outputs": [
        {
          "output_type": "execute_result",
          "data": {
            "text/html": [
              "<div>\n",
              "<style scoped>\n",
              "    .dataframe tbody tr th:only-of-type {\n",
              "        vertical-align: middle;\n",
              "    }\n",
              "\n",
              "    .dataframe tbody tr th {\n",
              "        vertical-align: top;\n",
              "    }\n",
              "\n",
              "    .dataframe thead th {\n",
              "        text-align: right;\n",
              "    }\n",
              "</style>\n",
              "<table border=\"1\" class=\"dataframe\">\n",
              "  <thead>\n",
              "    <tr style=\"text-align: right;\">\n",
              "      <th></th>\n",
              "      <th>Motor</th>\n",
              "      <th>Valor</th>\n",
              "      <th>Quilometragem</th>\n",
              "    </tr>\n",
              "    <tr>\n",
              "      <th>Nome</th>\n",
              "      <th></th>\n",
              "      <th></th>\n",
              "      <th></th>\n",
              "    </tr>\n",
              "  </thead>\n",
              "  <tbody>\n",
              "    <tr>\n",
              "      <th>Passat</th>\n",
              "      <td>Motor Diesel</td>\n",
              "      <td>106161.94</td>\n",
              "      <td>5712.0</td>\n",
              "    </tr>\n",
              "    <tr>\n",
              "      <th>Crossfox</th>\n",
              "      <td>Motor Diesel V8</td>\n",
              "      <td>72832.16</td>\n",
              "      <td>37123.0</td>\n",
              "    </tr>\n",
              "    <tr>\n",
              "      <th>DS5</th>\n",
              "      <td>Motor 2.4 Turbo</td>\n",
              "      <td>124549.07</td>\n",
              "      <td>NaN</td>\n",
              "    </tr>\n",
              "  </tbody>\n",
              "</table>\n",
              "</div>"
            ],
            "text/plain": [
              "                    Motor      Valor  Quilometragem\n",
              "Nome                                               \n",
              "Passat       Motor Diesel  106161.94         5712.0\n",
              "Crossfox  Motor Diesel V8   72832.16        37123.0\n",
              "DS5       Motor 2.4 Turbo  124549.07            NaN"
            ]
          },
          "metadata": {},
          "execution_count": 63
        }
      ]
    },
    {
      "cell_type": "code",
      "metadata": {
        "id": "GxdqIz4LD1BV",
        "colab": {
          "base_uri": "https://localhost:8080/",
          "height": 173
        },
        "outputId": "422527f4-fbac-4e5e-9fcc-60cb534b166f"
      },
      "source": [
        "dataset.iloc[[1, 42, 22], [0, 5, 2]]"
      ],
      "execution_count": null,
      "outputs": [
        {
          "output_type": "execute_result",
          "data": {
            "text/html": [
              "<div>\n",
              "<style scoped>\n",
              "    .dataframe tbody tr th:only-of-type {\n",
              "        vertical-align: middle;\n",
              "    }\n",
              "\n",
              "    .dataframe tbody tr th {\n",
              "        vertical-align: top;\n",
              "    }\n",
              "\n",
              "    .dataframe thead th {\n",
              "        text-align: right;\n",
              "    }\n",
              "</style>\n",
              "<table border=\"1\" class=\"dataframe\">\n",
              "  <thead>\n",
              "    <tr style=\"text-align: right;\">\n",
              "      <th></th>\n",
              "      <th>Motor</th>\n",
              "      <th>Valor</th>\n",
              "      <th>Quilometragem</th>\n",
              "    </tr>\n",
              "    <tr>\n",
              "      <th>Nome</th>\n",
              "      <th></th>\n",
              "      <th></th>\n",
              "      <th></th>\n",
              "    </tr>\n",
              "  </thead>\n",
              "  <tbody>\n",
              "    <tr>\n",
              "      <th>Passat</th>\n",
              "      <td>Motor Diesel</td>\n",
              "      <td>106161.94</td>\n",
              "      <td>5712.0</td>\n",
              "    </tr>\n",
              "    <tr>\n",
              "      <th>Optima</th>\n",
              "      <td>Motor 1.8 16v</td>\n",
              "      <td>86641.34</td>\n",
              "      <td>NaN</td>\n",
              "    </tr>\n",
              "    <tr>\n",
              "      <th>Lamborghini Obvious</th>\n",
              "      <td>Motor Diesel V6</td>\n",
              "      <td>133529.84</td>\n",
              "      <td>98079.0</td>\n",
              "    </tr>\n",
              "  </tbody>\n",
              "</table>\n",
              "</div>"
            ],
            "text/plain": [
              "                               Motor      Valor  Quilometragem\n",
              "Nome                                                          \n",
              "Passat                  Motor Diesel  106161.94         5712.0\n",
              "Optima                 Motor 1.8 16v   86641.34            NaN\n",
              "Lamborghini Obvious  Motor Diesel V6  133529.84        98079.0"
            ]
          },
          "metadata": {},
          "execution_count": 64
        }
      ]
    },
    {
      "cell_type": "code",
      "metadata": {
        "scrolled": true,
        "id": "AVIhs7uLD1BW",
        "colab": {
          "base_uri": "https://localhost:8080/",
          "height": 450
        },
        "outputId": "df645588-38f6-4117-8f59-9a2ed65a905b"
      },
      "source": [
        "dataset.iloc[:, [0, 5, 2]]"
      ],
      "execution_count": null,
      "outputs": [
        {
          "output_type": "execute_result",
          "data": {
            "text/html": [
              "<div>\n",
              "<style scoped>\n",
              "    .dataframe tbody tr th:only-of-type {\n",
              "        vertical-align: middle;\n",
              "    }\n",
              "\n",
              "    .dataframe tbody tr th {\n",
              "        vertical-align: top;\n",
              "    }\n",
              "\n",
              "    .dataframe thead th {\n",
              "        text-align: right;\n",
              "    }\n",
              "</style>\n",
              "<table border=\"1\" class=\"dataframe\">\n",
              "  <thead>\n",
              "    <tr style=\"text-align: right;\">\n",
              "      <th></th>\n",
              "      <th>Motor</th>\n",
              "      <th>Valor</th>\n",
              "      <th>Quilometragem</th>\n",
              "    </tr>\n",
              "    <tr>\n",
              "      <th>Nome</th>\n",
              "      <th></th>\n",
              "      <th></th>\n",
              "      <th></th>\n",
              "    </tr>\n",
              "  </thead>\n",
              "  <tbody>\n",
              "    <tr>\n",
              "      <th>Jetta Variant</th>\n",
              "      <td>Motor 4.0 Turbo</td>\n",
              "      <td>88078.64</td>\n",
              "      <td>44410.0</td>\n",
              "    </tr>\n",
              "    <tr>\n",
              "      <th>Passat</th>\n",
              "      <td>Motor Diesel</td>\n",
              "      <td>106161.94</td>\n",
              "      <td>5712.0</td>\n",
              "    </tr>\n",
              "    <tr>\n",
              "      <th>Crossfox</th>\n",
              "      <td>Motor Diesel V8</td>\n",
              "      <td>72832.16</td>\n",
              "      <td>37123.0</td>\n",
              "    </tr>\n",
              "    <tr>\n",
              "      <th>DS5</th>\n",
              "      <td>Motor 2.4 Turbo</td>\n",
              "      <td>124549.07</td>\n",
              "      <td>NaN</td>\n",
              "    </tr>\n",
              "    <tr>\n",
              "      <th>Aston Martin DB4</th>\n",
              "      <td>Motor 2.4 Turbo</td>\n",
              "      <td>92612.10</td>\n",
              "      <td>25757.0</td>\n",
              "    </tr>\n",
              "    <tr>\n",
              "      <th>...</th>\n",
              "      <td>...</td>\n",
              "      <td>...</td>\n",
              "      <td>...</td>\n",
              "    </tr>\n",
              "    <tr>\n",
              "      <th>Phantom 2013</th>\n",
              "      <td>Motor V8</td>\n",
              "      <td>51759.58</td>\n",
              "      <td>27505.0</td>\n",
              "    </tr>\n",
              "    <tr>\n",
              "      <th>Cadillac Ciel concept</th>\n",
              "      <td>Motor V8</td>\n",
              "      <td>51667.06</td>\n",
              "      <td>29981.0</td>\n",
              "    </tr>\n",
              "    <tr>\n",
              "      <th>Classe GLK</th>\n",
              "      <td>Motor 5.0 V8 Bi-Turbo</td>\n",
              "      <td>68934.03</td>\n",
              "      <td>52637.0</td>\n",
              "    </tr>\n",
              "    <tr>\n",
              "      <th>Aston Martin DB5</th>\n",
              "      <td>Motor Diesel</td>\n",
              "      <td>122110.90</td>\n",
              "      <td>7685.0</td>\n",
              "    </tr>\n",
              "    <tr>\n",
              "      <th>Macan</th>\n",
              "      <td>Motor Diesel V6</td>\n",
              "      <td>90381.47</td>\n",
              "      <td>50188.0</td>\n",
              "    </tr>\n",
              "  </tbody>\n",
              "</table>\n",
              "<p>258 rows × 3 columns</p>\n",
              "</div>"
            ],
            "text/plain": [
              "                                       Motor      Valor  Quilometragem\n",
              "Nome                                                                  \n",
              "Jetta Variant                Motor 4.0 Turbo   88078.64        44410.0\n",
              "Passat                          Motor Diesel  106161.94         5712.0\n",
              "Crossfox                     Motor Diesel V8   72832.16        37123.0\n",
              "DS5                          Motor 2.4 Turbo  124549.07            NaN\n",
              "Aston Martin DB4             Motor 2.4 Turbo   92612.10        25757.0\n",
              "...                                      ...        ...            ...\n",
              "Phantom 2013                        Motor V8   51759.58        27505.0\n",
              "Cadillac Ciel concept               Motor V8   51667.06        29981.0\n",
              "Classe GLK             Motor 5.0 V8 Bi-Turbo   68934.03        52637.0\n",
              "Aston Martin DB5                Motor Diesel  122110.90         7685.0\n",
              "Macan                        Motor Diesel V6   90381.47        50188.0\n",
              "\n",
              "[258 rows x 3 columns]"
            ]
          },
          "metadata": {},
          "execution_count": 65
        }
      ]
    },
    {
      "cell_type": "markdown",
      "metadata": {
        "id": "FFqkyGX_0078"
      },
      "source": [
        "## Exercício: Fatiamento com DataFrames"
      ]
    },
    {
      "cell_type": "code",
      "metadata": {
        "id": "KUXHRJvB097_"
      },
      "source": [
        "import pandas as pd\n",
        "\n",
        "dados = {\n",
        "    'Nome': ['Jetta', 'Passat', 'Crossfox', 'DS5', 'Fusca'], \n",
        "    'Motor': ['Motor 4.0 Turbo', 'Motor Diesel', 'Motor Diesel V8', 'Motor 2.0', 'Motor 1.6'],\n",
        "    'Ano': [2019, 2003, 1991, 2019, 1990],\n",
        "    'Quilometragem': [0.0, 5712.0, 37123.0, 0.0, 120000.0],\n",
        "    'Zero_km': [True, False, False, True, False],\n",
        "    'Valor': [88000.0, 106000.0, 72000.0, 89000.0, 32000.0]\n",
        "}\n",
        "\n",
        "dataset = pd.DataFrame(dados)"
      ],
      "execution_count": null,
      "outputs": []
    },
    {
      "cell_type": "code",
      "metadata": {
        "colab": {
          "base_uri": "https://localhost:8080/",
          "height": 204
        },
        "id": "NyVu1tdn0-EV",
        "outputId": "5161dc93-90a0-4c6d-eb5f-4f7c69539a71"
      },
      "source": [
        "dataset"
      ],
      "execution_count": null,
      "outputs": [
        {
          "output_type": "execute_result",
          "data": {
            "text/html": [
              "<div>\n",
              "<style scoped>\n",
              "    .dataframe tbody tr th:only-of-type {\n",
              "        vertical-align: middle;\n",
              "    }\n",
              "\n",
              "    .dataframe tbody tr th {\n",
              "        vertical-align: top;\n",
              "    }\n",
              "\n",
              "    .dataframe thead th {\n",
              "        text-align: right;\n",
              "    }\n",
              "</style>\n",
              "<table border=\"1\" class=\"dataframe\">\n",
              "  <thead>\n",
              "    <tr style=\"text-align: right;\">\n",
              "      <th></th>\n",
              "      <th>Nome</th>\n",
              "      <th>Motor</th>\n",
              "      <th>Ano</th>\n",
              "      <th>Quilometragem</th>\n",
              "      <th>Zero_km</th>\n",
              "      <th>Valor</th>\n",
              "    </tr>\n",
              "  </thead>\n",
              "  <tbody>\n",
              "    <tr>\n",
              "      <th>0</th>\n",
              "      <td>Jetta</td>\n",
              "      <td>Motor 4.0 Turbo</td>\n",
              "      <td>2019</td>\n",
              "      <td>0.0</td>\n",
              "      <td>True</td>\n",
              "      <td>88000.0</td>\n",
              "    </tr>\n",
              "    <tr>\n",
              "      <th>1</th>\n",
              "      <td>Passat</td>\n",
              "      <td>Motor Diesel</td>\n",
              "      <td>2003</td>\n",
              "      <td>5712.0</td>\n",
              "      <td>False</td>\n",
              "      <td>106000.0</td>\n",
              "    </tr>\n",
              "    <tr>\n",
              "      <th>2</th>\n",
              "      <td>Crossfox</td>\n",
              "      <td>Motor Diesel V8</td>\n",
              "      <td>1991</td>\n",
              "      <td>37123.0</td>\n",
              "      <td>False</td>\n",
              "      <td>72000.0</td>\n",
              "    </tr>\n",
              "    <tr>\n",
              "      <th>3</th>\n",
              "      <td>DS5</td>\n",
              "      <td>Motor 2.0</td>\n",
              "      <td>2019</td>\n",
              "      <td>0.0</td>\n",
              "      <td>True</td>\n",
              "      <td>89000.0</td>\n",
              "    </tr>\n",
              "    <tr>\n",
              "      <th>4</th>\n",
              "      <td>Fusca</td>\n",
              "      <td>Motor 1.6</td>\n",
              "      <td>1990</td>\n",
              "      <td>120000.0</td>\n",
              "      <td>False</td>\n",
              "      <td>32000.0</td>\n",
              "    </tr>\n",
              "  </tbody>\n",
              "</table>\n",
              "</div>"
            ],
            "text/plain": [
              "       Nome            Motor   Ano  Quilometragem  Zero_km     Valor\n",
              "0     Jetta  Motor 4.0 Turbo  2019            0.0     True   88000.0\n",
              "1    Passat     Motor Diesel  2003         5712.0    False  106000.0\n",
              "2  Crossfox  Motor Diesel V8  1991        37123.0    False   72000.0\n",
              "3       DS5        Motor 2.0  2019            0.0     True   89000.0\n",
              "4     Fusca        Motor 1.6  1990       120000.0    False   32000.0"
            ]
          },
          "metadata": {},
          "execution_count": 67
        }
      ]
    },
    {
      "cell_type": "code",
      "metadata": {
        "colab": {
          "base_uri": "https://localhost:8080/"
        },
        "id": "C-2gojEY0-HA",
        "outputId": "344cd4ac-402c-46d5-cc54-bf69b26a7dc5"
      },
      "source": [
        "type(dataset)"
      ],
      "execution_count": null,
      "outputs": [
        {
          "output_type": "execute_result",
          "data": {
            "text/plain": [
              "pandas.core.frame.DataFrame"
            ]
          },
          "metadata": {},
          "execution_count": 72
        }
      ]
    },
    {
      "cell_type": "code",
      "metadata": {
        "colab": {
          "base_uri": "https://localhost:8080/",
          "height": 111
        },
        "id": "dk4SlDRh0-J2",
        "outputId": "d1379ed3-1108-46a7-f4ef-75dda71ed506"
      },
      "source": [
        "dataset.iloc[[1,2], [0, 2, 3, -1]]"
      ],
      "execution_count": null,
      "outputs": [
        {
          "output_type": "execute_result",
          "data": {
            "text/html": [
              "<div>\n",
              "<style scoped>\n",
              "    .dataframe tbody tr th:only-of-type {\n",
              "        vertical-align: middle;\n",
              "    }\n",
              "\n",
              "    .dataframe tbody tr th {\n",
              "        vertical-align: top;\n",
              "    }\n",
              "\n",
              "    .dataframe thead th {\n",
              "        text-align: right;\n",
              "    }\n",
              "</style>\n",
              "<table border=\"1\" class=\"dataframe\">\n",
              "  <thead>\n",
              "    <tr style=\"text-align: right;\">\n",
              "      <th></th>\n",
              "      <th>Nome</th>\n",
              "      <th>Ano</th>\n",
              "      <th>Quilometragem</th>\n",
              "      <th>Valor</th>\n",
              "    </tr>\n",
              "  </thead>\n",
              "  <tbody>\n",
              "    <tr>\n",
              "      <th>1</th>\n",
              "      <td>Passat</td>\n",
              "      <td>2003</td>\n",
              "      <td>5712.0</td>\n",
              "      <td>106000.0</td>\n",
              "    </tr>\n",
              "    <tr>\n",
              "      <th>2</th>\n",
              "      <td>Crossfox</td>\n",
              "      <td>1991</td>\n",
              "      <td>37123.0</td>\n",
              "      <td>72000.0</td>\n",
              "    </tr>\n",
              "  </tbody>\n",
              "</table>\n",
              "</div>"
            ],
            "text/plain": [
              "       Nome   Ano  Quilometragem     Valor\n",
              "1    Passat  2003         5712.0  106000.0\n",
              "2  Crossfox  1991        37123.0   72000.0"
            ]
          },
          "metadata": {},
          "execution_count": 76
        }
      ]
    },
    {
      "cell_type": "code",
      "metadata": {
        "colab": {
          "base_uri": "https://localhost:8080/",
          "height": 111
        },
        "id": "Foh7_e6P2ets",
        "outputId": "3ddaa6f4-0bd2-4dc1-dcab-c5b45084f6f8"
      },
      "source": [
        "dataset[['Nome', 'Ano', 'Quilometragem', 'Valor']][1:3]"
      ],
      "execution_count": null,
      "outputs": [
        {
          "output_type": "execute_result",
          "data": {
            "text/html": [
              "<div>\n",
              "<style scoped>\n",
              "    .dataframe tbody tr th:only-of-type {\n",
              "        vertical-align: middle;\n",
              "    }\n",
              "\n",
              "    .dataframe tbody tr th {\n",
              "        vertical-align: top;\n",
              "    }\n",
              "\n",
              "    .dataframe thead th {\n",
              "        text-align: right;\n",
              "    }\n",
              "</style>\n",
              "<table border=\"1\" class=\"dataframe\">\n",
              "  <thead>\n",
              "    <tr style=\"text-align: right;\">\n",
              "      <th></th>\n",
              "      <th>Nome</th>\n",
              "      <th>Ano</th>\n",
              "      <th>Quilometragem</th>\n",
              "      <th>Valor</th>\n",
              "    </tr>\n",
              "  </thead>\n",
              "  <tbody>\n",
              "    <tr>\n",
              "      <th>1</th>\n",
              "      <td>Passat</td>\n",
              "      <td>2003</td>\n",
              "      <td>5712.0</td>\n",
              "      <td>106000.0</td>\n",
              "    </tr>\n",
              "    <tr>\n",
              "      <th>2</th>\n",
              "      <td>Crossfox</td>\n",
              "      <td>1991</td>\n",
              "      <td>37123.0</td>\n",
              "      <td>72000.0</td>\n",
              "    </tr>\n",
              "  </tbody>\n",
              "</table>\n",
              "</div>"
            ],
            "text/plain": [
              "       Nome   Ano  Quilometragem     Valor\n",
              "1    Passat  2003         5712.0  106000.0\n",
              "2  Crossfox  1991        37123.0   72000.0"
            ]
          },
          "metadata": {},
          "execution_count": 87
        }
      ]
    },
    {
      "cell_type": "code",
      "metadata": {
        "colab": {
          "base_uri": "https://localhost:8080/",
          "height": 111
        },
        "id": "PJuZ8hxk4i_L",
        "outputId": "dc194491-03c9-43e0-9467-4b925d120bb0"
      },
      "source": [
        "dataset[1:3][['Nome', 'Ano', 'Quilometragem', 'Valor']]"
      ],
      "execution_count": null,
      "outputs": [
        {
          "output_type": "execute_result",
          "data": {
            "text/html": [
              "<div>\n",
              "<style scoped>\n",
              "    .dataframe tbody tr th:only-of-type {\n",
              "        vertical-align: middle;\n",
              "    }\n",
              "\n",
              "    .dataframe tbody tr th {\n",
              "        vertical-align: top;\n",
              "    }\n",
              "\n",
              "    .dataframe thead th {\n",
              "        text-align: right;\n",
              "    }\n",
              "</style>\n",
              "<table border=\"1\" class=\"dataframe\">\n",
              "  <thead>\n",
              "    <tr style=\"text-align: right;\">\n",
              "      <th></th>\n",
              "      <th>Nome</th>\n",
              "      <th>Ano</th>\n",
              "      <th>Quilometragem</th>\n",
              "      <th>Valor</th>\n",
              "    </tr>\n",
              "  </thead>\n",
              "  <tbody>\n",
              "    <tr>\n",
              "      <th>1</th>\n",
              "      <td>Passat</td>\n",
              "      <td>2003</td>\n",
              "      <td>5712.0</td>\n",
              "      <td>106000.0</td>\n",
              "    </tr>\n",
              "    <tr>\n",
              "      <th>2</th>\n",
              "      <td>Crossfox</td>\n",
              "      <td>1991</td>\n",
              "      <td>37123.0</td>\n",
              "      <td>72000.0</td>\n",
              "    </tr>\n",
              "  </tbody>\n",
              "</table>\n",
              "</div>"
            ],
            "text/plain": [
              "       Nome   Ano  Quilometragem     Valor\n",
              "1    Passat  2003         5712.0  106000.0\n",
              "2  Crossfox  1991        37123.0   72000.0"
            ]
          },
          "metadata": {},
          "execution_count": 88
        }
      ]
    },
    {
      "cell_type": "markdown",
      "metadata": {
        "id": "ewEBXwMb4tPY"
      },
      "source": [
        "## Exercício: Utilizando .loc e .iloc para seleções."
      ]
    },
    {
      "cell_type": "code",
      "metadata": {
        "id": "xggt24Ji4xC6"
      },
      "source": [
        "import pandas as pd\n",
        "\n",
        "dados = {\n",
        "    'Motor': ['Motor 4.0 Turbo', 'Motor Diesel', 'Motor Diesel V8', 'Motor 2.0', 'Motor 1.6'],\n",
        "    'Ano': [2019, 2003, 1991, 2019, 1990],\n",
        "    'Quilometragem': [0.0, 5712.0, 37123.0, 0.0, 120000.0],\n",
        "    'Zero_km': [True, False, False, True, False],\n",
        "    'Valor': [88000.0, 106000.0, 72000.0, 89000.0, 32000.0]\n",
        "}\n",
        "\n",
        "dataset = pd.DataFrame(dados, index = ['Jetta', 'Passat', 'Crossfox', 'DS5', 'Fusca'])"
      ],
      "execution_count": null,
      "outputs": []
    },
    {
      "cell_type": "code",
      "metadata": {
        "colab": {
          "base_uri": "https://localhost:8080/",
          "height": 204
        },
        "id": "tSe3JRny4xFN",
        "outputId": "0c74ee47-3fe1-4f77-c5ec-b107eaf2c724"
      },
      "source": [
        "dataset"
      ],
      "execution_count": null,
      "outputs": [
        {
          "output_type": "execute_result",
          "data": {
            "text/html": [
              "<div>\n",
              "<style scoped>\n",
              "    .dataframe tbody tr th:only-of-type {\n",
              "        vertical-align: middle;\n",
              "    }\n",
              "\n",
              "    .dataframe tbody tr th {\n",
              "        vertical-align: top;\n",
              "    }\n",
              "\n",
              "    .dataframe thead th {\n",
              "        text-align: right;\n",
              "    }\n",
              "</style>\n",
              "<table border=\"1\" class=\"dataframe\">\n",
              "  <thead>\n",
              "    <tr style=\"text-align: right;\">\n",
              "      <th></th>\n",
              "      <th>Motor</th>\n",
              "      <th>Ano</th>\n",
              "      <th>Quilometragem</th>\n",
              "      <th>Zero_km</th>\n",
              "      <th>Valor</th>\n",
              "    </tr>\n",
              "  </thead>\n",
              "  <tbody>\n",
              "    <tr>\n",
              "      <th>Jetta</th>\n",
              "      <td>Motor 4.0 Turbo</td>\n",
              "      <td>2019</td>\n",
              "      <td>0.0</td>\n",
              "      <td>True</td>\n",
              "      <td>88000.0</td>\n",
              "    </tr>\n",
              "    <tr>\n",
              "      <th>Passat</th>\n",
              "      <td>Motor Diesel</td>\n",
              "      <td>2003</td>\n",
              "      <td>5712.0</td>\n",
              "      <td>False</td>\n",
              "      <td>106000.0</td>\n",
              "    </tr>\n",
              "    <tr>\n",
              "      <th>Crossfox</th>\n",
              "      <td>Motor Diesel V8</td>\n",
              "      <td>1991</td>\n",
              "      <td>37123.0</td>\n",
              "      <td>False</td>\n",
              "      <td>72000.0</td>\n",
              "    </tr>\n",
              "    <tr>\n",
              "      <th>DS5</th>\n",
              "      <td>Motor 2.0</td>\n",
              "      <td>2019</td>\n",
              "      <td>0.0</td>\n",
              "      <td>True</td>\n",
              "      <td>89000.0</td>\n",
              "    </tr>\n",
              "    <tr>\n",
              "      <th>Fusca</th>\n",
              "      <td>Motor 1.6</td>\n",
              "      <td>1990</td>\n",
              "      <td>120000.0</td>\n",
              "      <td>False</td>\n",
              "      <td>32000.0</td>\n",
              "    </tr>\n",
              "  </tbody>\n",
              "</table>\n",
              "</div>"
            ],
            "text/plain": [
              "                    Motor   Ano  Quilometragem  Zero_km     Valor\n",
              "Jetta     Motor 4.0 Turbo  2019            0.0     True   88000.0\n",
              "Passat       Motor Diesel  2003         5712.0    False  106000.0\n",
              "Crossfox  Motor Diesel V8  1991        37123.0    False   72000.0\n",
              "DS5             Motor 2.0  2019            0.0     True   89000.0\n",
              "Fusca           Motor 1.6  1990       120000.0    False   32000.0"
            ]
          },
          "metadata": {},
          "execution_count": 90
        }
      ]
    },
    {
      "cell_type": "code",
      "metadata": {
        "colab": {
          "base_uri": "https://localhost:8080/",
          "height": 111
        },
        "id": "dF7arL5T4xJ7",
        "outputId": "24cb94dc-4e30-4099-a929-bead97df9fac"
      },
      "source": [
        "dataset.iloc[[1,3],[0, -1]]"
      ],
      "execution_count": null,
      "outputs": [
        {
          "output_type": "execute_result",
          "data": {
            "text/html": [
              "<div>\n",
              "<style scoped>\n",
              "    .dataframe tbody tr th:only-of-type {\n",
              "        vertical-align: middle;\n",
              "    }\n",
              "\n",
              "    .dataframe tbody tr th {\n",
              "        vertical-align: top;\n",
              "    }\n",
              "\n",
              "    .dataframe thead th {\n",
              "        text-align: right;\n",
              "    }\n",
              "</style>\n",
              "<table border=\"1\" class=\"dataframe\">\n",
              "  <thead>\n",
              "    <tr style=\"text-align: right;\">\n",
              "      <th></th>\n",
              "      <th>Motor</th>\n",
              "      <th>Valor</th>\n",
              "    </tr>\n",
              "  </thead>\n",
              "  <tbody>\n",
              "    <tr>\n",
              "      <th>Passat</th>\n",
              "      <td>Motor Diesel</td>\n",
              "      <td>106000.0</td>\n",
              "    </tr>\n",
              "    <tr>\n",
              "      <th>DS5</th>\n",
              "      <td>Motor 2.0</td>\n",
              "      <td>89000.0</td>\n",
              "    </tr>\n",
              "  </tbody>\n",
              "</table>\n",
              "</div>"
            ],
            "text/plain": [
              "               Motor     Valor\n",
              "Passat  Motor Diesel  106000.0\n",
              "DS5        Motor 2.0   89000.0"
            ]
          },
          "metadata": {},
          "execution_count": 96
        }
      ]
    },
    {
      "cell_type": "code",
      "metadata": {
        "colab": {
          "base_uri": "https://localhost:8080/",
          "height": 111
        },
        "id": "5PXQzIJh4xMu",
        "outputId": "c246343d-df59-4347-9d2b-d68144ef4dbd"
      },
      "source": [
        "dataset.loc[['Passat', 'DS5'], ['Motor', 'Valor']]"
      ],
      "execution_count": null,
      "outputs": [
        {
          "output_type": "execute_result",
          "data": {
            "text/html": [
              "<div>\n",
              "<style scoped>\n",
              "    .dataframe tbody tr th:only-of-type {\n",
              "        vertical-align: middle;\n",
              "    }\n",
              "\n",
              "    .dataframe tbody tr th {\n",
              "        vertical-align: top;\n",
              "    }\n",
              "\n",
              "    .dataframe thead th {\n",
              "        text-align: right;\n",
              "    }\n",
              "</style>\n",
              "<table border=\"1\" class=\"dataframe\">\n",
              "  <thead>\n",
              "    <tr style=\"text-align: right;\">\n",
              "      <th></th>\n",
              "      <th>Motor</th>\n",
              "      <th>Valor</th>\n",
              "    </tr>\n",
              "  </thead>\n",
              "  <tbody>\n",
              "    <tr>\n",
              "      <th>Passat</th>\n",
              "      <td>Motor Diesel</td>\n",
              "      <td>106000.0</td>\n",
              "    </tr>\n",
              "    <tr>\n",
              "      <th>DS5</th>\n",
              "      <td>Motor 2.0</td>\n",
              "      <td>89000.0</td>\n",
              "    </tr>\n",
              "  </tbody>\n",
              "</table>\n",
              "</div>"
            ],
            "text/plain": [
              "               Motor     Valor\n",
              "Passat  Motor Diesel  106000.0\n",
              "DS5        Motor 2.0   89000.0"
            ]
          },
          "metadata": {},
          "execution_count": 97
        }
      ]
    },
    {
      "cell_type": "code",
      "metadata": {
        "id": "2nd4HMw44xQi"
      },
      "source": [
        ""
      ],
      "execution_count": null,
      "outputs": []
    },
    {
      "cell_type": "markdown",
      "metadata": {
        "id": "eAbwq1oLD1BW"
      },
      "source": [
        "# 5.3 Queries com DataFrames"
      ]
    },
    {
      "cell_type": "code",
      "metadata": {
        "scrolled": true,
        "id": "AOZTWzehD1BW",
        "colab": {
          "base_uri": "https://localhost:8080/",
          "height": 235
        },
        "outputId": "efe6e6ea-be16-475e-97c7-312555b4793e"
      },
      "source": [
        "dataset.head()"
      ],
      "execution_count": null,
      "outputs": [
        {
          "output_type": "execute_result",
          "data": {
            "text/html": [
              "<div>\n",
              "<style scoped>\n",
              "    .dataframe tbody tr th:only-of-type {\n",
              "        vertical-align: middle;\n",
              "    }\n",
              "\n",
              "    .dataframe tbody tr th {\n",
              "        vertical-align: top;\n",
              "    }\n",
              "\n",
              "    .dataframe thead th {\n",
              "        text-align: right;\n",
              "    }\n",
              "</style>\n",
              "<table border=\"1\" class=\"dataframe\">\n",
              "  <thead>\n",
              "    <tr style=\"text-align: right;\">\n",
              "      <th></th>\n",
              "      <th>Motor</th>\n",
              "      <th>Ano</th>\n",
              "      <th>Quilometragem</th>\n",
              "      <th>Zero_km</th>\n",
              "      <th>Acessórios</th>\n",
              "      <th>Valor</th>\n",
              "    </tr>\n",
              "    <tr>\n",
              "      <th>Nome</th>\n",
              "      <th></th>\n",
              "      <th></th>\n",
              "      <th></th>\n",
              "      <th></th>\n",
              "      <th></th>\n",
              "      <th></th>\n",
              "    </tr>\n",
              "  </thead>\n",
              "  <tbody>\n",
              "    <tr>\n",
              "      <th>Jetta Variant</th>\n",
              "      <td>Motor 4.0 Turbo</td>\n",
              "      <td>2003</td>\n",
              "      <td>44410.0</td>\n",
              "      <td>False</td>\n",
              "      <td>['Rodas de liga', 'Travas elétricas', 'Piloto ...</td>\n",
              "      <td>88078.64</td>\n",
              "    </tr>\n",
              "    <tr>\n",
              "      <th>Passat</th>\n",
              "      <td>Motor Diesel</td>\n",
              "      <td>1991</td>\n",
              "      <td>5712.0</td>\n",
              "      <td>False</td>\n",
              "      <td>['Central multimídia', 'Teto panorâmico', 'Fre...</td>\n",
              "      <td>106161.94</td>\n",
              "    </tr>\n",
              "    <tr>\n",
              "      <th>Crossfox</th>\n",
              "      <td>Motor Diesel V8</td>\n",
              "      <td>1990</td>\n",
              "      <td>37123.0</td>\n",
              "      <td>False</td>\n",
              "      <td>['Piloto automático', 'Controle de estabilidad...</td>\n",
              "      <td>72832.16</td>\n",
              "    </tr>\n",
              "    <tr>\n",
              "      <th>DS5</th>\n",
              "      <td>Motor 2.4 Turbo</td>\n",
              "      <td>2019</td>\n",
              "      <td>NaN</td>\n",
              "      <td>True</td>\n",
              "      <td>['Travas elétricas', '4 X 4', 'Vidros elétrico...</td>\n",
              "      <td>124549.07</td>\n",
              "    </tr>\n",
              "    <tr>\n",
              "      <th>Aston Martin DB4</th>\n",
              "      <td>Motor 2.4 Turbo</td>\n",
              "      <td>2006</td>\n",
              "      <td>25757.0</td>\n",
              "      <td>False</td>\n",
              "      <td>['Rodas de liga', '4 X 4', 'Central multimídia...</td>\n",
              "      <td>92612.10</td>\n",
              "    </tr>\n",
              "  </tbody>\n",
              "</table>\n",
              "</div>"
            ],
            "text/plain": [
              "                            Motor  ...      Valor\n",
              "Nome                               ...           \n",
              "Jetta Variant     Motor 4.0 Turbo  ...   88078.64\n",
              "Passat               Motor Diesel  ...  106161.94\n",
              "Crossfox          Motor Diesel V8  ...   72832.16\n",
              "DS5               Motor 2.4 Turbo  ...  124549.07\n",
              "Aston Martin DB4  Motor 2.4 Turbo  ...   92612.10\n",
              "\n",
              "[5 rows x 6 columns]"
            ]
          },
          "metadata": {},
          "execution_count": 111
        }
      ]
    },
    {
      "cell_type": "code",
      "metadata": {
        "scrolled": true,
        "id": "rO5T4h94D1BX",
        "colab": {
          "base_uri": "https://localhost:8080/"
        },
        "outputId": "b31172bd-3abd-4424-875e-9a5d2bc3c422"
      },
      "source": [
        "dataset.Motor"
      ],
      "execution_count": null,
      "outputs": [
        {
          "output_type": "execute_result",
          "data": {
            "text/plain": [
              "Nome\n",
              "Jetta Variant                  Motor 4.0 Turbo\n",
              "Passat                            Motor Diesel\n",
              "Crossfox                       Motor Diesel V8\n",
              "DS5                            Motor 2.4 Turbo\n",
              "Aston Martin DB4               Motor 2.4 Turbo\n",
              "                                 ...          \n",
              "Phantom 2013                          Motor V8\n",
              "Cadillac Ciel concept                 Motor V8\n",
              "Classe GLK               Motor 5.0 V8 Bi-Turbo\n",
              "Aston Martin DB5                  Motor Diesel\n",
              "Macan                          Motor Diesel V6\n",
              "Name: Motor, Length: 258, dtype: object"
            ]
          },
          "metadata": {},
          "execution_count": 112
        }
      ]
    },
    {
      "cell_type": "code",
      "metadata": {
        "id": "STZ-l8oaD1BX"
      },
      "source": [
        "select = dataset.Motor == 'Motor Diesel'"
      ],
      "execution_count": null,
      "outputs": []
    },
    {
      "cell_type": "code",
      "metadata": {
        "id": "OZC8NAn6D1BX",
        "colab": {
          "base_uri": "https://localhost:8080/"
        },
        "outputId": "cd48a940-72c5-4907-cbbf-fdfade829554"
      },
      "source": [
        "select"
      ],
      "execution_count": null,
      "outputs": [
        {
          "output_type": "execute_result",
          "data": {
            "text/plain": [
              "Nome\n",
              "Jetta Variant            False\n",
              "Passat                    True\n",
              "Crossfox                 False\n",
              "DS5                      False\n",
              "Aston Martin DB4         False\n",
              "                         ...  \n",
              "Phantom 2013             False\n",
              "Cadillac Ciel concept    False\n",
              "Classe GLK               False\n",
              "Aston Martin DB5          True\n",
              "Macan                    False\n",
              "Name: Motor, Length: 258, dtype: bool"
            ]
          },
          "metadata": {},
          "execution_count": 115
        }
      ]
    },
    {
      "cell_type": "code",
      "metadata": {
        "scrolled": true,
        "id": "OzXC2M40D1BY",
        "colab": {
          "base_uri": "https://localhost:8080/"
        },
        "outputId": "2712a9a9-15b4-443e-88b1-bd10f3dd4154"
      },
      "source": [
        "type(select)"
      ],
      "execution_count": null,
      "outputs": [
        {
          "output_type": "execute_result",
          "data": {
            "text/plain": [
              "pandas.core.series.Series"
            ]
          },
          "metadata": {},
          "execution_count": 116
        }
      ]
    },
    {
      "cell_type": "code",
      "metadata": {
        "colab": {
          "base_uri": "https://localhost:8080/",
          "height": 886
        },
        "id": "jNdu6sb5FBHM",
        "outputId": "7fbb2e6c-9367-4464-b364-f5a5f3c9dd75"
      },
      "source": [
        "dataset[select]"
      ],
      "execution_count": null,
      "outputs": [
        {
          "output_type": "execute_result",
          "data": {
            "text/html": [
              "<div>\n",
              "<style scoped>\n",
              "    .dataframe tbody tr th:only-of-type {\n",
              "        vertical-align: middle;\n",
              "    }\n",
              "\n",
              "    .dataframe tbody tr th {\n",
              "        vertical-align: top;\n",
              "    }\n",
              "\n",
              "    .dataframe thead th {\n",
              "        text-align: right;\n",
              "    }\n",
              "</style>\n",
              "<table border=\"1\" class=\"dataframe\">\n",
              "  <thead>\n",
              "    <tr style=\"text-align: right;\">\n",
              "      <th></th>\n",
              "      <th>Motor</th>\n",
              "      <th>Ano</th>\n",
              "      <th>Quilometragem</th>\n",
              "      <th>Zero_km</th>\n",
              "      <th>Acessórios</th>\n",
              "      <th>Valor</th>\n",
              "    </tr>\n",
              "    <tr>\n",
              "      <th>Nome</th>\n",
              "      <th></th>\n",
              "      <th></th>\n",
              "      <th></th>\n",
              "      <th></th>\n",
              "      <th></th>\n",
              "      <th></th>\n",
              "    </tr>\n",
              "  </thead>\n",
              "  <tbody>\n",
              "    <tr>\n",
              "      <th>Passat</th>\n",
              "      <td>Motor Diesel</td>\n",
              "      <td>1991</td>\n",
              "      <td>5712.0</td>\n",
              "      <td>False</td>\n",
              "      <td>['Central multimídia', 'Teto panorâmico', 'Fre...</td>\n",
              "      <td>106161.94</td>\n",
              "    </tr>\n",
              "    <tr>\n",
              "      <th>Effa Hafei Picape Baú</th>\n",
              "      <td>Motor Diesel</td>\n",
              "      <td>1991</td>\n",
              "      <td>102959.0</td>\n",
              "      <td>False</td>\n",
              "      <td>['Controle de estabilidade', 'Painel digital',...</td>\n",
              "      <td>125684.65</td>\n",
              "    </tr>\n",
              "    <tr>\n",
              "      <th>Sorento</th>\n",
              "      <td>Motor Diesel</td>\n",
              "      <td>2019</td>\n",
              "      <td>NaN</td>\n",
              "      <td>True</td>\n",
              "      <td>['Sensor de chuva', 'Câmera de estacionamento'...</td>\n",
              "      <td>81399.35</td>\n",
              "    </tr>\n",
              "    <tr>\n",
              "      <th>New Fiesta Hatch</th>\n",
              "      <td>Motor Diesel</td>\n",
              "      <td>2017</td>\n",
              "      <td>118895.0</td>\n",
              "      <td>False</td>\n",
              "      <td>['Sensor de estacionamento', 'Travas elétricas...</td>\n",
              "      <td>66007.16</td>\n",
              "    </tr>\n",
              "    <tr>\n",
              "      <th>Kangoo Express</th>\n",
              "      <td>Motor Diesel</td>\n",
              "      <td>2007</td>\n",
              "      <td>29132.0</td>\n",
              "      <td>False</td>\n",
              "      <td>['Bancos de couro', 'Câmbio automático', 'Pilo...</td>\n",
              "      <td>146716.91</td>\n",
              "    </tr>\n",
              "    <tr>\n",
              "      <th>Fit</th>\n",
              "      <td>Motor Diesel</td>\n",
              "      <td>2013</td>\n",
              "      <td>44329.0</td>\n",
              "      <td>False</td>\n",
              "      <td>['Freios ABS', 'Câmera de estacionamento', 'Câ...</td>\n",
              "      <td>77836.23</td>\n",
              "    </tr>\n",
              "    <tr>\n",
              "      <th>Cielo Hatch</th>\n",
              "      <td>Motor Diesel</td>\n",
              "      <td>2019</td>\n",
              "      <td>NaN</td>\n",
              "      <td>True</td>\n",
              "      <td>['Painel digital', 'Central multimídia', 'Câme...</td>\n",
              "      <td>145197.70</td>\n",
              "    </tr>\n",
              "    <tr>\n",
              "      <th>Symbol</th>\n",
              "      <td>Motor Diesel</td>\n",
              "      <td>2016</td>\n",
              "      <td>117714.0</td>\n",
              "      <td>False</td>\n",
              "      <td>['4 X 4', 'Piloto automático', 'Sensor crepusc...</td>\n",
              "      <td>133030.60</td>\n",
              "    </tr>\n",
              "    <tr>\n",
              "      <th>A4 Sedan</th>\n",
              "      <td>Motor Diesel</td>\n",
              "      <td>2002</td>\n",
              "      <td>30511.0</td>\n",
              "      <td>False</td>\n",
              "      <td>['Câmera de estacionamento', '4 X 4', 'Travas ...</td>\n",
              "      <td>96369.04</td>\n",
              "    </tr>\n",
              "    <tr>\n",
              "      <th>A4 Avant</th>\n",
              "      <td>Motor Diesel</td>\n",
              "      <td>2014</td>\n",
              "      <td>17357.0</td>\n",
              "      <td>False</td>\n",
              "      <td>['Teto panorâmico', '4 X 4', 'Bancos de couro'...</td>\n",
              "      <td>138946.88</td>\n",
              "    </tr>\n",
              "    <tr>\n",
              "      <th>Silver Shadow</th>\n",
              "      <td>Motor Diesel</td>\n",
              "      <td>2015</td>\n",
              "      <td>99052.0</td>\n",
              "      <td>False</td>\n",
              "      <td>['4 X 4', 'Central multimídia', 'Ar condiciona...</td>\n",
              "      <td>143568.22</td>\n",
              "    </tr>\n",
              "    <tr>\n",
              "      <th>Camry</th>\n",
              "      <td>Motor Diesel</td>\n",
              "      <td>2019</td>\n",
              "      <td>NaN</td>\n",
              "      <td>True</td>\n",
              "      <td>['Travas elétricas', 'Rodas de liga', 'Sensor ...</td>\n",
              "      <td>138597.27</td>\n",
              "    </tr>\n",
              "    <tr>\n",
              "      <th>Clio</th>\n",
              "      <td>Motor Diesel</td>\n",
              "      <td>1990</td>\n",
              "      <td>66437.0</td>\n",
              "      <td>False</td>\n",
              "      <td>['4 X 4', 'Câmbio automático', 'Freios ABS', '...</td>\n",
              "      <td>111130.33</td>\n",
              "    </tr>\n",
              "    <tr>\n",
              "      <th>Série 3 M3 Coupé</th>\n",
              "      <td>Motor Diesel</td>\n",
              "      <td>2013</td>\n",
              "      <td>19896.0</td>\n",
              "      <td>False</td>\n",
              "      <td>['Bancos de couro', 'Sensor de chuva', 'Ar con...</td>\n",
              "      <td>69219.89</td>\n",
              "    </tr>\n",
              "    <tr>\n",
              "      <th>Gallardo LP 560 – 4</th>\n",
              "      <td>Motor Diesel</td>\n",
              "      <td>2000</td>\n",
              "      <td>113045.0</td>\n",
              "      <td>False</td>\n",
              "      <td>['Freios ABS', 'Teto panorâmico', 'Central mul...</td>\n",
              "      <td>144118.91</td>\n",
              "    </tr>\n",
              "    <tr>\n",
              "      <th>Chana Utility</th>\n",
              "      <td>Motor Diesel</td>\n",
              "      <td>2009</td>\n",
              "      <td>52034.0</td>\n",
              "      <td>False</td>\n",
              "      <td>['Ar condicionado', 'Sensor de estacionamento'...</td>\n",
              "      <td>132662.32</td>\n",
              "    </tr>\n",
              "    <tr>\n",
              "      <th>TT Roadster</th>\n",
              "      <td>Motor Diesel</td>\n",
              "      <td>1998</td>\n",
              "      <td>107392.0</td>\n",
              "      <td>False</td>\n",
              "      <td>['Ar condicionado', 'Sensor de estacionamento'...</td>\n",
              "      <td>85311.40</td>\n",
              "    </tr>\n",
              "    <tr>\n",
              "      <th>Aston Martin Virage</th>\n",
              "      <td>Motor Diesel</td>\n",
              "      <td>2019</td>\n",
              "      <td>NaN</td>\n",
              "      <td>True</td>\n",
              "      <td>['Travas elétricas', 'Controle de tração', 'Câ...</td>\n",
              "      <td>97290.18</td>\n",
              "    </tr>\n",
              "    <tr>\n",
              "      <th>Sandero</th>\n",
              "      <td>Motor Diesel</td>\n",
              "      <td>2015</td>\n",
              "      <td>34783.0</td>\n",
              "      <td>False</td>\n",
              "      <td>['Piloto automático', 'Teto panorâmico', 'Câmb...</td>\n",
              "      <td>112350.61</td>\n",
              "    </tr>\n",
              "    <tr>\n",
              "      <th>XKR</th>\n",
              "      <td>Motor Diesel</td>\n",
              "      <td>1996</td>\n",
              "      <td>85127.0</td>\n",
              "      <td>False</td>\n",
              "      <td>['Controle de tração', 'Ar condicionado', 'Tra...</td>\n",
              "      <td>54263.16</td>\n",
              "    </tr>\n",
              "    <tr>\n",
              "      <th>X5</th>\n",
              "      <td>Motor Diesel</td>\n",
              "      <td>2002</td>\n",
              "      <td>13606.0</td>\n",
              "      <td>False</td>\n",
              "      <td>['Controle de tração', 'Piloto automático', 'T...</td>\n",
              "      <td>62041.32</td>\n",
              "    </tr>\n",
              "    <tr>\n",
              "      <th>Dodge Dakota</th>\n",
              "      <td>Motor Diesel</td>\n",
              "      <td>1993</td>\n",
              "      <td>71544.0</td>\n",
              "      <td>False</td>\n",
              "      <td>['Controle de tração', 'Sensor de estacionamen...</td>\n",
              "      <td>141083.35</td>\n",
              "    </tr>\n",
              "    <tr>\n",
              "      <th>i30 CW</th>\n",
              "      <td>Motor Diesel</td>\n",
              "      <td>2015</td>\n",
              "      <td>8497.0</td>\n",
              "      <td>False</td>\n",
              "      <td>['Sensor de chuva', 'Vidros elétricos', 'Contr...</td>\n",
              "      <td>73311.75</td>\n",
              "    </tr>\n",
              "    <tr>\n",
              "      <th>Série 7 Sedã</th>\n",
              "      <td>Motor Diesel</td>\n",
              "      <td>2019</td>\n",
              "      <td>NaN</td>\n",
              "      <td>True</td>\n",
              "      <td>['Vidros elétricos', 'Travas elétricas', 'Roda...</td>\n",
              "      <td>67539.79</td>\n",
              "    </tr>\n",
              "    <tr>\n",
              "      <th>V60</th>\n",
              "      <td>Motor Diesel</td>\n",
              "      <td>2004</td>\n",
              "      <td>91840.0</td>\n",
              "      <td>False</td>\n",
              "      <td>['Rodas de liga', 'Sensor crepuscular', 'Ar co...</td>\n",
              "      <td>114728.74</td>\n",
              "    </tr>\n",
              "    <tr>\n",
              "      <th>Aston Martin DB5</th>\n",
              "      <td>Motor Diesel</td>\n",
              "      <td>1996</td>\n",
              "      <td>7685.0</td>\n",
              "      <td>False</td>\n",
              "      <td>['Ar condicionado', '4 X 4', 'Câmbio automátic...</td>\n",
              "      <td>122110.90</td>\n",
              "    </tr>\n",
              "  </tbody>\n",
              "</table>\n",
              "</div>"
            ],
            "text/plain": [
              "                              Motor  ...      Valor\n",
              "Nome                                 ...           \n",
              "Passat                 Motor Diesel  ...  106161.94\n",
              "Effa Hafei Picape Baú  Motor Diesel  ...  125684.65\n",
              "Sorento                Motor Diesel  ...   81399.35\n",
              "New Fiesta Hatch       Motor Diesel  ...   66007.16\n",
              "Kangoo Express         Motor Diesel  ...  146716.91\n",
              "Fit                    Motor Diesel  ...   77836.23\n",
              "Cielo Hatch            Motor Diesel  ...  145197.70\n",
              "Symbol                 Motor Diesel  ...  133030.60\n",
              "A4 Sedan               Motor Diesel  ...   96369.04\n",
              "A4 Avant               Motor Diesel  ...  138946.88\n",
              "Silver Shadow          Motor Diesel  ...  143568.22\n",
              "Camry                  Motor Diesel  ...  138597.27\n",
              "Clio                   Motor Diesel  ...  111130.33\n",
              "Série 3 M3 Coupé       Motor Diesel  ...   69219.89\n",
              "Gallardo LP 560 – 4    Motor Diesel  ...  144118.91\n",
              "Chana Utility          Motor Diesel  ...  132662.32\n",
              "TT Roadster            Motor Diesel  ...   85311.40\n",
              "Aston Martin Virage    Motor Diesel  ...   97290.18\n",
              "Sandero                Motor Diesel  ...  112350.61\n",
              "XKR                    Motor Diesel  ...   54263.16\n",
              "X5                     Motor Diesel  ...   62041.32\n",
              "Dodge Dakota           Motor Diesel  ...  141083.35\n",
              "i30 CW                 Motor Diesel  ...   73311.75\n",
              "Série 7 Sedã           Motor Diesel  ...   67539.79\n",
              "V60                    Motor Diesel  ...  114728.74\n",
              "Aston Martin DB5       Motor Diesel  ...  122110.90\n",
              "\n",
              "[26 rows x 6 columns]"
            ]
          },
          "metadata": {},
          "execution_count": 117
        }
      ]
    },
    {
      "cell_type": "code",
      "metadata": {
        "colab": {
          "base_uri": "https://localhost:8080/",
          "height": 235
        },
        "id": "lC3LKE_XFBJo",
        "outputId": "2339132b-c64f-42be-b472-b3552e280a5b"
      },
      "source": [
        "dataset[(dataset.Motor == 'Motor Diesel') & (dataset.Zero_km == True)]"
      ],
      "execution_count": null,
      "outputs": [
        {
          "output_type": "execute_result",
          "data": {
            "text/html": [
              "<div>\n",
              "<style scoped>\n",
              "    .dataframe tbody tr th:only-of-type {\n",
              "        vertical-align: middle;\n",
              "    }\n",
              "\n",
              "    .dataframe tbody tr th {\n",
              "        vertical-align: top;\n",
              "    }\n",
              "\n",
              "    .dataframe thead th {\n",
              "        text-align: right;\n",
              "    }\n",
              "</style>\n",
              "<table border=\"1\" class=\"dataframe\">\n",
              "  <thead>\n",
              "    <tr style=\"text-align: right;\">\n",
              "      <th></th>\n",
              "      <th>Motor</th>\n",
              "      <th>Ano</th>\n",
              "      <th>Quilometragem</th>\n",
              "      <th>Zero_km</th>\n",
              "      <th>Acessórios</th>\n",
              "      <th>Valor</th>\n",
              "    </tr>\n",
              "    <tr>\n",
              "      <th>Nome</th>\n",
              "      <th></th>\n",
              "      <th></th>\n",
              "      <th></th>\n",
              "      <th></th>\n",
              "      <th></th>\n",
              "      <th></th>\n",
              "    </tr>\n",
              "  </thead>\n",
              "  <tbody>\n",
              "    <tr>\n",
              "      <th>Sorento</th>\n",
              "      <td>Motor Diesel</td>\n",
              "      <td>2019</td>\n",
              "      <td>NaN</td>\n",
              "      <td>True</td>\n",
              "      <td>['Sensor de chuva', 'Câmera de estacionamento'...</td>\n",
              "      <td>81399.35</td>\n",
              "    </tr>\n",
              "    <tr>\n",
              "      <th>Cielo Hatch</th>\n",
              "      <td>Motor Diesel</td>\n",
              "      <td>2019</td>\n",
              "      <td>NaN</td>\n",
              "      <td>True</td>\n",
              "      <td>['Painel digital', 'Central multimídia', 'Câme...</td>\n",
              "      <td>145197.70</td>\n",
              "    </tr>\n",
              "    <tr>\n",
              "      <th>Camry</th>\n",
              "      <td>Motor Diesel</td>\n",
              "      <td>2019</td>\n",
              "      <td>NaN</td>\n",
              "      <td>True</td>\n",
              "      <td>['Travas elétricas', 'Rodas de liga', 'Sensor ...</td>\n",
              "      <td>138597.27</td>\n",
              "    </tr>\n",
              "    <tr>\n",
              "      <th>Aston Martin Virage</th>\n",
              "      <td>Motor Diesel</td>\n",
              "      <td>2019</td>\n",
              "      <td>NaN</td>\n",
              "      <td>True</td>\n",
              "      <td>['Travas elétricas', 'Controle de tração', 'Câ...</td>\n",
              "      <td>97290.18</td>\n",
              "    </tr>\n",
              "    <tr>\n",
              "      <th>Série 7 Sedã</th>\n",
              "      <td>Motor Diesel</td>\n",
              "      <td>2019</td>\n",
              "      <td>NaN</td>\n",
              "      <td>True</td>\n",
              "      <td>['Vidros elétricos', 'Travas elétricas', 'Roda...</td>\n",
              "      <td>67539.79</td>\n",
              "    </tr>\n",
              "  </tbody>\n",
              "</table>\n",
              "</div>"
            ],
            "text/plain": [
              "                            Motor  ...      Valor\n",
              "Nome                               ...           \n",
              "Sorento              Motor Diesel  ...   81399.35\n",
              "Cielo Hatch          Motor Diesel  ...  145197.70\n",
              "Camry                Motor Diesel  ...  138597.27\n",
              "Aston Martin Virage  Motor Diesel  ...   97290.18\n",
              "Série 7 Sedã         Motor Diesel  ...   67539.79\n",
              "\n",
              "[5 rows x 6 columns]"
            ]
          },
          "metadata": {},
          "execution_count": 118
        }
      ]
    },
    {
      "cell_type": "code",
      "metadata": {
        "colab": {
          "base_uri": "https://localhost:8080/"
        },
        "id": "4OpkNc0MFBMP",
        "outputId": "99f1a600-4fa4-4825-b2de-2dd0b4ceb6e3"
      },
      "source": [
        "(dataset.Motor == 'Motor Diesel') & (dataset.Zero_km == True)"
      ],
      "execution_count": null,
      "outputs": [
        {
          "output_type": "execute_result",
          "data": {
            "text/plain": [
              "Nome\n",
              "Jetta Variant            False\n",
              "Passat                   False\n",
              "Crossfox                 False\n",
              "DS5                      False\n",
              "Aston Martin DB4         False\n",
              "                         ...  \n",
              "Phantom 2013             False\n",
              "Cadillac Ciel concept    False\n",
              "Classe GLK               False\n",
              "Aston Martin DB5         False\n",
              "Macan                    False\n",
              "Length: 258, dtype: bool"
            ]
          },
          "metadata": {},
          "execution_count": 119
        }
      ]
    },
    {
      "cell_type": "code",
      "metadata": {
        "id": "2cUnTs-ZFBPL"
      },
      "source": [
        ""
      ],
      "execution_count": null,
      "outputs": []
    },
    {
      "cell_type": "markdown",
      "metadata": {
        "id": "_XKXcWO-D1BY"
      },
      "source": [
        "### Utilizando o método query"
      ]
    },
    {
      "cell_type": "code",
      "metadata": {
        "id": "AB9JirSoD1BY",
        "colab": {
          "base_uri": "https://localhost:8080/",
          "height": 235
        },
        "outputId": "cd4f703d-7eab-413f-8604-9b0088de8c3a"
      },
      "source": [
        "dataset.query('Motor == \"Motor Diesel\" and Zero_km == True')"
      ],
      "execution_count": null,
      "outputs": [
        {
          "output_type": "execute_result",
          "data": {
            "text/html": [
              "<div>\n",
              "<style scoped>\n",
              "    .dataframe tbody tr th:only-of-type {\n",
              "        vertical-align: middle;\n",
              "    }\n",
              "\n",
              "    .dataframe tbody tr th {\n",
              "        vertical-align: top;\n",
              "    }\n",
              "\n",
              "    .dataframe thead th {\n",
              "        text-align: right;\n",
              "    }\n",
              "</style>\n",
              "<table border=\"1\" class=\"dataframe\">\n",
              "  <thead>\n",
              "    <tr style=\"text-align: right;\">\n",
              "      <th></th>\n",
              "      <th>Motor</th>\n",
              "      <th>Ano</th>\n",
              "      <th>Quilometragem</th>\n",
              "      <th>Zero_km</th>\n",
              "      <th>Acessórios</th>\n",
              "      <th>Valor</th>\n",
              "    </tr>\n",
              "    <tr>\n",
              "      <th>Nome</th>\n",
              "      <th></th>\n",
              "      <th></th>\n",
              "      <th></th>\n",
              "      <th></th>\n",
              "      <th></th>\n",
              "      <th></th>\n",
              "    </tr>\n",
              "  </thead>\n",
              "  <tbody>\n",
              "    <tr>\n",
              "      <th>Sorento</th>\n",
              "      <td>Motor Diesel</td>\n",
              "      <td>2019</td>\n",
              "      <td>NaN</td>\n",
              "      <td>True</td>\n",
              "      <td>['Sensor de chuva', 'Câmera de estacionamento'...</td>\n",
              "      <td>81399.35</td>\n",
              "    </tr>\n",
              "    <tr>\n",
              "      <th>Cielo Hatch</th>\n",
              "      <td>Motor Diesel</td>\n",
              "      <td>2019</td>\n",
              "      <td>NaN</td>\n",
              "      <td>True</td>\n",
              "      <td>['Painel digital', 'Central multimídia', 'Câme...</td>\n",
              "      <td>145197.70</td>\n",
              "    </tr>\n",
              "    <tr>\n",
              "      <th>Camry</th>\n",
              "      <td>Motor Diesel</td>\n",
              "      <td>2019</td>\n",
              "      <td>NaN</td>\n",
              "      <td>True</td>\n",
              "      <td>['Travas elétricas', 'Rodas de liga', 'Sensor ...</td>\n",
              "      <td>138597.27</td>\n",
              "    </tr>\n",
              "    <tr>\n",
              "      <th>Aston Martin Virage</th>\n",
              "      <td>Motor Diesel</td>\n",
              "      <td>2019</td>\n",
              "      <td>NaN</td>\n",
              "      <td>True</td>\n",
              "      <td>['Travas elétricas', 'Controle de tração', 'Câ...</td>\n",
              "      <td>97290.18</td>\n",
              "    </tr>\n",
              "    <tr>\n",
              "      <th>Série 7 Sedã</th>\n",
              "      <td>Motor Diesel</td>\n",
              "      <td>2019</td>\n",
              "      <td>NaN</td>\n",
              "      <td>True</td>\n",
              "      <td>['Vidros elétricos', 'Travas elétricas', 'Roda...</td>\n",
              "      <td>67539.79</td>\n",
              "    </tr>\n",
              "  </tbody>\n",
              "</table>\n",
              "</div>"
            ],
            "text/plain": [
              "                            Motor  ...      Valor\n",
              "Nome                               ...           \n",
              "Sorento              Motor Diesel  ...   81399.35\n",
              "Cielo Hatch          Motor Diesel  ...  145197.70\n",
              "Camry                Motor Diesel  ...  138597.27\n",
              "Aston Martin Virage  Motor Diesel  ...   97290.18\n",
              "Série 7 Sedã         Motor Diesel  ...   67539.79\n",
              "\n",
              "[5 rows x 6 columns]"
            ]
          },
          "metadata": {},
          "execution_count": 120
        }
      ]
    },
    {
      "cell_type": "code",
      "metadata": {
        "id": "4ifedJTu4hCY"
      },
      "source": [
        ""
      ],
      "execution_count": null,
      "outputs": []
    },
    {
      "cell_type": "markdown",
      "metadata": {
        "id": "ZObJG2QAIn8r"
      },
      "source": [
        "## Exercício: Realizando consultas em um DataFrame"
      ]
    },
    {
      "cell_type": "code",
      "metadata": {
        "id": "ZuQzHS-GIthk"
      },
      "source": [
        "import pandas as pd\n",
        "\n",
        "dados = {\n",
        "    'Motor': ['Motor 4.0 Turbo', 'Motor Diesel', 'Motor Diesel V8', 'Motor Diesel', 'Motor 1.6'],\n",
        "    'Ano': [2019, 2003, 1991, 2019, 1990],\n",
        "    'Quilometragem': [0.0, 5712.0, 37123.0, 0.0, 120000.0],\n",
        "    'Zero_km': [True, False, False, True, False],\n",
        "    'Valor': [88000.0, 106000.0, 72000.0, 89000.0, 32000.0]\n",
        "}\n",
        "\n",
        "dataset = pd.DataFrame(dados, index = ['Jetta', 'Passat', 'Crossfox', 'DS5', 'Fusca'])"
      ],
      "execution_count": null,
      "outputs": []
    },
    {
      "cell_type": "code",
      "metadata": {
        "colab": {
          "base_uri": "https://localhost:8080/",
          "height": 204
        },
        "id": "Z6y-8KbkItkg",
        "outputId": "8c596c06-6986-4c62-bf9b-9929e38299bc"
      },
      "source": [
        "dataset"
      ],
      "execution_count": null,
      "outputs": [
        {
          "output_type": "execute_result",
          "data": {
            "text/html": [
              "<div>\n",
              "<style scoped>\n",
              "    .dataframe tbody tr th:only-of-type {\n",
              "        vertical-align: middle;\n",
              "    }\n",
              "\n",
              "    .dataframe tbody tr th {\n",
              "        vertical-align: top;\n",
              "    }\n",
              "\n",
              "    .dataframe thead th {\n",
              "        text-align: right;\n",
              "    }\n",
              "</style>\n",
              "<table border=\"1\" class=\"dataframe\">\n",
              "  <thead>\n",
              "    <tr style=\"text-align: right;\">\n",
              "      <th></th>\n",
              "      <th>Motor</th>\n",
              "      <th>Ano</th>\n",
              "      <th>Quilometragem</th>\n",
              "      <th>Zero_km</th>\n",
              "      <th>Valor</th>\n",
              "    </tr>\n",
              "  </thead>\n",
              "  <tbody>\n",
              "    <tr>\n",
              "      <th>Jetta</th>\n",
              "      <td>Motor 4.0 Turbo</td>\n",
              "      <td>2019</td>\n",
              "      <td>0.0</td>\n",
              "      <td>True</td>\n",
              "      <td>88000.0</td>\n",
              "    </tr>\n",
              "    <tr>\n",
              "      <th>Passat</th>\n",
              "      <td>Motor Diesel</td>\n",
              "      <td>2003</td>\n",
              "      <td>5712.0</td>\n",
              "      <td>False</td>\n",
              "      <td>106000.0</td>\n",
              "    </tr>\n",
              "    <tr>\n",
              "      <th>Crossfox</th>\n",
              "      <td>Motor Diesel V8</td>\n",
              "      <td>1991</td>\n",
              "      <td>37123.0</td>\n",
              "      <td>False</td>\n",
              "      <td>72000.0</td>\n",
              "    </tr>\n",
              "    <tr>\n",
              "      <th>DS5</th>\n",
              "      <td>Motor Diesel</td>\n",
              "      <td>2019</td>\n",
              "      <td>0.0</td>\n",
              "      <td>True</td>\n",
              "      <td>89000.0</td>\n",
              "    </tr>\n",
              "    <tr>\n",
              "      <th>Fusca</th>\n",
              "      <td>Motor 1.6</td>\n",
              "      <td>1990</td>\n",
              "      <td>120000.0</td>\n",
              "      <td>False</td>\n",
              "      <td>32000.0</td>\n",
              "    </tr>\n",
              "  </tbody>\n",
              "</table>\n",
              "</div>"
            ],
            "text/plain": [
              "                    Motor   Ano  Quilometragem  Zero_km     Valor\n",
              "Jetta     Motor 4.0 Turbo  2019            0.0     True   88000.0\n",
              "Passat       Motor Diesel  2003         5712.0    False  106000.0\n",
              "Crossfox  Motor Diesel V8  1991        37123.0    False   72000.0\n",
              "DS5          Motor Diesel  2019            0.0     True   89000.0\n",
              "Fusca           Motor 1.6  1990       120000.0    False   32000.0"
            ]
          },
          "metadata": {},
          "execution_count": 122
        }
      ]
    },
    {
      "cell_type": "code",
      "metadata": {
        "colab": {
          "base_uri": "https://localhost:8080/",
          "height": 142
        },
        "id": "kkz1OYxrItoT",
        "outputId": "dd136931-4405-40b6-defc-411dee73fc28"
      },
      "source": [
        "dataset[(dataset.Motor == 'Motor Diesel') | (dataset.Zero_km == True)]"
      ],
      "execution_count": null,
      "outputs": [
        {
          "output_type": "execute_result",
          "data": {
            "text/html": [
              "<div>\n",
              "<style scoped>\n",
              "    .dataframe tbody tr th:only-of-type {\n",
              "        vertical-align: middle;\n",
              "    }\n",
              "\n",
              "    .dataframe tbody tr th {\n",
              "        vertical-align: top;\n",
              "    }\n",
              "\n",
              "    .dataframe thead th {\n",
              "        text-align: right;\n",
              "    }\n",
              "</style>\n",
              "<table border=\"1\" class=\"dataframe\">\n",
              "  <thead>\n",
              "    <tr style=\"text-align: right;\">\n",
              "      <th></th>\n",
              "      <th>Motor</th>\n",
              "      <th>Ano</th>\n",
              "      <th>Quilometragem</th>\n",
              "      <th>Zero_km</th>\n",
              "      <th>Valor</th>\n",
              "    </tr>\n",
              "  </thead>\n",
              "  <tbody>\n",
              "    <tr>\n",
              "      <th>Jetta</th>\n",
              "      <td>Motor 4.0 Turbo</td>\n",
              "      <td>2019</td>\n",
              "      <td>0.0</td>\n",
              "      <td>True</td>\n",
              "      <td>88000.0</td>\n",
              "    </tr>\n",
              "    <tr>\n",
              "      <th>Passat</th>\n",
              "      <td>Motor Diesel</td>\n",
              "      <td>2003</td>\n",
              "      <td>5712.0</td>\n",
              "      <td>False</td>\n",
              "      <td>106000.0</td>\n",
              "    </tr>\n",
              "    <tr>\n",
              "      <th>DS5</th>\n",
              "      <td>Motor Diesel</td>\n",
              "      <td>2019</td>\n",
              "      <td>0.0</td>\n",
              "      <td>True</td>\n",
              "      <td>89000.0</td>\n",
              "    </tr>\n",
              "  </tbody>\n",
              "</table>\n",
              "</div>"
            ],
            "text/plain": [
              "                  Motor   Ano  Quilometragem  Zero_km     Valor\n",
              "Jetta   Motor 4.0 Turbo  2019            0.0     True   88000.0\n",
              "Passat     Motor Diesel  2003         5712.0    False  106000.0\n",
              "DS5        Motor Diesel  2019            0.0     True   89000.0"
            ]
          },
          "metadata": {},
          "execution_count": 134
        }
      ]
    },
    {
      "cell_type": "code",
      "metadata": {
        "colab": {
          "base_uri": "https://localhost:8080/",
          "height": 142
        },
        "id": "ewasnDelItyf",
        "outputId": "6bcc20ed-2f29-4d0d-9e53-6e143885b3ea"
      },
      "source": [
        "dataset.query('Motor == \"Motor Diesel\" or Zero_km == True')"
      ],
      "execution_count": null,
      "outputs": [
        {
          "output_type": "execute_result",
          "data": {
            "text/html": [
              "<div>\n",
              "<style scoped>\n",
              "    .dataframe tbody tr th:only-of-type {\n",
              "        vertical-align: middle;\n",
              "    }\n",
              "\n",
              "    .dataframe tbody tr th {\n",
              "        vertical-align: top;\n",
              "    }\n",
              "\n",
              "    .dataframe thead th {\n",
              "        text-align: right;\n",
              "    }\n",
              "</style>\n",
              "<table border=\"1\" class=\"dataframe\">\n",
              "  <thead>\n",
              "    <tr style=\"text-align: right;\">\n",
              "      <th></th>\n",
              "      <th>Motor</th>\n",
              "      <th>Ano</th>\n",
              "      <th>Quilometragem</th>\n",
              "      <th>Zero_km</th>\n",
              "      <th>Valor</th>\n",
              "    </tr>\n",
              "  </thead>\n",
              "  <tbody>\n",
              "    <tr>\n",
              "      <th>Jetta</th>\n",
              "      <td>Motor 4.0 Turbo</td>\n",
              "      <td>2019</td>\n",
              "      <td>0.0</td>\n",
              "      <td>True</td>\n",
              "      <td>88000.0</td>\n",
              "    </tr>\n",
              "    <tr>\n",
              "      <th>Passat</th>\n",
              "      <td>Motor Diesel</td>\n",
              "      <td>2003</td>\n",
              "      <td>5712.0</td>\n",
              "      <td>False</td>\n",
              "      <td>106000.0</td>\n",
              "    </tr>\n",
              "    <tr>\n",
              "      <th>DS5</th>\n",
              "      <td>Motor Diesel</td>\n",
              "      <td>2019</td>\n",
              "      <td>0.0</td>\n",
              "      <td>True</td>\n",
              "      <td>89000.0</td>\n",
              "    </tr>\n",
              "  </tbody>\n",
              "</table>\n",
              "</div>"
            ],
            "text/plain": [
              "                  Motor   Ano  Quilometragem  Zero_km     Valor\n",
              "Jetta   Motor 4.0 Turbo  2019            0.0     True   88000.0\n",
              "Passat     Motor Diesel  2003         5712.0    False  106000.0\n",
              "DS5        Motor Diesel  2019            0.0     True   89000.0"
            ]
          },
          "metadata": {},
          "execution_count": 132
        }
      ]
    },
    {
      "cell_type": "code",
      "metadata": {
        "colab": {
          "base_uri": "https://localhost:8080/",
          "height": 142
        },
        "id": "nIKypigmLi-s",
        "outputId": "a2782579-8122-4884-9653-5318cd78b8a7"
      },
      "source": [
        "dataset.query('Motor == \"Motor Diesel\" | Zero_km == True')"
      ],
      "execution_count": null,
      "outputs": [
        {
          "output_type": "execute_result",
          "data": {
            "text/html": [
              "<div>\n",
              "<style scoped>\n",
              "    .dataframe tbody tr th:only-of-type {\n",
              "        vertical-align: middle;\n",
              "    }\n",
              "\n",
              "    .dataframe tbody tr th {\n",
              "        vertical-align: top;\n",
              "    }\n",
              "\n",
              "    .dataframe thead th {\n",
              "        text-align: right;\n",
              "    }\n",
              "</style>\n",
              "<table border=\"1\" class=\"dataframe\">\n",
              "  <thead>\n",
              "    <tr style=\"text-align: right;\">\n",
              "      <th></th>\n",
              "      <th>Motor</th>\n",
              "      <th>Ano</th>\n",
              "      <th>Quilometragem</th>\n",
              "      <th>Zero_km</th>\n",
              "      <th>Valor</th>\n",
              "    </tr>\n",
              "  </thead>\n",
              "  <tbody>\n",
              "    <tr>\n",
              "      <th>Jetta</th>\n",
              "      <td>Motor 4.0 Turbo</td>\n",
              "      <td>2019</td>\n",
              "      <td>0.0</td>\n",
              "      <td>True</td>\n",
              "      <td>88000.0</td>\n",
              "    </tr>\n",
              "    <tr>\n",
              "      <th>Passat</th>\n",
              "      <td>Motor Diesel</td>\n",
              "      <td>2003</td>\n",
              "      <td>5712.0</td>\n",
              "      <td>False</td>\n",
              "      <td>106000.0</td>\n",
              "    </tr>\n",
              "    <tr>\n",
              "      <th>DS5</th>\n",
              "      <td>Motor Diesel</td>\n",
              "      <td>2019</td>\n",
              "      <td>0.0</td>\n",
              "      <td>True</td>\n",
              "      <td>89000.0</td>\n",
              "    </tr>\n",
              "  </tbody>\n",
              "</table>\n",
              "</div>"
            ],
            "text/plain": [
              "                  Motor   Ano  Quilometragem  Zero_km     Valor\n",
              "Jetta   Motor 4.0 Turbo  2019            0.0     True   88000.0\n",
              "Passat     Motor Diesel  2003         5712.0    False  106000.0\n",
              "DS5        Motor Diesel  2019            0.0     True   89000.0"
            ]
          },
          "metadata": {},
          "execution_count": 135
        }
      ]
    },
    {
      "cell_type": "markdown",
      "metadata": {
        "id": "ciJ4dw_FD1BZ"
      },
      "source": [
        "# 5.4 Iterando com DataFrames"
      ]
    },
    {
      "cell_type": "code",
      "metadata": {
        "id": "TKAB-g5KD1BZ",
        "colab": {
          "base_uri": "https://localhost:8080/",
          "height": 235
        },
        "outputId": "b8536022-4fef-4a05-f3a0-ddfdb682f7df"
      },
      "source": [
        "dataset.head()"
      ],
      "execution_count": null,
      "outputs": [
        {
          "output_type": "execute_result",
          "data": {
            "text/html": [
              "<div>\n",
              "<style scoped>\n",
              "    .dataframe tbody tr th:only-of-type {\n",
              "        vertical-align: middle;\n",
              "    }\n",
              "\n",
              "    .dataframe tbody tr th {\n",
              "        vertical-align: top;\n",
              "    }\n",
              "\n",
              "    .dataframe thead th {\n",
              "        text-align: right;\n",
              "    }\n",
              "</style>\n",
              "<table border=\"1\" class=\"dataframe\">\n",
              "  <thead>\n",
              "    <tr style=\"text-align: right;\">\n",
              "      <th></th>\n",
              "      <th>Motor</th>\n",
              "      <th>Ano</th>\n",
              "      <th>Quilometragem</th>\n",
              "      <th>Zero_km</th>\n",
              "      <th>Acessórios</th>\n",
              "      <th>Valor</th>\n",
              "    </tr>\n",
              "    <tr>\n",
              "      <th>Nome</th>\n",
              "      <th></th>\n",
              "      <th></th>\n",
              "      <th></th>\n",
              "      <th></th>\n",
              "      <th></th>\n",
              "      <th></th>\n",
              "    </tr>\n",
              "  </thead>\n",
              "  <tbody>\n",
              "    <tr>\n",
              "      <th>Jetta Variant</th>\n",
              "      <td>Motor 4.0 Turbo</td>\n",
              "      <td>2003</td>\n",
              "      <td>44410.0</td>\n",
              "      <td>False</td>\n",
              "      <td>['Rodas de liga', 'Travas elétricas', 'Piloto ...</td>\n",
              "      <td>88078.64</td>\n",
              "    </tr>\n",
              "    <tr>\n",
              "      <th>Passat</th>\n",
              "      <td>Motor Diesel</td>\n",
              "      <td>1991</td>\n",
              "      <td>5712.0</td>\n",
              "      <td>False</td>\n",
              "      <td>['Central multimídia', 'Teto panorâmico', 'Fre...</td>\n",
              "      <td>106161.94</td>\n",
              "    </tr>\n",
              "    <tr>\n",
              "      <th>Crossfox</th>\n",
              "      <td>Motor Diesel V8</td>\n",
              "      <td>1990</td>\n",
              "      <td>37123.0</td>\n",
              "      <td>False</td>\n",
              "      <td>['Piloto automático', 'Controle de estabilidad...</td>\n",
              "      <td>72832.16</td>\n",
              "    </tr>\n",
              "    <tr>\n",
              "      <th>DS5</th>\n",
              "      <td>Motor 2.4 Turbo</td>\n",
              "      <td>2019</td>\n",
              "      <td>NaN</td>\n",
              "      <td>True</td>\n",
              "      <td>['Travas elétricas', '4 X 4', 'Vidros elétrico...</td>\n",
              "      <td>124549.07</td>\n",
              "    </tr>\n",
              "    <tr>\n",
              "      <th>Aston Martin DB4</th>\n",
              "      <td>Motor 2.4 Turbo</td>\n",
              "      <td>2006</td>\n",
              "      <td>25757.0</td>\n",
              "      <td>False</td>\n",
              "      <td>['Rodas de liga', '4 X 4', 'Central multimídia...</td>\n",
              "      <td>92612.10</td>\n",
              "    </tr>\n",
              "  </tbody>\n",
              "</table>\n",
              "</div>"
            ],
            "text/plain": [
              "                            Motor  ...      Valor\n",
              "Nome                               ...           \n",
              "Jetta Variant     Motor 4.0 Turbo  ...   88078.64\n",
              "Passat               Motor Diesel  ...  106161.94\n",
              "Crossfox          Motor Diesel V8  ...   72832.16\n",
              "DS5               Motor 2.4 Turbo  ...  124549.07\n",
              "Aston Martin DB4  Motor 2.4 Turbo  ...   92612.10\n",
              "\n",
              "[5 rows x 6 columns]"
            ]
          },
          "metadata": {},
          "execution_count": 139
        }
      ]
    },
    {
      "cell_type": "code",
      "metadata": {
        "id": "eFTNtPRWD1Ba",
        "colab": {
          "base_uri": "https://localhost:8080/"
        },
        "outputId": "6eef1228-a89b-48ad-c852-139017a188fd"
      },
      "source": [
        "for item in dataset:\n",
        "  print(item)"
      ],
      "execution_count": null,
      "outputs": [
        {
          "output_type": "stream",
          "name": "stdout",
          "text": [
            "Motor\n",
            "Ano\n",
            "Quilometragem\n",
            "Zero_km\n",
            "Acessórios\n",
            "Valor\n"
          ]
        }
      ]
    },
    {
      "cell_type": "code",
      "metadata": {
        "colab": {
          "base_uri": "https://localhost:8080/"
        },
        "id": "NCntP0pWP94J",
        "outputId": "ab8fee44-1d91-46f7-9e0c-c1de3acb2ccc"
      },
      "source": [
        "list(dataset.iterrows())"
      ],
      "execution_count": null,
      "outputs": [
        {
          "output_type": "execute_result",
          "data": {
            "text/plain": [
              "[('Jetta Variant',\n",
              "  Motor                                              Motor 4.0 Turbo\n",
              "  Ano                                                           2003\n",
              "  Quilometragem                                                44410\n",
              "  Zero_km                                                      False\n",
              "  Acessórios       ['Rodas de liga', 'Travas elétricas', 'Piloto ...\n",
              "  Valor                                                      88078.6\n",
              "  Name: Jetta Variant, dtype: object),\n",
              " ('Passat', Motor                                                 Motor Diesel\n",
              "  Ano                                                           1991\n",
              "  Quilometragem                                                 5712\n",
              "  Zero_km                                                      False\n",
              "  Acessórios       ['Central multimídia', 'Teto panorâmico', 'Fre...\n",
              "  Valor                                                       106162\n",
              "  Name: Passat, dtype: object),\n",
              " ('Crossfox',\n",
              "  Motor                                              Motor Diesel V8\n",
              "  Ano                                                           1990\n",
              "  Quilometragem                                                37123\n",
              "  Zero_km                                                      False\n",
              "  Acessórios       ['Piloto automático', 'Controle de estabilidad...\n",
              "  Valor                                                      72832.2\n",
              "  Name: Crossfox, dtype: object),\n",
              " ('DS5', Motor                                              Motor 2.4 Turbo\n",
              "  Ano                                                           2019\n",
              "  Quilometragem                                                  NaN\n",
              "  Zero_km                                                       True\n",
              "  Acessórios       ['Travas elétricas', '4 X 4', 'Vidros elétrico...\n",
              "  Valor                                                       124549\n",
              "  Name: DS5, dtype: object),\n",
              " ('Aston Martin DB4',\n",
              "  Motor                                              Motor 2.4 Turbo\n",
              "  Ano                                                           2006\n",
              "  Quilometragem                                                25757\n",
              "  Zero_km                                                      False\n",
              "  Acessórios       ['Rodas de liga', '4 X 4', 'Central multimídia...\n",
              "  Valor                                                      92612.1\n",
              "  Name: Aston Martin DB4, dtype: object),\n",
              " ('Palio Weekend',\n",
              "  Motor                                                Motor 1.8 16v\n",
              "  Ano                                                           2012\n",
              "  Quilometragem                                                10728\n",
              "  Zero_km                                                      False\n",
              "  Acessórios       ['Sensor de estacionamento', 'Teto panorâmico'...\n",
              "  Valor                                                      97497.7\n",
              "  Name: Palio Weekend, dtype: object),\n",
              " ('A5', Motor                                              Motor 4.0 Turbo\n",
              "  Ano                                                           2019\n",
              "  Quilometragem                                                  NaN\n",
              "  Zero_km                                                       True\n",
              "  Acessórios       ['Câmbio automático', 'Câmera de estacionament...\n",
              "  Valor                                                      56445.2\n",
              "  Name: A5, dtype: object),\n",
              " ('Série 3 Cabrio',\n",
              "  Motor                                                 Motor 1.0 8v\n",
              "  Ano                                                           2009\n",
              "  Quilometragem                                                77599\n",
              "  Zero_km                                                      False\n",
              "  Acessórios       ['Controle de estabilidade', 'Sensor crepuscul...\n",
              "  Valor                                                       112310\n",
              "  Name: Série 3 Cabrio, dtype: object),\n",
              " ('Dodge Jorney',\n",
              "  Motor                                                Motor 3.0 32v\n",
              "  Ano                                                           2010\n",
              "  Quilometragem                                                99197\n",
              "  Zero_km                                                      False\n",
              "  Acessórios       ['Vidros elétricos', 'Piloto automático', 'Tet...\n",
              "  Valor                                                       120716\n",
              "  Name: Dodge Jorney, dtype: object),\n",
              " ('Carens', Motor                                        Motor 5.0 V8 Bi-Turbo\n",
              "  Ano                                                           2011\n",
              "  Quilometragem                                                37978\n",
              "  Zero_km                                                      False\n",
              "  Acessórios       ['Ar condicionado', 'Painel digital', 'Central...\n",
              "  Valor                                                      76566.5\n",
              "  Name: Carens, dtype: object),\n",
              " ('Ford Edge',\n",
              "  Motor                                              Motor Diesel V6\n",
              "  Ano                                                           2002\n",
              "  Quilometragem                                                12859\n",
              "  Zero_km                                                      False\n",
              "  Acessórios       ['Sensor crepuscular', 'Rodas de liga', 'Teto ...\n",
              "  Valor                                                      71647.6\n",
              "  Name: Ford Edge, dtype: object),\n",
              " ('Courier', Motor                                              Motor Diesel V8\n",
              "  Ano                                                           2007\n",
              "  Quilometragem                                                 8052\n",
              "  Zero_km                                                      False\n",
              "  Acessórios       ['Central multimídia', '4 X 4', 'Piloto automá...\n",
              "  Valor                                                      73919.5\n",
              "  Name: Courier, dtype: object),\n",
              " ('S-18', Motor                                                     Motor V6\n",
              "  Ano                                                           2001\n",
              "  Quilometragem                                                89773\n",
              "  Zero_km                                                      False\n",
              "  Acessórios       ['Bancos de couro', 'Sensor de chuva', 'Rodas ...\n",
              "  Valor                                                       112733\n",
              "  Name: S-18, dtype: object),\n",
              " ('J5', Motor                                                     Motor V6\n",
              "  Ano                                                           2019\n",
              "  Quilometragem                                                  NaN\n",
              "  Zero_km                                                       True\n",
              "  Acessórios       ['Sensor crepuscular', 'Painel digital', 'Roda...\n",
              "  Valor                                                      53183.4\n",
              "  Name: J5, dtype: object),\n",
              " ('F-Type Coupé',\n",
              "  Motor                                        Motor 5.0 V8 Bi-Turbo\n",
              "  Ano                                                           2009\n",
              "  Quilometragem                                                41457\n",
              "  Zero_km                                                      False\n",
              "  Acessórios       ['Piloto automático', 'Sensor crepuscular', 'S...\n",
              "  Valor                                                       127488\n",
              "  Name: F-Type Coupé, dtype: object),\n",
              " ('RAM', Motor                                              Motor Diesel V8\n",
              "  Ano                                                           2016\n",
              "  Quilometragem                                               115607\n",
              "  Zero_km                                                      False\n",
              "  Acessórios       ['Sensor crepuscular', 'Câmbio automático', 'S...\n",
              "  Valor                                                      59910.4\n",
              "  Name: RAM, dtype: object),\n",
              " ('Série 1', Motor                                                Motor 3.0 32v\n",
              "  Ano                                                           2012\n",
              "  Quilometragem                                                46449\n",
              "  Zero_km                                                      False\n",
              "  Acessórios       ['Teto panorâmico', 'Câmera de estacionamento'...\n",
              "  Valor                                                      61118.6\n",
              "  Name: Série 1, dtype: object),\n",
              " ('A3', Motor                                                 Motor 1.0 8v\n",
              "  Ano                                                           2019\n",
              "  Quilometragem                                                  NaN\n",
              "  Zero_km                                                       True\n",
              "  Acessórios       ['4 X 4', 'Piloto automático', 'Central multim...\n",
              "  Valor                                                      88552.4\n",
              "  Name: A3, dtype: object),\n",
              " ('XC90', Motor                                                 Motor 1.0 8v\n",
              "  Ano                                                           2016\n",
              "  Quilometragem                                                37086\n",
              "  Zero_km                                                      False\n",
              "  Acessórios       ['Travas elétricas', 'Vidros elétricos', 'Teto...\n",
              "  Valor                                                      62696.7\n",
              "  Name: XC90, dtype: object),\n",
              " ('RS 3 Sportback',\n",
              "  Motor                                                Motor 3.0 32v\n",
              "  Ano                                                           2017\n",
              "  Quilometragem                                                15173\n",
              "  Zero_km                                                      False\n",
              "  Acessórios       ['4 X 4', 'Piloto automático', 'Central multim...\n",
              "  Valor                                                       101726\n",
              "  Name: RS 3 Sportback, dtype: object),\n",
              " ('Pajero Sport',\n",
              "  Motor                                                 Motor 1.0 8v\n",
              "  Ano                                                           2002\n",
              "  Quilometragem                                               101193\n",
              "  Zero_km                                                      False\n",
              "  Acessórios       ['Sensor de estacionamento', 'Piloto automátic...\n",
              "  Valor                                                       106147\n",
              "  Name: Pajero Sport, dtype: object),\n",
              " ('Série 1 M',\n",
              "  Motor                                                     Motor V8\n",
              "  Ano                                                           2019\n",
              "  Quilometragem                                                  NaN\n",
              "  Zero_km                                                       True\n",
              "  Acessórios       ['Controle de estabilidade', 'Central multimíd...\n",
              "  Valor                                                      94564.4\n",
              "  Name: Série 1 M, dtype: object),\n",
              " ('Lamborghini Obvious',\n",
              "  Motor                                              Motor Diesel V6\n",
              "  Ano                                                           1994\n",
              "  Quilometragem                                                98079\n",
              "  Zero_km                                                      False\n",
              "  Acessórios       ['Rodas de liga', 'Câmbio automático', 'Travas...\n",
              "  Valor                                                       133530\n",
              "  Name: Lamborghini Obvious, dtype: object),\n",
              " ('Effa Hafei Picape Baú',\n",
              "  Motor                                                 Motor Diesel\n",
              "  Ano                                                           1991\n",
              "  Quilometragem                                               102959\n",
              "  Zero_km                                                      False\n",
              "  Acessórios       ['Controle de estabilidade', 'Painel digital',...\n",
              "  Valor                                                       125685\n",
              "  Name: Effa Hafei Picape Baú, dtype: object),\n",
              " ('Lamborghini Murciélago',\n",
              "  Motor                                        Motor 5.0 V8 Bi-Turbo\n",
              "  Ano                                                           2019\n",
              "  Quilometragem                                                  NaN\n",
              "  Zero_km                                                       True\n",
              "  Acessórios       ['Freios ABS', 'Câmbio automático', 'Ar condic...\n",
              "  Valor                                                       121596\n",
              "  Name: Lamborghini Murciélago, dtype: object),\n",
              " ('Up!', Motor                                              Motor Diesel V6\n",
              "  Ano                                                           2019\n",
              "  Quilometragem                                                  NaN\n",
              "  Zero_km                                                       True\n",
              "  Acessórios       ['Sensor de estacionamento', 'Vidros elétricos...\n",
              "  Valor                                                      71367.1\n",
              "  Name: Up!, dtype: object),\n",
              " ('Fiesta Rocam Sedan',\n",
              "  Motor                                              Motor 4.0 Turbo\n",
              "  Ano                                                           2016\n",
              "  Quilometragem                                                 5795\n",
              "  Zero_km                                                      False\n",
              "  Acessórios       ['Ar condicionado', 'Bancos de couro', 'Câmbio...\n",
              "  Valor                                                      95347.8\n",
              "  Name: Fiesta Rocam Sedan, dtype: object),\n",
              " ('Sandero Stepway',\n",
              "  Motor                                                Motor 3.0 32v\n",
              "  Ano                                                           2019\n",
              "  Quilometragem                                                  NaN\n",
              "  Zero_km                                                       True\n",
              "  Acessórios       ['Freios ABS', 'Ar condicionado', 'Teto panorâ...\n",
              "  Valor                                                       105433\n",
              "  Name: Sandero Stepway, dtype: object),\n",
              " ('Cayman S',\n",
              "  Motor                                                Motor 3.0 32v\n",
              "  Ano                                                           2002\n",
              "  Quilometragem                                                58848\n",
              "  Zero_km                                                      False\n",
              "  Acessórios       ['Câmbio automático', 'Sensor de estacionament...\n",
              "  Valor                                                      57045.3\n",
              "  Name: Cayman S, dtype: object),\n",
              " ('V40', Motor                                              Motor 4.0 Turbo\n",
              "  Ano                                                           1991\n",
              "  Quilometragem                                                94381\n",
              "  Zero_km                                                      False\n",
              "  Acessórios       ['Câmera de estacionamento', 'Sensor de estaci...\n",
              "  Valor                                                       120433\n",
              "  Name: V40, dtype: object),\n",
              " ('Classe SLS AMG',\n",
              "  Motor                                                 Motor 1.0 8v\n",
              "  Ano                                                           1997\n",
              "  Quilometragem                                                30163\n",
              "  Zero_km                                                      False\n",
              "  Acessórios       ['Sensor de estacionamento', 'Controle de esta...\n",
              "  Valor                                                      70707.2\n",
              "  Name: Classe SLS AMG, dtype: object),\n",
              " ('Gol G4', Motor                                                Motor 2.0 16v\n",
              "  Ano                                                           1995\n",
              "  Quilometragem                                                53332\n",
              "  Zero_km                                                      False\n",
              "  Acessórios       ['Sensor crepuscular', '4 X 4', 'Vidros elétri...\n",
              "  Valor                                                      69105.2\n",
              "  Name: Gol G4, dtype: object),\n",
              " ('Linea', Motor                                                 Motor 1.0 8v\n",
              "  Ano                                                           2018\n",
              "  Quilometragem                                                17720\n",
              "  Zero_km                                                      False\n",
              "  Acessórios       ['Piloto automático', 'Painel digital', 'Vidro...\n",
              "  Valor                                                      59358.7\n",
              "  Name: Linea, dtype: object),\n",
              " ('Ford F100',\n",
              "  Motor                                                Motor 2.0 16v\n",
              "  Ano                                                           1991\n",
              "  Quilometragem                                                33808\n",
              "  Zero_km                                                      False\n",
              "  Acessórios       ['Controle de tração', 'Sensor crepuscular', '...\n",
              "  Valor                                                      65955.4\n",
              "  Name: Ford F100, dtype: object),\n",
              " ('J2', Motor                                                     Motor V8\n",
              "  Ano                                                           2014\n",
              "  Quilometragem                                                90684\n",
              "  Zero_km                                                      False\n",
              "  Acessórios       ['Teto panorâmico', 'Sensor de estacionamento'...\n",
              "  Valor                                                        60017\n",
              "  Name: J2, dtype: object),\n",
              " ('Aston Martin DBS',\n",
              "  Motor                                                     Motor V8\n",
              "  Ano                                                           1995\n",
              "  Quilometragem                                                43975\n",
              "  Zero_km                                                      False\n",
              "  Acessórios       ['Teto panorâmico', 'Piloto automático', 'Ar c...\n",
              "  Valor                                                       118910\n",
              "  Name: Aston Martin DBS, dtype: object),\n",
              " ('Pajero TR4',\n",
              "  Motor                                              Motor 2.4 Turbo\n",
              "  Ano                                                           2019\n",
              "  Quilometragem                                                  NaN\n",
              "  Zero_km                                                       True\n",
              "  Acessórios       ['Controle de tração', 'Bancos de couro', 'Câm...\n",
              "  Valor                                                      51606.6\n",
              "  Name: Pajero TR4, dtype: object),\n",
              " ('Polo Sedan',\n",
              "  Motor                                                     Motor V6\n",
              "  Ano                                                           2019\n",
              "  Quilometragem                                                  NaN\n",
              "  Zero_km                                                       True\n",
              "  Acessórios       ['Sensor de chuva', 'Sensor crepuscular', 'Ar ...\n",
              "  Valor                                                       123282\n",
              "  Name: Polo Sedan, dtype: object),\n",
              " ('California',\n",
              "  Motor                                                 Motor 1.0 8v\n",
              "  Ano                                                           2009\n",
              "  Quilometragem                                                 5526\n",
              "  Zero_km                                                      False\n",
              "  Acessórios       ['Rodas de liga', 'Ar condicionado', 'Câmera d...\n",
              "  Valor                                                      69770.2\n",
              "  Name: California, dtype: object),\n",
              " ('S60', Motor                                              Motor 2.4 Turbo\n",
              "  Ano                                                           2019\n",
              "  Quilometragem                                                  NaN\n",
              "  Zero_km                                                       True\n",
              "  Acessórios       ['Teto panorâmico', 'Freios ABS', '4 X 4', 'Ar...\n",
              "  Valor                                                       102610\n",
              "  Name: S60, dtype: object),\n",
              " ('Tucson', Motor                                                Motor 2.0 16v\n",
              "  Ano                                                           2013\n",
              "  Quilometragem                                                93415\n",
              "  Zero_km                                                      False\n",
              "  Acessórios       ['Vidros elétricos', 'Sensor crepuscular', 'Fr...\n",
              "  Valor                                                      67997.2\n",
              "  Name: Tucson, dtype: object),\n",
              " ('HB20', Motor                                                     Motor V6\n",
              "  Ano                                                           2003\n",
              "  Quilometragem                                                40762\n",
              "  Zero_km                                                      False\n",
              "  Acessórios       ['Sensor de chuva', 'Travas elétricas', 'Contr...\n",
              "  Valor                                                       135235\n",
              "  Name: HB20, dtype: object),\n",
              " ('Optima', Motor                                                Motor 1.8 16v\n",
              "  Ano                                                           2019\n",
              "  Quilometragem                                                  NaN\n",
              "  Zero_km                                                       True\n",
              "  Acessórios       ['Central multimídia', 'Ar condicionado', 'Tet...\n",
              "  Valor                                                      86641.3\n",
              "  Name: Optima, dtype: object),\n",
              " ('Logan', Motor                                              Motor 4.0 Turbo\n",
              "  Ano                                                           2002\n",
              "  Quilometragem                                                86302\n",
              "  Zero_km                                                      False\n",
              "  Acessórios       ['Câmera de estacionamento', 'Vidros elétricos...\n",
              "  Valor                                                       136818\n",
              "  Name: Logan, dtype: object),\n",
              " ('Range Rover Vogue',\n",
              "  Motor                                                 Motor 1.0 8v\n",
              "  Ano                                                           2019\n",
              "  Quilometragem                                                  NaN\n",
              "  Zero_km                                                       True\n",
              "  Acessórios       ['4 X 4', 'Vidros elétricos', 'Rodas de liga',...\n",
              "  Valor                                                       117627\n",
              "  Name: Range Rover Vogue, dtype: object),\n",
              " ('Sonata', Motor                                        Motor 5.0 V8 Bi-Turbo\n",
              "  Ano                                                           2002\n",
              "  Quilometragem                                                 9755\n",
              "  Zero_km                                                      False\n",
              "  Acessórios       ['Piloto automático', 'Ar condicionado', 'Vidr...\n",
              "  Valor                                                      56208.7\n",
              "  Name: Sonata, dtype: object),\n",
              " ('Ford New Fiesta Sedan',\n",
              "  Motor                                                Motor 3.0 32v\n",
              "  Ano                                                           2004\n",
              "  Quilometragem                                                69945\n",
              "  Zero_km                                                      False\n",
              "  Acessórios       ['Teto panorâmico', 'Painel digital', 'Ar cond...\n",
              "  Valor                                                      84222.6\n",
              "  Name: Ford New Fiesta Sedan, dtype: object),\n",
              " ('Série 5 Gran Turismo',\n",
              "  Motor                                              Motor 4.0 Turbo\n",
              "  Ano                                                           2001\n",
              "  Quilometragem                                                 2395\n",
              "  Zero_km                                                      False\n",
              "  Acessórios       ['Controle de tração', 'Piloto automático', 'A...\n",
              "  Valor                                                      90781.6\n",
              "  Name: Série 5 Gran Turismo, dtype: object),\n",
              " ('CR-V', Motor                                              Motor Diesel V8\n",
              "  Ano                                                           2019\n",
              "  Quilometragem                                                  NaN\n",
              "  Zero_km                                                       True\n",
              "  Acessórios       ['Câmbio automático', 'Central multimídia', 'V...\n",
              "  Valor                                                      64701.1\n",
              "  Name: CR-V, dtype: object),\n",
              " ('Ford EcoSport',\n",
              "  Motor                                                 Motor 1.0 8v\n",
              "  Ano                                                           2003\n",
              "  Quilometragem                                                80349\n",
              "  Zero_km                                                      False\n",
              "  Acessórios       ['Vidros elétricos', 'Piloto automático', 'Pai...\n",
              "  Valor                                                       126350\n",
              "  Name: Ford EcoSport, dtype: object),\n",
              " ('Versa', Motor                                                Motor 3.0 32v\n",
              "  Ano                                                           2009\n",
              "  Quilometragem                                                85554\n",
              "  Zero_km                                                      False\n",
              "  Acessórios       ['Bancos de couro', 'Ar condicionado', 'Rodas ...\n",
              "  Valor                                                       148153\n",
              "  Name: Versa, dtype: object),\n",
              " ('Classe E',\n",
              "  Motor                                                 Motor 1.0 8v\n",
              "  Ano                                                           2006\n",
              "  Quilometragem                                                50496\n",
              "  Zero_km                                                      False\n",
              "  Acessórios       ['Freios ABS', 'Sensor de estacionamento', 'Ce...\n",
              "  Valor                                                       132299\n",
              "  Name: Classe E, dtype: object),\n",
              " ('Carnival',\n",
              "  Motor                                                     Motor V8\n",
              "  Ano                                                           2000\n",
              "  Quilometragem                                                67716\n",
              "  Zero_km                                                      False\n",
              "  Acessórios       ['Travas elétricas', 'Câmbio automático', 'Câm...\n",
              "  Valor                                                       137628\n",
              "  Name: Carnival, dtype: object),\n",
              " ('Aston Martin V8 Vantage Roadster',\n",
              "  Motor                                              Motor 2.4 Turbo\n",
              "  Ano                                                           2006\n",
              "  Quilometragem                                                93947\n",
              "  Zero_km                                                      False\n",
              "  Acessórios       ['Câmbio automático', 'Câmera de estacionament...\n",
              "  Valor                                                      80422.7\n",
              "  Name: Aston Martin V8 Vantage Roadster, dtype: object),\n",
              " ('Hoggar', Motor                                        Motor 5.0 V8 Bi-Turbo\n",
              "  Ano                                                           2010\n",
              "  Quilometragem                                                35345\n",
              "  Zero_km                                                      False\n",
              "  Acessórios       ['Controle de estabilidade', 'Bancos de couro'...\n",
              "  Valor                                                        56374\n",
              "  Name: Hoggar, dtype: object),\n",
              " ('A1', Motor                                        Motor 5.0 V8 Bi-Turbo\n",
              "  Ano                                                           1994\n",
              "  Quilometragem                                                81007\n",
              "  Zero_km                                                      False\n",
              "  Acessórios       ['Painel digital', 'Câmbio automático', 'Câmer...\n",
              "  Valor                                                        70846\n",
              "  Name: A1, dtype: object),\n",
              " ('Aston Martin DB7 Vantage',\n",
              "  Motor                                                     Motor V6\n",
              "  Ano                                                           2007\n",
              "  Quilometragem                                               119513\n",
              "  Zero_km                                                      False\n",
              "  Acessórios       ['Sensor crepuscular', 'Piloto automático', 'T...\n",
              "  Valor                                                       128694\n",
              "  Name: Aston Martin DB7 Vantage, dtype: object),\n",
              " ('CLA', Motor                                                 Motor 1.0 8v\n",
              "  Ano                                                           2019\n",
              "  Quilometragem                                                  NaN\n",
              "  Zero_km                                                       True\n",
              "  Acessórios       ['Central multimídia', 'Sensor de chuva', 'Con...\n",
              "  Valor                                                       133329\n",
              "  Name: CLA, dtype: object),\n",
              " ('Accord', Motor                                                     Motor V8\n",
              "  Ano                                                           2019\n",
              "  Quilometragem                                                  NaN\n",
              "  Zero_km                                                       True\n",
              "  Acessórios       ['Sensor de estacionamento', 'Ar condicionado'...\n",
              "  Valor                                                       131961\n",
              "  Name: Accord, dtype: object),\n",
              " ('EXTRA 103EX',\n",
              "  Motor                                                Motor 2.0 16v\n",
              "  Ano                                                           2019\n",
              "  Quilometragem                                                  NaN\n",
              "  Zero_km                                                       True\n",
              "  Acessórios       ['Sensor de estacionamento', 'Central multimíd...\n",
              "  Valor                                                       112033\n",
              "  Name: EXTRA 103EX, dtype: object),\n",
              " ('Sorento', Motor                                                 Motor Diesel\n",
              "  Ano                                                           2019\n",
              "  Quilometragem                                                  NaN\n",
              "  Zero_km                                                       True\n",
              "  Acessórios       ['Sensor de chuva', 'Câmera de estacionamento'...\n",
              "  Valor                                                      81399.4\n",
              "  Name: Sorento, dtype: object),\n",
              " ('Tiggo', Motor                                                Motor 3.0 32v\n",
              "  Ano                                                           2019\n",
              "  Quilometragem                                                  NaN\n",
              "  Zero_km                                                       True\n",
              "  Acessórios       ['Câmera de estacionamento', 'Freios ABS', 'Pi...\n",
              "  Valor                                                      97163.1\n",
              "  Name: Tiggo, dtype: object),\n",
              " ('New Fiesta Hatch',\n",
              "  Motor                                                 Motor Diesel\n",
              "  Ano                                                           2017\n",
              "  Quilometragem                                               118895\n",
              "  Zero_km                                                      False\n",
              "  Acessórios       ['Sensor de estacionamento', 'Travas elétricas...\n",
              "  Valor                                                      66007.2\n",
              "  Name: New Fiesta Hatch, dtype: object),\n",
              " ('Jeep Renegade',\n",
              "  Motor                                        Motor 5.0 V8 Bi-Turbo\n",
              "  Ano                                                           2011\n",
              "  Quilometragem                                                48509\n",
              "  Zero_km                                                      False\n",
              "  Acessórios       ['Vidros elétricos', 'Teto panorâmico', 'Banco...\n",
              "  Valor                                                       128776\n",
              "  Name: Jeep Renegade, dtype: object),\n",
              " ('Lamborghini Ankonian',\n",
              "  Motor                                                Motor 2.0 16v\n",
              "  Ano                                                           2001\n",
              "  Quilometragem                                               100912\n",
              "  Zero_km                                                      False\n",
              "  Acessórios       ['Bancos de couro', 'Câmera de estacionamento'...\n",
              "  Valor                                                       142623\n",
              "  Name: Lamborghini Ankonian, dtype: object),\n",
              " ('Space Cross',\n",
              "  Motor                                        Motor 5.0 V8 Bi-Turbo\n",
              "  Ano                                                           1996\n",
              "  Quilometragem                                                95649\n",
              "  Zero_km                                                      False\n",
              "  Acessórios       ['Teto panorâmico', 'Vidros elétricos', 'Senso...\n",
              "  Valor                                                       136930\n",
              "  Name: Space Cross, dtype: object),\n",
              " ('Touareg', Motor                                                     Motor V8\n",
              "  Ano                                                           2019\n",
              "  Quilometragem                                                  NaN\n",
              "  Zero_km                                                       True\n",
              "  Acessórios       ['Controle de estabilidade', 'Piloto automátic...\n",
              "  Valor                                                      66526.6\n",
              "  Name: Touareg, dtype: object),\n",
              " ('Classe M',\n",
              "  Motor                                                 Motor 1.0 8v\n",
              "  Ano                                                           1994\n",
              "  Quilometragem                                                90495\n",
              "  Zero_km                                                      False\n",
              "  Acessórios       ['Central multimídia', 'Bancos de couro', 'Rod...\n",
              "  Valor                                                       114155\n",
              "  Name: Classe M, dtype: object),\n",
              " ('Lancer Evolution X',\n",
              "  Motor                                              Motor Diesel V6\n",
              "  Ano                                                           2019\n",
              "  Quilometragem                                                  NaN\n",
              "  Zero_km                                                       True\n",
              "  Acessórios       ['Vidros elétricos', 'Câmbio automático', 'Con...\n",
              "  Valor                                                       142393\n",
              "  Name: Lancer Evolution X, dtype: object),\n",
              " ('Kangoo Express',\n",
              "  Motor                                                 Motor Diesel\n",
              "  Ano                                                           2007\n",
              "  Quilometragem                                                29132\n",
              "  Zero_km                                                      False\n",
              "  Acessórios       ['Bancos de couro', 'Câmbio automático', 'Pilo...\n",
              "  Valor                                                       146717\n",
              "  Name: Kangoo Express, dtype: object),\n",
              " ('SW4', Motor                                              Motor Diesel V6\n",
              "  Ano                                                           1994\n",
              "  Quilometragem                                                23802\n",
              "  Zero_km                                                      False\n",
              "  Acessórios       ['Sensor de chuva', 'Bancos de couro', 'Contro...\n",
              "  Valor                                                       122486\n",
              "  Name: SW4, dtype: object),\n",
              " ('Cadillac ELR',\n",
              "  Motor                                                 Motor 1.0 8v\n",
              "  Ano                                                           2007\n",
              "  Quilometragem                                                84992\n",
              "  Zero_km                                                      False\n",
              "  Acessórios       ['Sensor crepuscular', 'Travas elétricas', 'Te...\n",
              "  Valor                                                        97951\n",
              "  Name: Cadillac ELR, dtype: object),\n",
              " ('Doblò', Motor                                                Motor 1.8 16v\n",
              "  Ano                                                           1997\n",
              "  Quilometragem                                                54395\n",
              "  Zero_km                                                      False\n",
              "  Acessórios       ['Câmera de estacionamento', 'Teto panorâmico'...\n",
              "  Valor                                                      78283.5\n",
              "  Name: Doblò, dtype: object),\n",
              " ('Lamborghini Egoista',\n",
              "  Motor                                                Motor 3.0 32v\n",
              "  Ano                                                           2006\n",
              "  Quilometragem                                                26731\n",
              "  Zero_km                                                      False\n",
              "  Acessórios       ['Rodas de liga', 'Controle de tração', 'Centr...\n",
              "  Valor                                                        83434\n",
              "  Name: Lamborghini Egoista, dtype: object),\n",
              " ('Fit', Motor                                                 Motor Diesel\n",
              "  Ano                                                           2013\n",
              "  Quilometragem                                                44329\n",
              "  Zero_km                                                      False\n",
              "  Acessórios       ['Freios ABS', 'Câmera de estacionamento', 'Câ...\n",
              "  Valor                                                      77836.2\n",
              "  Name: Fit, dtype: object),\n",
              " ('C5', Motor                                                Motor 2.0 16v\n",
              "  Ano                                                           1994\n",
              "  Quilometragem                                               118236\n",
              "  Zero_km                                                      False\n",
              "  Acessórios       ['Painel digital', 'Teto panorâmico', 'Piloto ...\n",
              "  Valor                                                      60813.9\n",
              "  Name: C5, dtype: object),\n",
              " ('Celer Hatch',\n",
              "  Motor                                                     Motor V8\n",
              "  Ano                                                           2008\n",
              "  Quilometragem                                               113808\n",
              "  Zero_km                                                      False\n",
              "  Acessórios       ['Controle de estabilidade', 'Câmbio automátic...\n",
              "  Valor                                                      91353.9\n",
              "  Name: Celer Hatch, dtype: object),\n",
              " ('HB20S', Motor                                                     Motor V8\n",
              "  Ano                                                           2008\n",
              "  Quilometragem                                                  610\n",
              "  Zero_km                                                      False\n",
              "  Acessórios       ['Teto panorâmico', 'Rodas de liga', 'Travas e...\n",
              "  Valor                                                       116281\n",
              "  Name: HB20S, dtype: object),\n",
              " ('Cielo Hatch',\n",
              "  Motor                                                 Motor Diesel\n",
              "  Ano                                                           2019\n",
              "  Quilometragem                                                  NaN\n",
              "  Zero_km                                                       True\n",
              "  Acessórios       ['Painel digital', 'Central multimídia', 'Câme...\n",
              "  Valor                                                       145198\n",
              "  Name: Cielo Hatch, dtype: object),\n",
              " ('Livina', Motor                                                Motor 2.0 16v\n",
              "  Ano                                                           2019\n",
              "  Quilometragem                                                  NaN\n",
              "  Zero_km                                                       True\n",
              "  Acessórios       ['Sensor crepuscular', 'Câmera de estacionamen...\n",
              "  Valor                                                      50742.1\n",
              "  Name: Livina, dtype: object),\n",
              " ('Ducato', Motor                                        Motor 5.0 V8 Bi-Turbo\n",
              "  Ano                                                           1999\n",
              "  Quilometragem                                                12887\n",
              "  Zero_km                                                      False\n",
              "  Acessórios       ['Sensor de chuva', 'Painel digital', 'Sensor ...\n",
              "  Valor                                                      73033.5\n",
              "  Name: Ducato, dtype: object),\n",
              " ('March', Motor                                                     Motor V6\n",
              "  Ano                                                           2007\n",
              "  Quilometragem                                                79607\n",
              "  Zero_km                                                      False\n",
              "  Acessórios       ['Bancos de couro', 'Piloto automático', 'Sens...\n",
              "  Valor                                                      54332.9\n",
              "  Name: March, dtype: object),\n",
              " ('Cadillac XTS sedan',\n",
              "  Motor                                              Motor Diesel V6\n",
              "  Ano                                                           1993\n",
              "  Quilometragem                                                90924\n",
              "  Zero_km                                                      False\n",
              "  Acessórios       ['Ar condicionado', 'Câmbio automático', 'Sens...\n",
              "  Valor                                                      52207.4\n",
              "  Name: Cadillac XTS sedan, dtype: object),\n",
              " ('Lamborghini Centenario',\n",
              "  Motor                                                     Motor V6\n",
              "  Ano                                                           1995\n",
              "  Quilometragem                                                42733\n",
              "  Zero_km                                                      False\n",
              "  Acessórios       ['Central multimídia', 'Vidros elétricos', 'Se...\n",
              "  Valor                                                      63578.5\n",
              "  Name: Lamborghini Centenario, dtype: object),\n",
              " ('Hilux', Motor                                        Motor 5.0 V8 Bi-Turbo\n",
              "  Ano                                                           2019\n",
              "  Quilometragem                                                  NaN\n",
              "  Zero_km                                                       True\n",
              "  Acessórios       ['4 X 4', 'Piloto automático', 'Teto panorâmic...\n",
              "  Valor                                                      64507.7\n",
              "  Name: Hilux, dtype: object),\n",
              " ('Grand Siena',\n",
              "  Motor                                              Motor Diesel V8\n",
              "  Ano                                                           2019\n",
              "  Quilometragem                                                  NaN\n",
              "  Zero_km                                                       True\n",
              "  Acessórios       ['Bancos de couro', 'Painel digital', 'Sensor ...\n",
              "  Valor                                                       115076\n",
              "  Name: Grand Siena, dtype: object),\n",
              " ('Symbol', Motor                                                 Motor Diesel\n",
              "  Ano                                                           2016\n",
              "  Quilometragem                                               117714\n",
              "  Zero_km                                                      False\n",
              "  Acessórios       ['4 X 4', 'Piloto automático', 'Sensor crepusc...\n",
              "  Valor                                                       133031\n",
              "  Name: Symbol, dtype: object),\n",
              " ('Aston Martin V12 GT Zagato',\n",
              "  Motor                                              Motor 4.0 Turbo\n",
              "  Ano                                                           2011\n",
              "  Quilometragem                                               113885\n",
              "  Zero_km                                                      False\n",
              "  Acessórios       ['Central multimídia', 'Piloto automático', 'S...\n",
              "  Valor                                                       141592\n",
              "  Name: Aston Martin V12 GT Zagato, dtype: object),\n",
              " ('Fusion', Motor                                                Motor 1.8 16v\n",
              "  Ano                                                           2019\n",
              "  Quilometragem                                                  NaN\n",
              "  Zero_km                                                       True\n",
              "  Acessórios       ['Controle de tração', 'Câmbio automático', 'F...\n",
              "  Valor                                                       100380\n",
              "  Name: Fusion, dtype: object),\n",
              " ('A4 Sedan',\n",
              "  Motor                                                 Motor Diesel\n",
              "  Ano                                                           2002\n",
              "  Quilometragem                                                30511\n",
              "  Zero_km                                                      False\n",
              "  Acessórios       ['Câmera de estacionamento', '4 X 4', 'Travas ...\n",
              "  Valor                                                        96369\n",
              "  Name: A4 Sedan, dtype: object),\n",
              " ('Xsara Picasso',\n",
              "  Motor                                                Motor 2.0 16v\n",
              "  Ano                                                           2013\n",
              "  Quilometragem                                                74867\n",
              "  Zero_km                                                      False\n",
              "  Acessórios       ['Sensor de chuva', 'Teto panorâmico', 'Centra...\n",
              "  Valor                                                       142604\n",
              "  Name: Xsara Picasso, dtype: object),\n",
              " ('207 SW', Motor                                                Motor 3.0 32v\n",
              "  Ano                                                           2017\n",
              "  Quilometragem                                               119760\n",
              "  Zero_km                                                      False\n",
              "  Acessórios       ['Controle de estabilidade', 'Travas elétricas...\n",
              "  Valor                                                       117710\n",
              "  Name: 207 SW, dtype: object),\n",
              " ('Star', Motor                                                     Motor V6\n",
              "  Ano                                                           2016\n",
              "  Quilometragem                                                 8356\n",
              "  Zero_km                                                      False\n",
              "  Acessórios       ['Câmera de estacionamento', '4 X 4', 'Central...\n",
              "  Valor                                                       102242\n",
              "  Name: Star, dtype: object),\n",
              " ('Doblò Cargo',\n",
              "  Motor                                                Motor 3.0 32v\n",
              "  Ano                                                           2008\n",
              "  Quilometragem                                                64247\n",
              "  Zero_km                                                      False\n",
              "  Acessórios       ['Freios ABS', 'Teto panorâmico', 'Vidros elét...\n",
              "  Valor                                                      96065.4\n",
              "  Name: Doblò Cargo, dtype: object),\n",
              " ('Cadillac CTS',\n",
              "  Motor                                                Motor 1.8 16v\n",
              "  Ano                                                           2018\n",
              "  Quilometragem                                                88661\n",
              "  Zero_km                                                      False\n",
              "  Acessórios       ['Travas elétricas', 'Sensor de chuva', 'Freio...\n",
              "  Valor                                                      53894.6\n",
              "  Name: Cadillac CTS, dtype: object),\n",
              " ('Cayenne', Motor                                                 Motor 1.0 8v\n",
              "  Ano                                                           2003\n",
              "  Quilometragem                                                 4539\n",
              "  Zero_km                                                      False\n",
              "  Acessórios       ['Controle de tração', 'Piloto automático', 'T...\n",
              "  Valor                                                       123912\n",
              "  Name: Cayenne, dtype: object),\n",
              " ('Fox', Motor                                              Motor 4.0 Turbo\n",
              "  Ano                                                           2003\n",
              "  Quilometragem                                               110116\n",
              "  Zero_km                                                      False\n",
              "  Acessórios       ['Piloto automático', 'Câmbio automático', 'Tr...\n",
              "  Valor                                                       101996\n",
              "  Name: Fox, dtype: object),\n",
              " ('Tiida Hatch',\n",
              "  Motor                                              Motor Diesel V6\n",
              "  Ano                                                           2004\n",
              "  Quilometragem                                                33215\n",
              "  Zero_km                                                      False\n",
              "  Acessórios       ['Teto panorâmico', 'Travas elétricas', 'Senso...\n",
              "  Valor                                                      83431.7\n",
              "  Name: Tiida Hatch, dtype: object),\n",
              " ('Dodge Charger',\n",
              "  Motor                                              Motor 2.4 Turbo\n",
              "  Ano                                                           2010\n",
              "  Quilometragem                                                92001\n",
              "  Zero_km                                                      False\n",
              "  Acessórios       ['Vidros elétricos', 'Sensor crepuscular', 'Co...\n",
              "  Valor                                                       122976\n",
              "  Name: Dodge Charger, dtype: object),\n",
              " ('Face', Motor                                                     Motor V8\n",
              "  Ano                                                           2019\n",
              "  Quilometragem                                                  NaN\n",
              "  Zero_km                                                       True\n",
              "  Acessórios       ['Controle de estabilidade', 'Vidros elétricos...\n",
              "  Valor                                                      93227.7\n",
              "  Name: Face, dtype: object),\n",
              " ('Prius', Motor                                                Motor 3.0 32v\n",
              "  Ano                                                           2006\n",
              "  Quilometragem                                                81708\n",
              "  Zero_km                                                      False\n",
              "  Acessórios       ['Rodas de liga', 'Bancos de couro', 'Painel d...\n",
              "  Valor                                                      58762.7\n",
              "  Name: Prius, dtype: object),\n",
              " ('Idea', Motor                                                     Motor V6\n",
              "  Ano                                                           2001\n",
              "  Quilometragem                                                70641\n",
              "  Zero_km                                                      False\n",
              "  Acessórios       ['Central multimídia', 'Piloto automático', 'T...\n",
              "  Valor                                                       139550\n",
              "  Name: Idea, dtype: object),\n",
              " ('A8', Motor                                                Motor 2.0 16v\n",
              "  Ano                                                           2019\n",
              "  Quilometragem                                                  NaN\n",
              "  Zero_km                                                       True\n",
              "  Acessórios       ['Painel digital', 'Teto panorâmico', 'Piloto ...\n",
              "  Valor                                                       122016\n",
              "  Name: A8, dtype: object),\n",
              " ('Série 1 Cabrio',\n",
              "  Motor                                                Motor 3.0 32v\n",
              "  Ano                                                           2015\n",
              "  Quilometragem                                                91277\n",
              "  Zero_km                                                      False\n",
              "  Acessórios       ['Vidros elétricos', 'Travas elétricas', 'Cont...\n",
              "  Valor                                                        72732\n",
              "  Name: Série 1 Cabrio, dtype: object),\n",
              " ('Edge', Motor                                                     Motor V6\n",
              "  Ano                                                           2018\n",
              "  Quilometragem                                                26544\n",
              "  Zero_km                                                      False\n",
              "  Acessórios       ['Freios ABS', 'Controle de tração', 'Sensor c...\n",
              "  Valor                                                      88416.5\n",
              "  Name: Edge, dtype: object),\n",
              " ('Cadillac ATS sedan',\n",
              "  Motor                                                Motor 1.8 16v\n",
              "  Ano                                                           2017\n",
              "  Quilometragem                                                52596\n",
              "  Zero_km                                                      False\n",
              "  Acessórios       ['Painel digital', 'Vidros elétricos', 'Teto p...\n",
              "  Valor                                                      73873.4\n",
              "  Name: Cadillac ATS sedan, dtype: object),\n",
              " ('Lamborghini Asterion LPI 910-4',\n",
              "  Motor                                        Motor 5.0 V8 Bi-Turbo\n",
              "  Ano                                                           1992\n",
              "  Quilometragem                                                47503\n",
              "  Zero_km                                                      False\n",
              "  Acessórios       ['Ar condicionado', 'Painel digital', 'Control...\n",
              "  Valor                                                      70709.3\n",
              "  Name: Lamborghini Asterion LPI 910-4, dtype: object),\n",
              " ('Frontier',\n",
              "  Motor                                                     Motor V8\n",
              "  Ano                                                           2001\n",
              "  Quilometragem                                                89056\n",
              "  Zero_km                                                      False\n",
              "  Acessórios       ['Câmbio automático', 'Rodas de liga', 'Sensor...\n",
              "  Valor                                                       115306\n",
              "  Name: Frontier, dtype: object),\n",
              " ('Série 3 Sedã',\n",
              "  Motor                                                Motor 3.0 32v\n",
              "  Ano                                                           1993\n",
              "  Quilometragem                                                28834\n",
              "  Zero_km                                                      False\n",
              "  Acessórios       ['Controle de tração', 'Controle de estabilida...\n",
              "  Valor                                                      55924.6\n",
              "  Name: Série 3 Sedã, dtype: object),\n",
              " ('Lamborghini LM002',\n",
              "  Motor                                                Motor 1.8 16v\n",
              "  Ano                                                           1995\n",
              "  Quilometragem                                               110564\n",
              "  Zero_km                                                      False\n",
              "  Acessórios       ['Bancos de couro', 'Freios ABS', 'Central mul...\n",
              "  Valor                                                      85052.3\n",
              "  Name: Lamborghini LM002, dtype: object),\n",
              " ('Cadillac XLR',\n",
              "  Motor                                              Motor Diesel V8\n",
              "  Ano                                                           2003\n",
              "  Quilometragem                                                56638\n",
              "  Zero_km                                                      False\n",
              "  Acessórios       ['Sensor crepuscular', 'Teto panorâmico', 'Sen...\n",
              "  Valor                                                      56646.3\n",
              "  Name: Cadillac XLR, dtype: object),\n",
              " ('A4 Avant',\n",
              "  Motor                                                 Motor Diesel\n",
              "  Ano                                                           2014\n",
              "  Quilometragem                                                17357\n",
              "  Zero_km                                                      False\n",
              "  Acessórios       ['Teto panorâmico', '4 X 4', 'Bancos de couro'...\n",
              "  Valor                                                       138947\n",
              "  Name: A4 Avant, dtype: object),\n",
              " ('EcoSport',\n",
              "  Motor                                              Motor 4.0 Turbo\n",
              "  Ano                                                           2008\n",
              "  Quilometragem                                                74015\n",
              "  Zero_km                                                      False\n",
              "  Acessórios       ['Piloto automático', 'Sensor de estacionament...\n",
              "  Valor                                                       108257\n",
              "  Name: EcoSport, dtype: object),\n",
              " ('J3', Motor                                                Motor 1.8 16v\n",
              "  Ano                                                           2013\n",
              "  Quilometragem                                                15196\n",
              "  Zero_km                                                      False\n",
              "  Acessórios       ['Controle de estabilidade', '4 X 4', 'Câmera ...\n",
              "  Valor                                                      58979.3\n",
              "  Name: J3, dtype: object),\n",
              " ('Q3', Motor                                                Motor 3.0 32v\n",
              "  Ano                                                           2019\n",
              "  Quilometragem                                                  NaN\n",
              "  Zero_km                                                       True\n",
              "  Acessórios       ['Controle de estabilidade', 'Bancos de couro'...\n",
              "  Valor                                                       114728\n",
              "  Name: Q3, dtype: object),\n",
              " ('Aston Martin V8 Vantage',\n",
              "  Motor                                                     Motor V8\n",
              "  Ano                                                           2017\n",
              "  Quilometragem                                                10821\n",
              "  Zero_km                                                      False\n",
              "  Acessórios       ['Teto panorâmico', 'Controle de tração', 'Pai...\n",
              "  Valor                                                       139661\n",
              "  Name: Aston Martin V8 Vantage, dtype: object),\n",
              " ('Z4 Roadster',\n",
              "  Motor                                                Motor 3.0 32v\n",
              "  Ano                                                           2019\n",
              "  Quilometragem                                                  NaN\n",
              "  Zero_km                                                       True\n",
              "  Acessórios       ['Central multimídia', 'Câmbio automático', 'T...\n",
              "  Valor                                                      80382.2\n",
              "  Name: Z4 Roadster, dtype: object),\n",
              " ('Lamborghini Ferruccio',\n",
              "  Motor                                                Motor 3.0 32v\n",
              "  Ano                                                           2019\n",
              "  Quilometragem                                                  NaN\n",
              "  Zero_km                                                       True\n",
              "  Acessórios       ['Vidros elétricos', 'Piloto automático', 'Tet...\n",
              "  Valor                                                       149157\n",
              "  Name: Lamborghini Ferruccio, dtype: object),\n",
              " ('Ford Ka+',\n",
              "  Motor                                                Motor 1.8 16v\n",
              "  Ano                                                           2006\n",
              "  Quilometragem                                                 9595\n",
              "  Zero_km                                                      False\n",
              "  Acessórios       ['Sensor crepuscular', 'Piloto automático', 'C...\n",
              "  Valor                                                      87830.4\n",
              "  Name: Ford Ka+, dtype: object),\n",
              " ('Silver Shadow',\n",
              "  Motor                                                 Motor Diesel\n",
              "  Ano                                                           2015\n",
              "  Quilometragem                                                99052\n",
              "  Zero_km                                                      False\n",
              "  Acessórios       ['4 X 4', 'Central multimídia', 'Ar condiciona...\n",
              "  Valor                                                       143568\n",
              "  Name: Silver Shadow, dtype: object),\n",
              " ('Classe C 63 AMG Touring',\n",
              "  Motor                                              Motor Diesel V8\n",
              "  Ano                                                           2007\n",
              "  Quilometragem                                                52389\n",
              "  Zero_km                                                      False\n",
              "  Acessórios       ['Central multimídia', 'Piloto automático', 'F...\n",
              "  Valor                                                       138172\n",
              "  Name: Classe C 63 AMG Touring, dtype: object),\n",
              " ('Discovery 4',\n",
              "  Motor                                              Motor 4.0 Turbo\n",
              "  Ano                                                           2005\n",
              "  Quilometragem                                               119945\n",
              "  Zero_km                                                      False\n",
              "  Acessórios       ['Freios ABS', 'Rodas de liga', 'Sensor de chu...\n",
              "  Valor                                                       115785\n",
              "  Name: Discovery 4, dtype: object),\n",
              " ('Veloster',\n",
              "  Motor                                              Motor Diesel V8\n",
              "  Ano                                                           2017\n",
              "  Quilometragem                                                96005\n",
              "  Zero_km                                                      False\n",
              "  Acessórios       ['Ar condicionado', 'Central multimídia', 'Ban...\n",
              "  Valor                                                       146509\n",
              "  Name: Veloster, dtype: object),\n",
              " ('Classe C',\n",
              "  Motor                                              Motor Diesel V6\n",
              "  Ano                                                           1998\n",
              "  Quilometragem                                                31639\n",
              "  Zero_km                                                      False\n",
              "  Acessórios       ['Freios ABS', 'Sensor de chuva', 'Central mul...\n",
              "  Valor                                                       137670\n",
              "  Name: Classe C, dtype: object),\n",
              " ('Camry', Motor                                                 Motor Diesel\n",
              "  Ano                                                           2019\n",
              "  Quilometragem                                                  NaN\n",
              "  Zero_km                                                       True\n",
              "  Acessórios       ['Travas elétricas', 'Rodas de liga', 'Sensor ...\n",
              "  Valor                                                       138597\n",
              "  Name: Camry, dtype: object),\n",
              " ('C5 Tourer',\n",
              "  Motor                                              Motor Diesel V6\n",
              "  Ano                                                           1999\n",
              "  Quilometragem                                                80187\n",
              "  Zero_km                                                      False\n",
              "  Acessórios       ['Rodas de liga', 'Sensor de chuva', 'Painel d...\n",
              "  Valor                                                       147628\n",
              "  Name: C5 Tourer, dtype: object),\n",
              " ('R8 GT', Motor                                              Motor 4.0 Turbo\n",
              "  Ano                                                           2019\n",
              "  Quilometragem                                                  NaN\n",
              "  Zero_km                                                       True\n",
              "  Acessórios       ['Rodas de liga', 'Câmbio automático', 'Sensor...\n",
              "  Valor                                                        62999\n",
              "  Name: R8 GT, dtype: object),\n",
              " ('Bongo', Motor                                              Motor Diesel V8\n",
              "  Ano                                                           2009\n",
              "  Quilometragem                                                58212\n",
              "  Zero_km                                                      False\n",
              "  Acessórios       ['Vidros elétricos', 'Teto panorâmico', 'Paine...\n",
              "  Valor                                                      91242.4\n",
              "  Name: Bongo, dtype: object),\n",
              " ('ASX', Motor                                              Motor Diesel V8\n",
              "  Ano                                                           2003\n",
              "  Quilometragem                                                61672\n",
              "  Zero_km                                                      False\n",
              "  Acessórios       ['Ar condicionado', 'Sensor crepuscular', 'Rod...\n",
              "  Valor                                                       149490\n",
              "  Name: ASX, dtype: object),\n",
              " ('Cadillac SRX',\n",
              "  Motor                                        Motor 5.0 V8 Bi-Turbo\n",
              "  Ano                                                           1994\n",
              "  Quilometragem                                                32017\n",
              "  Zero_km                                                      False\n",
              "  Acessórios       ['Painel digital', 'Piloto automático', 'Contr...\n",
              "  Valor                                                      63529.9\n",
              "  Name: Cadillac SRX, dtype: object),\n",
              " ('Classe CL',\n",
              "  Motor                                                     Motor V8\n",
              "  Ano                                                           2019\n",
              "  Quilometragem                                                  NaN\n",
              "  Zero_km                                                       True\n",
              "  Acessórios       ['Central multimídia', 'Câmbio automático', '4...\n",
              "  Valor                                                      58525.4\n",
              "  Name: Classe CL, dtype: object),\n",
              " ('500 Abarth',\n",
              "  Motor                                                     Motor V6\n",
              "  Ano                                                           1994\n",
              "  Quilometragem                                                56944\n",
              "  Zero_km                                                      False\n",
              "  Acessórios       ['4 X 4', 'Teto panorâmico', 'Controle de traç...\n",
              "  Valor                                                      90345.1\n",
              "  Name: 500 Abarth, dtype: object),\n",
              " ('Aston Martin Cygnet',\n",
              "  Motor                                        Motor 5.0 V8 Bi-Turbo\n",
              "  Ano                                                           2019\n",
              "  Quilometragem                                                  NaN\n",
              "  Zero_km                                                       True\n",
              "  Acessórios       ['Painel digital', 'Ar condicionado', 'Sensor ...\n",
              "  Valor                                                       147771\n",
              "  Name: Aston Martin Cygnet, dtype: object),\n",
              " ('Cadillac STS',\n",
              "  Motor                                              Motor 4.0 Turbo\n",
              "  Ano                                                           2015\n",
              "  Quilometragem                                                86519\n",
              "  Zero_km                                                      False\n",
              "  Acessórios       ['Painel digital', 'Bancos de couro', 'Sensor ...\n",
              "  Valor                                                       106618\n",
              "  Name: Cadillac STS, dtype: object),\n",
              " ('Aston Martin DB9',\n",
              "  Motor                                                Motor 1.8 16v\n",
              "  Ano                                                           1996\n",
              "  Quilometragem                                                 4821\n",
              "  Zero_km                                                      False\n",
              "  Acessórios       ['Ar condicionado', 'Vidros elétricos', '4 X 4...\n",
              "  Valor                                                       104930\n",
              "  Name: Aston Martin DB9, dtype: object),\n",
              " ('NX 200t', Motor                                              Motor 2.4 Turbo\n",
              "  Ano                                                           1997\n",
              "  Quilometragem                                               101025\n",
              "  Zero_km                                                      False\n",
              "  Acessórios       ['Controle de estabilidade', 'Painel digital',...\n",
              "  Valor                                                       100712\n",
              "  Name: NX 200t, dtype: object),\n",
              " ('Aston Martin One-77',\n",
              "  Motor                                                     Motor V6\n",
              "  Ano                                                           1993\n",
              "  Quilometragem                                                30705\n",
              "  Zero_km                                                      False\n",
              "  Acessórios       ['Sensor de estacionamento', 'Rodas de liga', ...\n",
              "  Valor                                                       141983\n",
              "  Name: Aston Martin One-77, dtype: object),\n",
              " ('Lamborghini Veneno',\n",
              "  Motor                                                Motor 3.0 32v\n",
              "  Ano                                                           2019\n",
              "  Quilometragem                                                  NaN\n",
              "  Zero_km                                                       True\n",
              "  Acessórios       ['4 X 4', 'Sensor de estacionamento', 'Câmbio ...\n",
              "  Valor                                                       104039\n",
              "  Name: Lamborghini Veneno, dtype: object),\n",
              " ('Sentra', Motor                                                Motor 2.0 16v\n",
              "  Ano                                                           1992\n",
              "  Quilometragem                                                32555\n",
              "  Zero_km                                                      False\n",
              "  Acessórios       ['Piloto automático', 'Sensor crepuscular', 'T...\n",
              "  Valor                                                      88501.5\n",
              "  Name: Sentra, dtype: object),\n",
              " ('Jumper', Motor                                              Motor 2.4 Turbo\n",
              "  Ano                                                           1995\n",
              "  Quilometragem                                               103389\n",
              "  Zero_km                                                      False\n",
              "  Acessórios       ['Ar condicionado', 'Rodas de liga', 'Câmbio a...\n",
              "  Valor                                                        79782\n",
              "  Name: Jumper, dtype: object),\n",
              " ('i30', Motor                                                Motor 1.8 16v\n",
              "  Ano                                                           2019\n",
              "  Quilometragem                                                  NaN\n",
              "  Zero_km                                                       True\n",
              "  Acessórios       ['Câmbio automático', 'Controle de estabilidad...\n",
              "  Valor                                                      86224.1\n",
              "  Name: i30, dtype: object),\n",
              " ('X6', Motor                                              Motor Diesel V6\n",
              "  Ano                                                           1990\n",
              "  Quilometragem                                                55289\n",
              "  Zero_km                                                      False\n",
              "  Acessórios       ['Câmera de estacionamento', 'Travas elétricas...\n",
              "  Valor                                                       103596\n",
              "  Name: X6, dtype: object),\n",
              " ('Voyage', Motor                                        Motor 5.0 V8 Bi-Turbo\n",
              "  Ano                                                           2019\n",
              "  Quilometragem                                                  NaN\n",
              "  Zero_km                                                       True\n",
              "  Acessórios       ['Ar condicionado', 'Sensor de estacionamento'...\n",
              "  Valor                                                       148996\n",
              "  Name: Voyage, dtype: object),\n",
              " ('Phantom I Phantom II',\n",
              "  Motor                                                Motor 1.8 16v\n",
              "  Ano                                                           2019\n",
              "  Quilometragem                                                  NaN\n",
              "  Zero_km                                                       True\n",
              "  Acessórios       ['Piloto automático', 'Freios ABS', 'Painel di...\n",
              "  Valor                                                        60948\n",
              "  Name: Phantom I Phantom II, dtype: object),\n",
              " ('Passat Variant',\n",
              "  Motor                                                 Motor 1.0 8v\n",
              "  Ano                                                           1991\n",
              "  Quilometragem                                               115930\n",
              "  Zero_km                                                      False\n",
              "  Acessórios       ['Freios ABS', 'Rodas de liga', 'Piloto automá...\n",
              "  Valor                                                      69535.4\n",
              "  Name: Passat Variant, dtype: object),\n",
              " ('Clio', Motor                                                 Motor Diesel\n",
              "  Ano                                                           1990\n",
              "  Quilometragem                                                66437\n",
              "  Zero_km                                                      False\n",
              "  Acessórios       ['4 X 4', 'Câmbio automático', 'Freios ABS', '...\n",
              "  Valor                                                       111130\n",
              "  Name: Clio, dtype: object),\n",
              " ('Classe G',\n",
              "  Motor                                              Motor Diesel V6\n",
              "  Ano                                                           2012\n",
              "  Quilometragem                                                96800\n",
              "  Zero_km                                                      False\n",
              "  Acessórios       ['Controle de estabilidade', 'Central multimíd...\n",
              "  Valor                                                      65847.7\n",
              "  Name: Classe G, dtype: object),\n",
              " ('Silver Ghost',\n",
              "  Motor                                                Motor 1.8 16v\n",
              "  Ano                                                           2007\n",
              "  Quilometragem                                                14237\n",
              "  Zero_km                                                      False\n",
              "  Acessórios       ['Travas elétricas', 'Painel digital', 'Câmera...\n",
              "  Valor                                                      78096.1\n",
              "  Name: Silver Ghost, dtype: object),\n",
              " ('Série 3 M3 Coupé',\n",
              "  Motor                                                 Motor Diesel\n",
              "  Ano                                                           2013\n",
              "  Quilometragem                                                19896\n",
              "  Zero_km                                                      False\n",
              "  Acessórios       ['Bancos de couro', 'Sensor de chuva', 'Ar con...\n",
              "  Valor                                                      69219.9\n",
              "  Name: Série 3 M3 Coupé, dtype: object),\n",
              " ('Gallardo LP 560 – 4',\n",
              "  Motor                                                 Motor Diesel\n",
              "  Ano                                                           2000\n",
              "  Quilometragem                                               113045\n",
              "  Zero_km                                                      False\n",
              "  Acessórios       ['Freios ABS', 'Teto panorâmico', 'Central mul...\n",
              "  Valor                                                       144119\n",
              "  Name: Gallardo LP 560 – 4, dtype: object),\n",
              " ('Freelander 2',\n",
              "  Motor                                              Motor Diesel V6\n",
              "  Ano                                                           2002\n",
              "  Quilometragem                                               114942\n",
              "  Zero_km                                                      False\n",
              "  Acessórios       ['4 X 4', 'Câmera de estacionamento', 'Sensor ...\n",
              "  Valor                                                      77397.1\n",
              "  Name: Freelander 2, dtype: object),\n",
              " ('Grand Cherokee',\n",
              "  Motor                                        Motor 5.0 V8 Bi-Turbo\n",
              "  Ano                                                           1996\n",
              "  Quilometragem                                                 3173\n",
              "  Zero_km                                                      False\n",
              "  Acessórios       ['Câmbio automático', 'Travas elétricas', 'Sen...\n",
              "  Valor                                                      68974.2\n",
              "  Name: Grand Cherokee, dtype: object),\n",
              " ('Aston Martin DBR9',\n",
              "  Motor                                              Motor 4.0 Turbo\n",
              "  Ano                                                           1996\n",
              "  Quilometragem                                                83611\n",
              "  Zero_km                                                      False\n",
              "  Acessórios       ['Controle de estabilidade', 'Sensor de estaci...\n",
              "  Valor                                                       125231\n",
              "  Name: Aston Martin DBR9, dtype: object),\n",
              " ('Soul', Motor                                        Motor 5.0 V8 Bi-Turbo\n",
              "  Ano                                                           2015\n",
              "  Quilometragem                                                25356\n",
              "  Zero_km                                                      False\n",
              "  Acessórios       ['Sensor crepuscular', 'Piloto automático', 'S...\n",
              "  Valor                                                      85501.1\n",
              "  Name: Soul, dtype: object),\n",
              " ('Cadillac BLS',\n",
              "  Motor                                                     Motor V8\n",
              "  Ano                                                           1993\n",
              "  Quilometragem                                                88634\n",
              "  Zero_km                                                      False\n",
              "  Acessórios       ['Teto panorâmico', 'Controle de estabilidade'...\n",
              "  Valor                                                       137116\n",
              "  Name: Cadillac BLS, dtype: object),\n",
              " ('RX 350', Motor                                                     Motor V6\n",
              "  Ano                                                           2013\n",
              "  Quilometragem                                                 2314\n",
              "  Zero_km                                                      False\n",
              "  Acessórios       ['Piloto automático', 'Sensor crepuscular', 'A...\n",
              "  Valor                                                       138824\n",
              "  Name: RX 350, dtype: object),\n",
              " ('Cayman', Motor                                                Motor 3.0 32v\n",
              "  Ano                                                           2013\n",
              "  Quilometragem                                                 2627\n",
              "  Zero_km                                                      False\n",
              "  Acessórios       ['Central multimídia', 'Painel digital', 'Sens...\n",
              "  Valor                                                       117962\n",
              "  Name: Cayman, dtype: object),\n",
              " ('Chana Utility',\n",
              "  Motor                                                 Motor Diesel\n",
              "  Ano                                                           2009\n",
              "  Quilometragem                                                52034\n",
              "  Zero_km                                                      False\n",
              "  Acessórios       ['Ar condicionado', 'Sensor de estacionamento'...\n",
              "  Valor                                                       132662\n",
              "  Name: Chana Utility, dtype: object),\n",
              " ('308 CC', Motor                                              Motor 4.0 Turbo\n",
              "  Ano                                                           2019\n",
              "  Quilometragem                                                  NaN\n",
              "  Zero_km                                                       True\n",
              "  Acessórios       ['Câmera de estacionamento', 'Bancos de couro'...\n",
              "  Valor                                                       146406\n",
              "  Name: 308 CC, dtype: object),\n",
              " ('L200 Triton',\n",
              "  Motor                                              Motor Diesel V8\n",
              "  Ano                                                           2019\n",
              "  Quilometragem                                                  NaN\n",
              "  Zero_km                                                       True\n",
              "  Acessórios       ['Vidros elétricos', 'Ar condicionado', 'Paine...\n",
              "  Valor                                                      81999.2\n",
              "  Name: L200 Triton, dtype: object),\n",
              " ('Jetta', Motor                                        Motor 5.0 V8 Bi-Turbo\n",
              "  Ano                                                           2002\n",
              "  Quilometragem                                                79577\n",
              "  Zero_km                                                      False\n",
              "  Acessórios       ['Central multimídia', 'Vidros elétricos', 'Câ...\n",
              "  Valor                                                       140935\n",
              "  Name: Jetta, dtype: object),\n",
              " ('C4 Lounge',\n",
              "  Motor                                                     Motor V8\n",
              "  Ano                                                           1997\n",
              "  Quilometragem                                               108201\n",
              "  Zero_km                                                      False\n",
              "  Acessórios       ['Central multimídia', 'Controle de tração', '...\n",
              "  Valor                                                      82366.8\n",
              "  Name: C4 Lounge, dtype: object),\n",
              " ('C4 Pallas',\n",
              "  Motor                                                 Motor 1.0 8v\n",
              "  Ano                                                           1998\n",
              "  Quilometragem                                                76453\n",
              "  Zero_km                                                      False\n",
              "  Acessórios       ['4 X 4', 'Freios ABS', 'Sensor de chuva', 'Ro...\n",
              "  Valor                                                      70424.1\n",
              "  Name: C4 Pallas, dtype: object),\n",
              " ('Equus', Motor                                                Motor 3.0 32v\n",
              "  Ano                                                           2004\n",
              "  Quilometragem                                                57683\n",
              "  Zero_km                                                      False\n",
              "  Acessórios       ['Travas elétricas', 'Rodas de liga', '4 X 4',...\n",
              "  Valor                                                      53620.3\n",
              "  Name: Equus, dtype: object),\n",
              " ('Classe GL',\n",
              "  Motor                                                Motor 3.0 32v\n",
              "  Ano                                                           1996\n",
              "  Quilometragem                                                96610\n",
              "  Zero_km                                                      False\n",
              "  Acessórios       ['Freios ABS', 'Câmera de estacionamento', 'Tr...\n",
              "  Valor                                                      73389.2\n",
              "  Name: Classe GL, dtype: object),\n",
              " ('Range Rover Evoque',\n",
              "  Motor                                                Motor 2.0 16v\n",
              "  Ano                                                           2015\n",
              "  Quilometragem                                               109001\n",
              "  Zero_km                                                      False\n",
              "  Acessórios       ['Rodas de liga', 'Teto panorâmico', 'Sensor d...\n",
              "  Valor                                                       111618\n",
              "  Name: Range Rover Evoque, dtype: object),\n",
              " ('Cherokee',\n",
              "  Motor                                              Motor 4.0 Turbo\n",
              "  Ano                                                           2016\n",
              "  Quilometragem                                                26212\n",
              "  Zero_km                                                      False\n",
              "  Acessórios       ['Painel digital', 'Travas elétricas', 'Rodas ...\n",
              "  Valor                                                       112187\n",
              "  Name: Cherokee, dtype: object),\n",
              " ('Punto', Motor                                              Motor 4.0 Turbo\n",
              "  Ano                                                           2005\n",
              "  Quilometragem                                                45971\n",
              "  Zero_km                                                      False\n",
              "  Acessórios       ['Central multimídia', 'Câmbio automático', 'P...\n",
              "  Valor                                                       120813\n",
              "  Name: Punto, dtype: object),\n",
              " ('Grand Tour',\n",
              "  Motor                                                Motor 3.0 32v\n",
              "  Ano                                                           1999\n",
              "  Quilometragem                                                49182\n",
              "  Zero_km                                                      False\n",
              "  Acessórios       ['Rodas de liga', 'Travas elétricas', 'Bancos ...\n",
              "  Valor                                                       116031\n",
              "  Name: Grand Tour, dtype: object),\n",
              " ('Fluence', Motor                                              Motor Diesel V6\n",
              "  Ano                                                           1995\n",
              "  Quilometragem                                                49907\n",
              "  Zero_km                                                      False\n",
              "  Acessórios       ['Sensor crepuscular', 'Teto panorâmico', 'Câm...\n",
              "  Valor                                                       125398\n",
              "  Name: Fluence, dtype: object),\n",
              " ('Effa Hafei Picape Cabine Simples',\n",
              "  Motor                                                 Motor 1.0 8v\n",
              "  Ano                                                           1993\n",
              "  Quilometragem                                                38620\n",
              "  Zero_km                                                      False\n",
              "  Acessórios       ['Piloto automático', 'Ar condicionado', 'Cent...\n",
              "  Valor                                                      76101.5\n",
              "  Name: Effa Hafei Picape Cabine Simples, dtype: object),\n",
              " ('Durango', Motor                                                Motor 2.0 16v\n",
              "  Ano                                                           2004\n",
              "  Quilometragem                                                60996\n",
              "  Zero_km                                                      False\n",
              "  Acessórios       ['Bancos de couro', 'Painel digital', 'Câmbio ...\n",
              "  Valor                                                      75263.2\n",
              "  Name: Durango, dtype: object),\n",
              " ('Boxster', Motor                                              Motor Diesel V8\n",
              "  Ano                                                           2013\n",
              "  Quilometragem                                                73914\n",
              "  Zero_km                                                      False\n",
              "  Acessórios       ['Teto panorâmico', 'Sensor crepuscular', 'Ban...\n",
              "  Valor                                                       147388\n",
              "  Name: Boxster, dtype: object),\n",
              " ('TT Roadster',\n",
              "  Motor                                                 Motor Diesel\n",
              "  Ano                                                           1998\n",
              "  Quilometragem                                               107392\n",
              "  Zero_km                                                      False\n",
              "  Acessórios       ['Ar condicionado', 'Sensor de estacionamento'...\n",
              "  Valor                                                      85311.4\n",
              "  Name: TT Roadster, dtype: object),\n",
              " ('Lamborghini Jalpa',\n",
              "  Motor                                                Motor 1.8 16v\n",
              "  Ano                                                           2018\n",
              "  Quilometragem                                                 9146\n",
              "  Zero_km                                                      False\n",
              "  Acessórios       ['Piloto automático', 'Freios ABS', 'Sensor de...\n",
              "  Valor                                                      54388.1\n",
              "  Name: Lamborghini Jalpa, dtype: object),\n",
              " ('Classe SLK',\n",
              "  Motor                                              Motor 4.0 Turbo\n",
              "  Ano                                                           2019\n",
              "  Quilometragem                                                  NaN\n",
              "  Zero_km                                                       True\n",
              "  Acessórios       ['4 X 4', 'Sensor de estacionamento', 'Control...\n",
              "  Valor                                                       124157\n",
              "  Name: Classe SLK, dtype: object),\n",
              " ('Golf', Motor                                                 Motor 1.0 8v\n",
              "  Ano                                                           2018\n",
              "  Quilometragem                                                17924\n",
              "  Zero_km                                                      False\n",
              "  Acessórios       ['Rodas de liga', 'Controle de tração', 'Senso...\n",
              "  Valor                                                       146203\n",
              "  Name: Golf, dtype: object),\n",
              " ('C3 Picasso',\n",
              "  Motor                                                Motor 3.0 32v\n",
              "  Ano                                                           2019\n",
              "  Quilometragem                                                  NaN\n",
              "  Zero_km                                                       True\n",
              "  Acessórios       ['Teto panorâmico', 'Sensor crepuscular', 'Sen...\n",
              "  Valor                                                      56453.9\n",
              "  Name: C3 Picasso, dtype: object),\n",
              " ('V50', Motor                                                Motor 2.0 16v\n",
              "  Ano                                                           1990\n",
              "  Quilometragem                                               116949\n",
              "  Zero_km                                                      False\n",
              "  Acessórios       ['Teto panorâmico', 'Câmera de estacionamento'...\n",
              "  Valor                                                      68873.8\n",
              "  Name: V50, dtype: object),\n",
              " ('Picanto', Motor                                              Motor 4.0 Turbo\n",
              "  Ano                                                           2009\n",
              "  Quilometragem                                                20476\n",
              "  Zero_km                                                      False\n",
              "  Acessórios       ['Painel digital', 'Controle de estabilidade',...\n",
              "  Valor                                                      91667.6\n",
              "  Name: Picanto, dtype: object),\n",
              " ('Cadenza', Motor                                              Motor Diesel V6\n",
              "  Ano                                                           1990\n",
              "  Quilometragem                                                52804\n",
              "  Zero_km                                                      False\n",
              "  Acessórios       ['Sensor crepuscular', 'Controle de estabilida...\n",
              "  Valor                                                      93776.5\n",
              "  Name: Cadenza, dtype: object),\n",
              " ('Etios Sedã',\n",
              "  Motor                                        Motor 5.0 V8 Bi-Turbo\n",
              "  Ano                                                           2006\n",
              "  Quilometragem                                                 8849\n",
              "  Zero_km                                                      False\n",
              "  Acessórios       ['Ar condicionado', 'Vidros elétricos', 'Senso...\n",
              "  Valor                                                      66433.8\n",
              "  Name: Etios Sedã, dtype: object),\n",
              " ('Alsvin', Motor                                              Motor Diesel V8\n",
              "  Ano                                                           2002\n",
              "  Quilometragem                                                91724\n",
              "  Zero_km                                                      False\n",
              "  Acessórios       ['Central multimídia', 'Controle de estabilida...\n",
              "  Valor                                                       109059\n",
              "  Name: Alsvin, dtype: object),\n",
              " ('Cadillac ATS',\n",
              "  Motor                                              Motor Diesel V6\n",
              "  Ano                                                           1991\n",
              "  Quilometragem                                                32056\n",
              "  Zero_km                                                      False\n",
              "  Acessórios       ['Piloto automático', 'Rodas de liga', '4 X 4'...\n",
              "  Valor                                                       122070\n",
              "  Name: Cadillac ATS, dtype: object),\n",
              " ('Série 3 M3 Sedã',\n",
              "  Motor                                              Motor Diesel V6\n",
              "  Ano                                                           1992\n",
              "  Quilometragem                                                74886\n",
              "  Zero_km                                                      False\n",
              "  Acessórios       ['Painel digital', 'Freios ABS', 'Ar condicion...\n",
              "  Valor                                                       113090\n",
              "  Name: Série 3 M3 Sedã, dtype: object),\n",
              " ('Classe S',\n",
              "  Motor                                                Motor 3.0 32v\n",
              "  Ano                                                           2019\n",
              "  Quilometragem                                                  NaN\n",
              "  Zero_km                                                       True\n",
              "  Acessórios       ['Controle de tração', 'Teto panorâmico', 'Câm...\n",
              "  Valor                                                      89401.1\n",
              "  Name: Classe S, dtype: object),\n",
              " ('T6', Motor                                                Motor 3.0 32v\n",
              "  Ano                                                           2019\n",
              "  Quilometragem                                                  NaN\n",
              "  Zero_km                                                       True\n",
              "  Acessórios       ['Sensor de chuva', 'Câmera de estacionamento'...\n",
              "  Valor                                                      56842.8\n",
              "  Name: T6, dtype: object),\n",
              " ('Aston Martin DB7',\n",
              "  Motor                                              Motor Diesel V8\n",
              "  Ano                                                           2005\n",
              "  Quilometragem                                                52189\n",
              "  Zero_km                                                      False\n",
              "  Acessórios       ['Travas elétricas', 'Painel digital', 'Sensor...\n",
              "  Valor                                                       146677\n",
              "  Name: Aston Martin DB7, dtype: object),\n",
              " ('207 Sedan',\n",
              "  Motor                                              Motor 4.0 Turbo\n",
              "  Ano                                                           2010\n",
              "  Quilometragem                                                83559\n",
              "  Zero_km                                                      False\n",
              "  Acessórios       ['Controle de tração', 'Central multimídia', '...\n",
              "  Valor                                                        89512\n",
              "  Name: 207 Sedan, dtype: object),\n",
              " ('Aston Martin Virage',\n",
              "  Motor                                                 Motor Diesel\n",
              "  Ano                                                           2019\n",
              "  Quilometragem                                                  NaN\n",
              "  Zero_km                                                       True\n",
              "  Acessórios       ['Travas elétricas', 'Controle de tração', 'Câ...\n",
              "  Valor                                                      97290.2\n",
              "  Name: Aston Martin Virage, dtype: object),\n",
              " ('Azera', Motor                                                Motor 1.8 16v\n",
              "  Ano                                                           2016\n",
              "  Quilometragem                                                20328\n",
              "  Zero_km                                                      False\n",
              "  Acessórios       ['Bancos de couro', 'Controle de tração', 'Ar ...\n",
              "  Valor                                                       120674\n",
              "  Name: Azera, dtype: object),\n",
              " ('Vantage Volante',\n",
              "  Motor                                              Motor Diesel V8\n",
              "  Ano                                                           2019\n",
              "  Quilometragem                                                  NaN\n",
              "  Zero_km                                                       True\n",
              "  Acessórios       ['Freios ABS', 'Controle de tração', 'Central ...\n",
              "  Valor                                                       114435\n",
              "  Name: Vantage Volante, dtype: object),\n",
              " ('Siena EL',\n",
              "  Motor                                                     Motor V8\n",
              "  Ano                                                           2010\n",
              "  Quilometragem                                                75577\n",
              "  Zero_km                                                      False\n",
              "  Acessórios       ['Freios ABS', 'Sensor crepuscular', 'Controle...\n",
              "  Valor                                                       139547\n",
              "  Name: Siena EL, dtype: object),\n",
              " ('Palio Adventure',\n",
              "  Motor                                              Motor Diesel V8\n",
              "  Ano                                                           1994\n",
              "  Quilometragem                                                33659\n",
              "  Zero_km                                                      False\n",
              "  Acessórios       ['Teto panorâmico', 'Central multimídia', 'Pil...\n",
              "  Valor                                                      95078.2\n",
              "  Name: Palio Adventure, dtype: object),\n",
              " ('HB20X', Motor                                                     Motor V8\n",
              "  Ano                                                           2001\n",
              "  Quilometragem                                               104341\n",
              "  Zero_km                                                      False\n",
              "  Acessórios       ['Sensor crepuscular', 'Teto panorâmico', 'Pai...\n",
              "  Valor                                                      68091.8\n",
              "  Name: HB20X, dtype: object),\n",
              " ('HR', Motor                                        Motor 5.0 V8 Bi-Turbo\n",
              "  Ano                                                           2014\n",
              "  Quilometragem                                                25510\n",
              "  Zero_km                                                      False\n",
              "  Acessórios       ['Controle de tração', 'Câmbio automático', '4...\n",
              "  Valor                                                        61497\n",
              "  Name: HR, dtype: object),\n",
              " ('Cadillac STS V-Series',\n",
              "  Motor                                                Motor 2.0 16v\n",
              "  Ano                                                           1996\n",
              "  Quilometragem                                                18965\n",
              "  Zero_km                                                      False\n",
              "  Acessórios       ['Vidros elétricos', 'Piloto automático', 'Câm...\n",
              "  Valor                                                       139669\n",
              "  Name: Cadillac STS V-Series, dtype: object),\n",
              " ('Série 1 Coupé',\n",
              "  Motor                                                 Motor 1.0 8v\n",
              "  Ano                                                           1993\n",
              "  Quilometragem                                                87161\n",
              "  Zero_km                                                      False\n",
              "  Acessórios       ['Controle de estabilidade', 'Teto panorâmico'...\n",
              "  Valor                                                      80661.4\n",
              "  Name: Série 1 Coupé, dtype: object),\n",
              " ('SpaceFox',\n",
              "  Motor                                                     Motor V8\n",
              "  Ano                                                           1993\n",
              "  Quilometragem                                                 6652\n",
              "  Zero_km                                                      False\n",
              "  Acessórios       ['Sensor crepuscular', '4 X 4', 'Painel digita...\n",
              "  Valor                                                      61783.7\n",
              "  Name: SpaceFox, dtype: object),\n",
              " ('C30', Motor                                                 Motor 1.0 8v\n",
              "  Ano                                                           2001\n",
              "  Quilometragem                                                55738\n",
              "  Zero_km                                                      False\n",
              "  Acessórios       ['Teto panorâmico', 'Freios ABS', 'Sensor crep...\n",
              "  Valor                                                      52805.9\n",
              "  Name: C30, dtype: object),\n",
              " ('J3 Turin',\n",
              "  Motor                                                     Motor V6\n",
              "  Ano                                                           2019\n",
              "  Quilometragem                                                  NaN\n",
              "  Zero_km                                                       True\n",
              "  Acessórios       ['Sensor crepuscular', 'Câmera de estacionamen...\n",
              "  Valor                                                       127025\n",
              "  Name: J3 Turin, dtype: object),\n",
              " ('Classe B',\n",
              "  Motor                                              Motor Diesel V8\n",
              "  Ano                                                           2019\n",
              "  Quilometragem                                                  NaN\n",
              "  Zero_km                                                       True\n",
              "  Acessórios       ['4 X 4', 'Bancos de couro', 'Sensor crepuscul...\n",
              "  Valor                                                       135543\n",
              "  Name: Classe B, dtype: object),\n",
              " ('Parati', Motor                                              Motor Diesel V8\n",
              "  Ano                                                           2019\n",
              "  Quilometragem                                                  NaN\n",
              "  Zero_km                                                       True\n",
              "  Acessórios       ['Sensor de estacionamento', 'Piloto automátic...\n",
              "  Valor                                                       121709\n",
              "  Name: Parati, dtype: object),\n",
              " ('Cadillac CTS V-Series',\n",
              "  Motor                                              Motor 4.0 Turbo\n",
              "  Ano                                                           2007\n",
              "  Quilometragem                                                64320\n",
              "  Zero_km                                                      False\n",
              "  Acessórios       ['Piloto automático', 'Ar condicionado', 'Cent...\n",
              "  Valor                                                       107343\n",
              "  Name: Cadillac CTS V-Series, dtype: object),\n",
              " ('Sedan', Motor                                                     Motor V8\n",
              "  Ano                                                           2019\n",
              "  Quilometragem                                                  NaN\n",
              "  Zero_km                                                       True\n",
              "  Acessórios       ['Bancos de couro', 'Central multimídia', 'Fre...\n",
              "  Valor                                                      57888.1\n",
              "  Name: Sedan, dtype: object),\n",
              " ('Classe CLS 63 AMG',\n",
              "  Motor                                              Motor Diesel V6\n",
              "  Ano                                                           2016\n",
              "  Quilometragem                                                68678\n",
              "  Zero_km                                                      False\n",
              "  Acessórios       ['Freios ABS', 'Vidros elétricos', 'Câmbio aut...\n",
              "  Valor                                                       118161\n",
              "  Name: Classe CLS 63 AMG, dtype: object),\n",
              " ('Aircross',\n",
              "  Motor                                                 Motor 1.0 8v\n",
              "  Ano                                                           2014\n",
              "  Quilometragem                                                71697\n",
              "  Zero_km                                                      False\n",
              "  Acessórios       ['Controle de tração', 'Piloto automático', 'C...\n",
              "  Valor                                                       142499\n",
              "  Name: Aircross, dtype: object),\n",
              " ('Aston Martin V12 Vantage',\n",
              "  Motor                                                     Motor V8\n",
              "  Ano                                                           2019\n",
              "  Quilometragem                                                  NaN\n",
              "  Zero_km                                                       True\n",
              "  Acessórios       ['Bancos de couro', 'Central multimídia', 'Con...\n",
              "  Valor                                                       128396\n",
              "  Name: Aston Martin V12 Vantage, dtype: object),\n",
              " ('Sandero', Motor                                                 Motor Diesel\n",
              "  Ano                                                           2015\n",
              "  Quilometragem                                                34783\n",
              "  Zero_km                                                      False\n",
              "  Acessórios       ['Piloto automático', 'Teto panorâmico', 'Câmb...\n",
              "  Valor                                                       112351\n",
              "  Name: Sandero, dtype: object),\n",
              " ('New Fiesta',\n",
              "  Motor                                        Motor 5.0 V8 Bi-Turbo\n",
              "  Ano                                                           2015\n",
              "  Quilometragem                                                33772\n",
              "  Zero_km                                                      False\n",
              "  Acessórios       ['Controle de tração', 'Travas elétricas', '4 ...\n",
              "  Valor                                                       124661\n",
              "  Name: New Fiesta, dtype: object),\n",
              " ('XKR', Motor                                                 Motor Diesel\n",
              "  Ano                                                           1996\n",
              "  Quilometragem                                                85127\n",
              "  Zero_km                                                      False\n",
              "  Acessórios       ['Controle de tração', 'Ar condicionado', 'Tra...\n",
              "  Valor                                                      54263.2\n",
              "  Name: XKR, dtype: object),\n",
              " ('X5', Motor                                                 Motor Diesel\n",
              "  Ano                                                           2002\n",
              "  Quilometragem                                                13606\n",
              "  Zero_km                                                      False\n",
              "  Acessórios       ['Controle de tração', 'Piloto automático', 'T...\n",
              "  Valor                                                      62041.3\n",
              "  Name: X5, dtype: object),\n",
              " ('Cadillac DTS',\n",
              "  Motor                                                Motor 1.8 16v\n",
              "  Ano                                                           2005\n",
              "  Quilometragem                                                35647\n",
              "  Zero_km                                                      False\n",
              "  Acessórios       ['Central multimídia', 'Rodas de liga', 'Câmbi...\n",
              "  Valor                                                       129296\n",
              "  Name: Cadillac DTS, dtype: object),\n",
              " ('Pajero Dakar',\n",
              "  Motor                                              Motor 4.0 Turbo\n",
              "  Ano                                                           1995\n",
              "  Quilometragem                                                95128\n",
              "  Zero_km                                                      False\n",
              "  Acessórios       ['Piloto automático', 'Sensor de chuva', 'Cont...\n",
              "  Valor                                                      60998.3\n",
              "  Name: Pajero Dakar, dtype: object),\n",
              " ('Classe A',\n",
              "  Motor                                                 Motor 1.0 8v\n",
              "  Ano                                                           1999\n",
              "  Quilometragem                                                14046\n",
              "  Zero_km                                                      False\n",
              "  Acessórios       ['Controle de tração', 'Central multimídia', '...\n",
              "  Valor                                                      58008.5\n",
              "  Name: Classe A, dtype: object),\n",
              " ('Ford Focus Fastback',\n",
              "  Motor                                              Motor 4.0 Turbo\n",
              "  Ano                                                           2005\n",
              "  Quilometragem                                                41194\n",
              "  Zero_km                                                      False\n",
              "  Acessórios       ['Bancos de couro', 'Câmera de estacionamento'...\n",
              "  Valor                                                      82304.2\n",
              "  Name: Ford Focus Fastback, dtype: object),\n",
              " ('Partner', Motor                                              Motor 2.4 Turbo\n",
              "  Ano                                                           2019\n",
              "  Quilometragem                                                  NaN\n",
              "  Zero_km                                                       True\n",
              "  Acessórios       ['Central multimídia', 'Controle de tração', '...\n",
              "  Valor                                                       114532\n",
              "  Name: Partner, dtype: object),\n",
              " ('R8', Motor                                                     Motor V6\n",
              "  Ano                                                           1997\n",
              "  Quilometragem                                                96100\n",
              "  Zero_km                                                      False\n",
              "  Acessórios       ['4 X 4', 'Controle de estabilidade', 'Câmera ...\n",
              "  Valor                                                       128566\n",
              "  Name: R8, dtype: object),\n",
              " ('Aston Martin DBS Volante',\n",
              "  Motor                                              Motor 4.0 Turbo\n",
              "  Ano                                                           1990\n",
              "  Quilometragem                                               103900\n",
              "  Zero_km                                                      False\n",
              "  Acessórios       ['Central multimídia', 'Controle de estabilida...\n",
              "  Valor                                                       126488\n",
              "  Name: Aston Martin DBS Volante, dtype: object),\n",
              " ('Mohave', Motor                                              Motor Diesel V6\n",
              "  Ano                                                           2001\n",
              "  Quilometragem                                                43814\n",
              "  Zero_km                                                      False\n",
              "  Acessórios       ['Travas elétricas', 'Central multimídia', 'Pa...\n",
              "  Valor                                                       119075\n",
              "  Name: Mohave, dtype: object),\n",
              " ('Fusca', Motor                                                Motor 3.0 32v\n",
              "  Ano                                                           2013\n",
              "  Quilometragem                                                24638\n",
              "  Zero_km                                                      False\n",
              "  Acessórios       ['Câmbio automático', 'Teto panorâmico', 'Sens...\n",
              "  Valor                                                       130238\n",
              "  Name: Fusca, dtype: object),\n",
              " ('Chana Family',\n",
              "  Motor                                                     Motor V8\n",
              "  Ano                                                           2019\n",
              "  Quilometragem                                                  NaN\n",
              "  Zero_km                                                       True\n",
              "  Acessórios       ['Piloto automático', 'Teto panorâmico', 'Sens...\n",
              "  Valor                                                       115760\n",
              "  Name: Chana Family, dtype: object),\n",
              " ('XC40', Motor                                              Motor 2.4 Turbo\n",
              "  Ano                                                           2017\n",
              "  Quilometragem                                               110966\n",
              "  Zero_km                                                      False\n",
              "  Acessórios       ['Sensor de chuva', 'Central multimídia', 'Vid...\n",
              "  Valor                                                       121248\n",
              "  Name: XC40, dtype: object),\n",
              " ('Phantom I Jonckheere Aerodynamic Coupe',\n",
              "  Motor                                                Motor 1.8 16v\n",
              "  Ano                                                           2011\n",
              "  Quilometragem                                                15987\n",
              "  Zero_km                                                      False\n",
              "  Acessórios       ['Sensor crepuscular', 'Travas elétricas', 'Pi...\n",
              "  Valor                                                      98156.4\n",
              "  Name: Phantom I Jonckheere Aerodynamic Coupe, dtype: object),\n",
              " ('Boxer', Motor                                                     Motor V6\n",
              "  Ano                                                           2005\n",
              "  Quilometragem                                                53369\n",
              "  Zero_km                                                      False\n",
              "  Acessórios       ['Travas elétricas', 'Piloto automático', 'Vid...\n",
              "  Valor                                                       112147\n",
              "  Name: Boxer, dtype: object),\n",
              " ('Chana Cargo',\n",
              "  Motor                                                Motor 2.0 16v\n",
              "  Ano                                                           2007\n",
              "  Quilometragem                                                10077\n",
              "  Zero_km                                                      False\n",
              "  Acessórios       ['Teto panorâmico', '4 X 4', 'Central multimíd...\n",
              "  Valor                                                       102730\n",
              "  Name: Chana Cargo, dtype: object),\n",
              " ('Dodge Dakota',\n",
              "  Motor                                                 Motor Diesel\n",
              "  Ano                                                           1993\n",
              "  Quilometragem                                                71544\n",
              "  Zero_km                                                      False\n",
              "  Acessórios       ['Controle de tração', 'Sensor de estacionamen...\n",
              "  Valor                                                       141083\n",
              "  Name: Dodge Dakota, dtype: object),\n",
              " ('X1', Motor                                              Motor Diesel V8\n",
              "  Ano                                                           1991\n",
              "  Quilometragem                                                  107\n",
              "  Zero_km                                                      False\n",
              "  Acessórios       ['4 X 4', 'Teto panorâmico', 'Ar condicionado'...\n",
              "  Valor                                                       102969\n",
              "  Name: X1, dtype: object),\n",
              " ('GLA', Motor                                                 Motor 1.0 8v\n",
              "  Ano                                                           1991\n",
              "  Quilometragem                                                 8394\n",
              "  Zero_km                                                      False\n",
              "  Acessórios       ['Sensor de chuva', 'Câmera de estacionamento'...\n",
              "  Valor                                                        76310\n",
              "  Name: GLA, dtype: object),\n",
              " ('Range Rover Sport',\n",
              "  Motor                                                 Motor 1.0 8v\n",
              "  Ano                                                           1997\n",
              "  Quilometragem                                                41498\n",
              "  Zero_km                                                      False\n",
              "  Acessórios       ['Sensor de estacionamento', 'Câmera de estaci...\n",
              "  Valor                                                       120482\n",
              "  Name: Range Rover Sport, dtype: object),\n",
              " ('DS3', Motor                                                Motor 1.8 16v\n",
              "  Ano                                                           2000\n",
              "  Quilometragem                                               116002\n",
              "  Zero_km                                                      False\n",
              "  Acessórios       ['Controle de estabilidade', 'Ar condicionado'...\n",
              "  Valor                                                      54559.2\n",
              "  Name: DS3, dtype: object),\n",
              " ('Veracruz',\n",
              "  Motor                                              Motor Diesel V8\n",
              "  Ano                                                           2007\n",
              "  Quilometragem                                               100858\n",
              "  Zero_km                                                      False\n",
              "  Acessórios       ['Controle de estabilidade', 'Câmera de estaci...\n",
              "  Valor                                                      92957.6\n",
              "  Name: Veracruz, dtype: object),\n",
              " ('Cadillac CTS coupe, sedan, and wagon',\n",
              "  Motor                                                     Motor V8\n",
              "  Ano                                                           2006\n",
              "  Quilometragem                                                67475\n",
              "  Zero_km                                                      False\n",
              "  Acessórios       ['Sensor de chuva', 'Sensor de estacionamento'...\n",
              "  Valor                                                       127810\n",
              "  Name: Cadillac CTS coupe, sedan, and wagon, dtype: object),\n",
              " ('i30 CW', Motor                                                 Motor Diesel\n",
              "  Ano                                                           2015\n",
              "  Quilometragem                                                 8497\n",
              "  Zero_km                                                      False\n",
              "  Acessórios       ['Sensor de chuva', 'Vidros elétricos', 'Contr...\n",
              "  Valor                                                      73311.8\n",
              "  Name: i30 CW, dtype: object),\n",
              " ('Phantom III',\n",
              "  Motor                                              Motor Diesel V6\n",
              "  Ano                                                           2008\n",
              "  Quilometragem                                                 4420\n",
              "  Zero_km                                                      False\n",
              "  Acessórios       ['Vidros elétricos', 'Bancos de couro', 'Pilot...\n",
              "  Valor                                                        65138\n",
              "  Name: Phantom III, dtype: object),\n",
              " ('A3 Sedan',\n",
              "  Motor                                                     Motor V6\n",
              "  Ano                                                           2019\n",
              "  Quilometragem                                                  NaN\n",
              "  Zero_km                                                       True\n",
              "  Acessórios       ['Ar condicionado', 'Sensor de chuva', 'Travas...\n",
              "  Valor                                                      90141.5\n",
              "  Name: A3 Sedan, dtype: object),\n",
              " ('Aston Martin DB9 Volante',\n",
              "  Motor                                                Motor 2.0 16v\n",
              "  Ano                                                           1996\n",
              "  Quilometragem                                                58537\n",
              "  Zero_km                                                      False\n",
              "  Acessórios       ['Central multimídia', 'Bancos de couro', 'Câm...\n",
              "  Valor                                                      71160.4\n",
              "  Name: Aston Martin DB9 Volante, dtype: object),\n",
              " ('Série 7 Sedã',\n",
              "  Motor                                                 Motor Diesel\n",
              "  Ano                                                           2019\n",
              "  Quilometragem                                                  NaN\n",
              "  Zero_km                                                       True\n",
              "  Acessórios       ['Vidros elétricos', 'Travas elétricas', 'Roda...\n",
              "  Valor                                                      67539.8\n",
              "  Name: Série 7 Sedã, dtype: object),\n",
              " ('Lamborghini Reventón',\n",
              "  Motor                                              Motor 4.0 Turbo\n",
              "  Ano                                                           2019\n",
              "  Quilometragem                                                  NaN\n",
              "  Zero_km                                                       True\n",
              "  Acessórios       ['Controle de tração', 'Ar condicionado', 'Cen...\n",
              "  Valor                                                      67664.9\n",
              "  Name: Lamborghini Reventón, dtype: object),\n",
              " ('Grand Livina',\n",
              "  Motor                                                Motor 2.0 16v\n",
              "  Ano                                                           2014\n",
              "  Quilometragem                                               112016\n",
              "  Zero_km                                                      False\n",
              "  Acessórios       ['Controle de tração', 'Teto panorâmico', 'Vid...\n",
              "  Valor                                                      68652.2\n",
              "  Name: Grand Livina, dtype: object),\n",
              " ('V60', Motor                                                 Motor Diesel\n",
              "  Ano                                                           2004\n",
              "  Quilometragem                                                91840\n",
              "  Zero_km                                                      False\n",
              "  Acessórios       ['Rodas de liga', 'Sensor crepuscular', 'Ar co...\n",
              "  Valor                                                       114729\n",
              "  Name: V60, dtype: object),\n",
              " ('Effa Hafei Picape Cabine Dupla',\n",
              "  Motor                                                     Motor V6\n",
              "  Ano                                                           2008\n",
              "  Quilometragem                                               112787\n",
              "  Zero_km                                                      False\n",
              "  Acessórios       ['Sensor crepuscular', 'Controle de tração', '...\n",
              "  Valor                                                       141645\n",
              "  Name: Effa Hafei Picape Cabine Dupla, dtype: object),\n",
              " ('Benni Mini',\n",
              "  Motor                                                     Motor V8\n",
              "  Ano                                                           2019\n",
              "  Quilometragem                                                  NaN\n",
              "  Zero_km                                                       True\n",
              "  Acessórios       ['Sensor crepuscular', 'Câmbio automático', 'C...\n",
              "  Valor                                                       126248\n",
              "  Name: Benni Mini, dtype: object),\n",
              " ('Uno', Motor                                              Motor Diesel V6\n",
              "  Ano                                                           2019\n",
              "  Quilometragem                                                  NaN\n",
              "  Zero_km                                                       True\n",
              "  Acessórios       ['Central multimídia', 'Sensor crepuscular', '...\n",
              "  Valor                                                       128852\n",
              "  Name: Uno, dtype: object),\n",
              " ('L200 Savana',\n",
              "  Motor                                                Motor 2.0 16v\n",
              "  Ano                                                           2012\n",
              "  Quilometragem                                                 9293\n",
              "  Zero_km                                                      False\n",
              "  Acessórios       ['Sensor de chuva', 'Vidros elétricos', 'Paine...\n",
              "  Valor                                                       132385\n",
              "  Name: L200 Savana, dtype: object),\n",
              " ('Santa Fe',\n",
              "  Motor                                                Motor 3.0 32v\n",
              "  Ano                                                           2019\n",
              "  Quilometragem                                                  NaN\n",
              "  Zero_km                                                       True\n",
              "  Acessórios       ['Travas elétricas', 'Ar condicionado', '4 X 4...\n",
              "  Valor                                                       129415\n",
              "  Name: Santa Fe, dtype: object),\n",
              " ('RS5', Motor                                                     Motor V6\n",
              "  Ano                                                           1996\n",
              "  Quilometragem                                                55083\n",
              "  Zero_km                                                      False\n",
              "  Acessórios       ['Painel digital', 'Câmbio automático', 'Vidro...\n",
              "  Valor                                                      89536.8\n",
              "  Name: RS5, dtype: object),\n",
              " ('Cerato', Motor                                                     Motor V6\n",
              "  Ano                                                           2011\n",
              "  Quilometragem                                                48796\n",
              "  Zero_km                                                      False\n",
              "  Acessórios       ['Sensor de estacionamento', 'Câmera de estaci...\n",
              "  Valor                                                      87975.3\n",
              "  Name: Cerato, dtype: object),\n",
              " ('XC60', Motor                                              Motor 4.0 Turbo\n",
              "  Ano                                                           2019\n",
              "  Quilometragem                                                  NaN\n",
              "  Zero_km                                                       True\n",
              "  Acessórios       ['Painel digital', 'Piloto automático', 'Centr...\n",
              "  Valor                                                      77675.8\n",
              "  Name: XC60, dtype: object),\n",
              " ('LS 460L', Motor                                              Motor Diesel V8\n",
              "  Ano                                                           2010\n",
              "  Quilometragem                                                89685\n",
              "  Zero_km                                                      False\n",
              "  Acessórios       ['Rodas de liga', 'Freios ABS', 'Controle de t...\n",
              "  Valor                                                      58881.7\n",
              "  Name: LS 460L, dtype: object),\n",
              " ('Lamborghini Sesto Elemento',\n",
              "  Motor                                                     Motor V8\n",
              "  Ano                                                           2007\n",
              "  Quilometragem                                                85384\n",
              "  Zero_km                                                      False\n",
              "  Acessórios       ['Sensor crepuscular', 'Freios ABS', 'Ar condi...\n",
              "  Valor                                                        55082\n",
              "  Name: Lamborghini Sesto Elemento, dtype: object),\n",
              " ('Lamborghini Huracán',\n",
              "  Motor                                                     Motor V8\n",
              "  Ano                                                           1994\n",
              "  Quilometragem                                                98108\n",
              "  Zero_km                                                      False\n",
              "  Acessórios       ['Sensor de chuva', 'Sensor de estacionamento'...\n",
              "  Valor                                                       118826\n",
              "  Name: Lamborghini Huracán, dtype: object),\n",
              " ('A7', Motor                                                 Motor 1.0 8v\n",
              "  Ano                                                           2007\n",
              "  Quilometragem                                                71280\n",
              "  Zero_km                                                      False\n",
              "  Acessórios       ['Sensor de chuva', 'Vidros elétricos', 'Senso...\n",
              "  Valor                                                       137628\n",
              "  Name: A7, dtype: object),\n",
              " ('Phantom 2013',\n",
              "  Motor                                                     Motor V8\n",
              "  Ano                                                           2014\n",
              "  Quilometragem                                                27505\n",
              "  Zero_km                                                      False\n",
              "  Acessórios       ['Controle de estabilidade', 'Piloto automátic...\n",
              "  Valor                                                      51759.6\n",
              "  Name: Phantom 2013, dtype: object),\n",
              " ('Cadillac Ciel concept',\n",
              "  Motor                                                     Motor V8\n",
              "  Ano                                                           1991\n",
              "  Quilometragem                                                29981\n",
              "  Zero_km                                                      False\n",
              "  Acessórios       ['Bancos de couro', 'Painel digital', 'Sensor ...\n",
              "  Valor                                                      51667.1\n",
              "  Name: Cadillac Ciel concept, dtype: object),\n",
              " ('Classe GLK',\n",
              "  Motor                                        Motor 5.0 V8 Bi-Turbo\n",
              "  Ano                                                           2002\n",
              "  Quilometragem                                                52637\n",
              "  Zero_km                                                      False\n",
              "  Acessórios       ['Rodas de liga', 'Controle de tração', 'Câmbi...\n",
              "  Valor                                                        68934\n",
              "  Name: Classe GLK, dtype: object),\n",
              " ('Aston Martin DB5',\n",
              "  Motor                                                 Motor Diesel\n",
              "  Ano                                                           1996\n",
              "  Quilometragem                                                 7685\n",
              "  Zero_km                                                      False\n",
              "  Acessórios       ['Ar condicionado', '4 X 4', 'Câmbio automátic...\n",
              "  Valor                                                       122111\n",
              "  Name: Aston Martin DB5, dtype: object),\n",
              " ('Macan', Motor                                              Motor Diesel V6\n",
              "  Ano                                                           1992\n",
              "  Quilometragem                                                50188\n",
              "  Zero_km                                                      False\n",
              "  Acessórios       ['Central multimídia', 'Teto panorâmico', 'Vid...\n",
              "  Valor                                                      90381.5\n",
              "  Name: Macan, dtype: object)]"
            ]
          },
          "metadata": {},
          "execution_count": 142
        }
      ]
    },
    {
      "cell_type": "code",
      "metadata": {
        "colab": {
          "base_uri": "https://localhost:8080/",
          "height": 450
        },
        "id": "Lg0v4oNFP96g",
        "outputId": "82af7225-6045-4737-ea75-12ef91226eea"
      },
      "source": [
        "for index, row in dataset.iterrows():\n",
        "  if(2019 - row['Ano'] != 0):\n",
        "    dataset.loc[index, 'Km_media'] = row['Quilometragem'] / (2019 - row['Ano'])\n",
        "  else:\n",
        "    dataset.loc[index, 'Km_media'] = 0\n",
        "\n",
        "dataset"
      ],
      "execution_count": null,
      "outputs": [
        {
          "output_type": "execute_result",
          "data": {
            "text/html": [
              "<div>\n",
              "<style scoped>\n",
              "    .dataframe tbody tr th:only-of-type {\n",
              "        vertical-align: middle;\n",
              "    }\n",
              "\n",
              "    .dataframe tbody tr th {\n",
              "        vertical-align: top;\n",
              "    }\n",
              "\n",
              "    .dataframe thead th {\n",
              "        text-align: right;\n",
              "    }\n",
              "</style>\n",
              "<table border=\"1\" class=\"dataframe\">\n",
              "  <thead>\n",
              "    <tr style=\"text-align: right;\">\n",
              "      <th></th>\n",
              "      <th>Motor</th>\n",
              "      <th>Ano</th>\n",
              "      <th>Quilometragem</th>\n",
              "      <th>Zero_km</th>\n",
              "      <th>Acessórios</th>\n",
              "      <th>Valor</th>\n",
              "      <th>Km_media</th>\n",
              "    </tr>\n",
              "    <tr>\n",
              "      <th>Nome</th>\n",
              "      <th></th>\n",
              "      <th></th>\n",
              "      <th></th>\n",
              "      <th></th>\n",
              "      <th></th>\n",
              "      <th></th>\n",
              "      <th></th>\n",
              "    </tr>\n",
              "  </thead>\n",
              "  <tbody>\n",
              "    <tr>\n",
              "      <th>Jetta Variant</th>\n",
              "      <td>Motor 4.0 Turbo</td>\n",
              "      <td>2003</td>\n",
              "      <td>44410.0</td>\n",
              "      <td>False</td>\n",
              "      <td>['Rodas de liga', 'Travas elétricas', 'Piloto ...</td>\n",
              "      <td>88078.64</td>\n",
              "      <td>2775.625000</td>\n",
              "    </tr>\n",
              "    <tr>\n",
              "      <th>Passat</th>\n",
              "      <td>Motor Diesel</td>\n",
              "      <td>1991</td>\n",
              "      <td>5712.0</td>\n",
              "      <td>False</td>\n",
              "      <td>['Central multimídia', 'Teto panorâmico', 'Fre...</td>\n",
              "      <td>106161.94</td>\n",
              "      <td>204.000000</td>\n",
              "    </tr>\n",
              "    <tr>\n",
              "      <th>Crossfox</th>\n",
              "      <td>Motor Diesel V8</td>\n",
              "      <td>1990</td>\n",
              "      <td>37123.0</td>\n",
              "      <td>False</td>\n",
              "      <td>['Piloto automático', 'Controle de estabilidad...</td>\n",
              "      <td>72832.16</td>\n",
              "      <td>1280.103448</td>\n",
              "    </tr>\n",
              "    <tr>\n",
              "      <th>DS5</th>\n",
              "      <td>Motor 2.4 Turbo</td>\n",
              "      <td>2019</td>\n",
              "      <td>NaN</td>\n",
              "      <td>True</td>\n",
              "      <td>['Travas elétricas', '4 X 4', 'Vidros elétrico...</td>\n",
              "      <td>124549.07</td>\n",
              "      <td>0.000000</td>\n",
              "    </tr>\n",
              "    <tr>\n",
              "      <th>Aston Martin DB4</th>\n",
              "      <td>Motor 2.4 Turbo</td>\n",
              "      <td>2006</td>\n",
              "      <td>25757.0</td>\n",
              "      <td>False</td>\n",
              "      <td>['Rodas de liga', '4 X 4', 'Central multimídia...</td>\n",
              "      <td>92612.10</td>\n",
              "      <td>1981.307692</td>\n",
              "    </tr>\n",
              "    <tr>\n",
              "      <th>...</th>\n",
              "      <td>...</td>\n",
              "      <td>...</td>\n",
              "      <td>...</td>\n",
              "      <td>...</td>\n",
              "      <td>...</td>\n",
              "      <td>...</td>\n",
              "      <td>...</td>\n",
              "    </tr>\n",
              "    <tr>\n",
              "      <th>Phantom 2013</th>\n",
              "      <td>Motor V8</td>\n",
              "      <td>2014</td>\n",
              "      <td>27505.0</td>\n",
              "      <td>False</td>\n",
              "      <td>['Controle de estabilidade', 'Piloto automátic...</td>\n",
              "      <td>51759.58</td>\n",
              "      <td>5501.000000</td>\n",
              "    </tr>\n",
              "    <tr>\n",
              "      <th>Cadillac Ciel concept</th>\n",
              "      <td>Motor V8</td>\n",
              "      <td>1991</td>\n",
              "      <td>29981.0</td>\n",
              "      <td>False</td>\n",
              "      <td>['Bancos de couro', 'Painel digital', 'Sensor ...</td>\n",
              "      <td>51667.06</td>\n",
              "      <td>1070.750000</td>\n",
              "    </tr>\n",
              "    <tr>\n",
              "      <th>Classe GLK</th>\n",
              "      <td>Motor 5.0 V8 Bi-Turbo</td>\n",
              "      <td>2002</td>\n",
              "      <td>52637.0</td>\n",
              "      <td>False</td>\n",
              "      <td>['Rodas de liga', 'Controle de tração', 'Câmbi...</td>\n",
              "      <td>68934.03</td>\n",
              "      <td>3096.294118</td>\n",
              "    </tr>\n",
              "    <tr>\n",
              "      <th>Aston Martin DB5</th>\n",
              "      <td>Motor Diesel</td>\n",
              "      <td>1996</td>\n",
              "      <td>7685.0</td>\n",
              "      <td>False</td>\n",
              "      <td>['Ar condicionado', '4 X 4', 'Câmbio automátic...</td>\n",
              "      <td>122110.90</td>\n",
              "      <td>334.130435</td>\n",
              "    </tr>\n",
              "    <tr>\n",
              "      <th>Macan</th>\n",
              "      <td>Motor Diesel V6</td>\n",
              "      <td>1992</td>\n",
              "      <td>50188.0</td>\n",
              "      <td>False</td>\n",
              "      <td>['Central multimídia', 'Teto panorâmico', 'Vid...</td>\n",
              "      <td>90381.47</td>\n",
              "      <td>1858.814815</td>\n",
              "    </tr>\n",
              "  </tbody>\n",
              "</table>\n",
              "<p>258 rows × 7 columns</p>\n",
              "</div>"
            ],
            "text/plain": [
              "                                       Motor   Ano  ...      Valor     Km_media\n",
              "Nome                                                ...                        \n",
              "Jetta Variant                Motor 4.0 Turbo  2003  ...   88078.64  2775.625000\n",
              "Passat                          Motor Diesel  1991  ...  106161.94   204.000000\n",
              "Crossfox                     Motor Diesel V8  1990  ...   72832.16  1280.103448\n",
              "DS5                          Motor 2.4 Turbo  2019  ...  124549.07     0.000000\n",
              "Aston Martin DB4             Motor 2.4 Turbo  2006  ...   92612.10  1981.307692\n",
              "...                                      ...   ...  ...        ...          ...\n",
              "Phantom 2013                        Motor V8  2014  ...   51759.58  5501.000000\n",
              "Cadillac Ciel concept               Motor V8  1991  ...   51667.06  1070.750000\n",
              "Classe GLK             Motor 5.0 V8 Bi-Turbo  2002  ...   68934.03  3096.294118\n",
              "Aston Martin DB5                Motor Diesel  1996  ...  122110.90   334.130435\n",
              "Macan                        Motor Diesel V6  1992  ...   90381.47  1858.814815\n",
              "\n",
              "[258 rows x 7 columns]"
            ]
          },
          "metadata": {},
          "execution_count": 143
        }
      ]
    },
    {
      "cell_type": "markdown",
      "metadata": {
        "id": "HnUzHFQPD1Ba"
      },
      "source": [
        "# 5.5 Tratamento de dados"
      ]
    },
    {
      "cell_type": "code",
      "metadata": {
        "id": "FRxBWoBGD1Ba",
        "colab": {
          "base_uri": "https://localhost:8080/",
          "height": 235
        },
        "outputId": "97c92658-99f6-4115-de79-29152b7f5352"
      },
      "source": [
        "dataset.head()"
      ],
      "execution_count": null,
      "outputs": [
        {
          "output_type": "execute_result",
          "data": {
            "text/html": [
              "<div>\n",
              "<style scoped>\n",
              "    .dataframe tbody tr th:only-of-type {\n",
              "        vertical-align: middle;\n",
              "    }\n",
              "\n",
              "    .dataframe tbody tr th {\n",
              "        vertical-align: top;\n",
              "    }\n",
              "\n",
              "    .dataframe thead th {\n",
              "        text-align: right;\n",
              "    }\n",
              "</style>\n",
              "<table border=\"1\" class=\"dataframe\">\n",
              "  <thead>\n",
              "    <tr style=\"text-align: right;\">\n",
              "      <th></th>\n",
              "      <th>Motor</th>\n",
              "      <th>Ano</th>\n",
              "      <th>Quilometragem</th>\n",
              "      <th>Zero_km</th>\n",
              "      <th>Acessórios</th>\n",
              "      <th>Valor</th>\n",
              "    </tr>\n",
              "    <tr>\n",
              "      <th>Nome</th>\n",
              "      <th></th>\n",
              "      <th></th>\n",
              "      <th></th>\n",
              "      <th></th>\n",
              "      <th></th>\n",
              "      <th></th>\n",
              "    </tr>\n",
              "  </thead>\n",
              "  <tbody>\n",
              "    <tr>\n",
              "      <th>Jetta Variant</th>\n",
              "      <td>Motor 4.0 Turbo</td>\n",
              "      <td>2003</td>\n",
              "      <td>44410.0</td>\n",
              "      <td>False</td>\n",
              "      <td>['Rodas de liga', 'Travas elétricas', 'Piloto ...</td>\n",
              "      <td>88078.64</td>\n",
              "    </tr>\n",
              "    <tr>\n",
              "      <th>Passat</th>\n",
              "      <td>Motor Diesel</td>\n",
              "      <td>1991</td>\n",
              "      <td>5712.0</td>\n",
              "      <td>False</td>\n",
              "      <td>['Central multimídia', 'Teto panorâmico', 'Fre...</td>\n",
              "      <td>106161.94</td>\n",
              "    </tr>\n",
              "    <tr>\n",
              "      <th>Crossfox</th>\n",
              "      <td>Motor Diesel V8</td>\n",
              "      <td>1990</td>\n",
              "      <td>37123.0</td>\n",
              "      <td>False</td>\n",
              "      <td>['Piloto automático', 'Controle de estabilidad...</td>\n",
              "      <td>72832.16</td>\n",
              "    </tr>\n",
              "    <tr>\n",
              "      <th>DS5</th>\n",
              "      <td>Motor 2.4 Turbo</td>\n",
              "      <td>2019</td>\n",
              "      <td>NaN</td>\n",
              "      <td>True</td>\n",
              "      <td>['Travas elétricas', '4 X 4', 'Vidros elétrico...</td>\n",
              "      <td>124549.07</td>\n",
              "    </tr>\n",
              "    <tr>\n",
              "      <th>Aston Martin DB4</th>\n",
              "      <td>Motor 2.4 Turbo</td>\n",
              "      <td>2006</td>\n",
              "      <td>25757.0</td>\n",
              "      <td>False</td>\n",
              "      <td>['Rodas de liga', '4 X 4', 'Central multimídia...</td>\n",
              "      <td>92612.10</td>\n",
              "    </tr>\n",
              "  </tbody>\n",
              "</table>\n",
              "</div>"
            ],
            "text/plain": [
              "                            Motor  ...      Valor\n",
              "Nome                               ...           \n",
              "Jetta Variant     Motor 4.0 Turbo  ...   88078.64\n",
              "Passat               Motor Diesel  ...  106161.94\n",
              "Crossfox          Motor Diesel V8  ...   72832.16\n",
              "DS5               Motor 2.4 Turbo  ...  124549.07\n",
              "Aston Martin DB4  Motor 2.4 Turbo  ...   92612.10\n",
              "\n",
              "[5 rows x 6 columns]"
            ]
          },
          "metadata": {},
          "execution_count": 146
        }
      ]
    },
    {
      "cell_type": "code",
      "metadata": {
        "id": "HHSwH0ZaD1Bc",
        "colab": {
          "base_uri": "https://localhost:8080/"
        },
        "outputId": "d6a3d93e-d3fe-4e27-9027-eb2223f60e80"
      },
      "source": [
        "dataset.info()"
      ],
      "execution_count": null,
      "outputs": [
        {
          "output_type": "stream",
          "name": "stdout",
          "text": [
            "<class 'pandas.core.frame.DataFrame'>\n",
            "Index: 258 entries, Jetta Variant to Macan\n",
            "Data columns (total 6 columns):\n",
            " #   Column         Non-Null Count  Dtype  \n",
            "---  ------         --------------  -----  \n",
            " 0   Motor          258 non-null    object \n",
            " 1   Ano            258 non-null    int64  \n",
            " 2   Quilometragem  197 non-null    float64\n",
            " 3   Zero_km        258 non-null    bool   \n",
            " 4   Acessórios     258 non-null    object \n",
            " 5   Valor          258 non-null    float64\n",
            "dtypes: bool(1), float64(2), int64(1), object(2)\n",
            "memory usage: 22.3+ KB\n"
          ]
        }
      ]
    },
    {
      "cell_type": "code",
      "metadata": {
        "scrolled": true,
        "id": "G27pxgZ5D1Bd",
        "colab": {
          "base_uri": "https://localhost:8080/"
        },
        "outputId": "8f9017cc-e9b7-446e-cee9-858479a6f807"
      },
      "source": [
        "dataset.Quilometragem.isna()"
      ],
      "execution_count": null,
      "outputs": [
        {
          "output_type": "execute_result",
          "data": {
            "text/plain": [
              "Nome\n",
              "Jetta Variant            False\n",
              "Passat                   False\n",
              "Crossfox                 False\n",
              "DS5                       True\n",
              "Aston Martin DB4         False\n",
              "                         ...  \n",
              "Phantom 2013             False\n",
              "Cadillac Ciel concept    False\n",
              "Classe GLK               False\n",
              "Aston Martin DB5         False\n",
              "Macan                    False\n",
              "Name: Quilometragem, Length: 258, dtype: bool"
            ]
          },
          "metadata": {},
          "execution_count": 148
        }
      ]
    },
    {
      "cell_type": "code",
      "metadata": {
        "scrolled": true,
        "id": "DhlRbxy2D1Bd",
        "colab": {
          "base_uri": "https://localhost:8080/",
          "height": 450
        },
        "outputId": "fa92be60-88c6-4df5-be61-c717d2f2a640"
      },
      "source": [
        "dataset[dataset.Quilometragem.isna()]"
      ],
      "execution_count": null,
      "outputs": [
        {
          "output_type": "execute_result",
          "data": {
            "text/html": [
              "<div>\n",
              "<style scoped>\n",
              "    .dataframe tbody tr th:only-of-type {\n",
              "        vertical-align: middle;\n",
              "    }\n",
              "\n",
              "    .dataframe tbody tr th {\n",
              "        vertical-align: top;\n",
              "    }\n",
              "\n",
              "    .dataframe thead th {\n",
              "        text-align: right;\n",
              "    }\n",
              "</style>\n",
              "<table border=\"1\" class=\"dataframe\">\n",
              "  <thead>\n",
              "    <tr style=\"text-align: right;\">\n",
              "      <th></th>\n",
              "      <th>Motor</th>\n",
              "      <th>Ano</th>\n",
              "      <th>Quilometragem</th>\n",
              "      <th>Zero_km</th>\n",
              "      <th>Acessórios</th>\n",
              "      <th>Valor</th>\n",
              "    </tr>\n",
              "    <tr>\n",
              "      <th>Nome</th>\n",
              "      <th></th>\n",
              "      <th></th>\n",
              "      <th></th>\n",
              "      <th></th>\n",
              "      <th></th>\n",
              "      <th></th>\n",
              "    </tr>\n",
              "  </thead>\n",
              "  <tbody>\n",
              "    <tr>\n",
              "      <th>DS5</th>\n",
              "      <td>Motor 2.4 Turbo</td>\n",
              "      <td>2019</td>\n",
              "      <td>NaN</td>\n",
              "      <td>True</td>\n",
              "      <td>['Travas elétricas', '4 X 4', 'Vidros elétrico...</td>\n",
              "      <td>124549.07</td>\n",
              "    </tr>\n",
              "    <tr>\n",
              "      <th>A5</th>\n",
              "      <td>Motor 4.0 Turbo</td>\n",
              "      <td>2019</td>\n",
              "      <td>NaN</td>\n",
              "      <td>True</td>\n",
              "      <td>['Câmbio automático', 'Câmera de estacionament...</td>\n",
              "      <td>56445.20</td>\n",
              "    </tr>\n",
              "    <tr>\n",
              "      <th>J5</th>\n",
              "      <td>Motor V6</td>\n",
              "      <td>2019</td>\n",
              "      <td>NaN</td>\n",
              "      <td>True</td>\n",
              "      <td>['Sensor crepuscular', 'Painel digital', 'Roda...</td>\n",
              "      <td>53183.38</td>\n",
              "    </tr>\n",
              "    <tr>\n",
              "      <th>A3</th>\n",
              "      <td>Motor 1.0 8v</td>\n",
              "      <td>2019</td>\n",
              "      <td>NaN</td>\n",
              "      <td>True</td>\n",
              "      <td>['4 X 4', 'Piloto automático', 'Central multim...</td>\n",
              "      <td>88552.39</td>\n",
              "    </tr>\n",
              "    <tr>\n",
              "      <th>Série 1 M</th>\n",
              "      <td>Motor V8</td>\n",
              "      <td>2019</td>\n",
              "      <td>NaN</td>\n",
              "      <td>True</td>\n",
              "      <td>['Controle de estabilidade', 'Central multimíd...</td>\n",
              "      <td>94564.40</td>\n",
              "    </tr>\n",
              "    <tr>\n",
              "      <th>...</th>\n",
              "      <td>...</td>\n",
              "      <td>...</td>\n",
              "      <td>...</td>\n",
              "      <td>...</td>\n",
              "      <td>...</td>\n",
              "      <td>...</td>\n",
              "    </tr>\n",
              "    <tr>\n",
              "      <th>Lamborghini Reventón</th>\n",
              "      <td>Motor 4.0 Turbo</td>\n",
              "      <td>2019</td>\n",
              "      <td>NaN</td>\n",
              "      <td>True</td>\n",
              "      <td>['Controle de tração', 'Ar condicionado', 'Cen...</td>\n",
              "      <td>67664.86</td>\n",
              "    </tr>\n",
              "    <tr>\n",
              "      <th>Benni Mini</th>\n",
              "      <td>Motor V8</td>\n",
              "      <td>2019</td>\n",
              "      <td>NaN</td>\n",
              "      <td>True</td>\n",
              "      <td>['Sensor crepuscular', 'Câmbio automático', 'C...</td>\n",
              "      <td>126247.84</td>\n",
              "    </tr>\n",
              "    <tr>\n",
              "      <th>Uno</th>\n",
              "      <td>Motor Diesel V6</td>\n",
              "      <td>2019</td>\n",
              "      <td>NaN</td>\n",
              "      <td>True</td>\n",
              "      <td>['Central multimídia', 'Sensor crepuscular', '...</td>\n",
              "      <td>128852.21</td>\n",
              "    </tr>\n",
              "    <tr>\n",
              "      <th>Santa Fe</th>\n",
              "      <td>Motor 3.0 32v</td>\n",
              "      <td>2019</td>\n",
              "      <td>NaN</td>\n",
              "      <td>True</td>\n",
              "      <td>['Travas elétricas', 'Ar condicionado', '4 X 4...</td>\n",
              "      <td>129415.33</td>\n",
              "    </tr>\n",
              "    <tr>\n",
              "      <th>XC60</th>\n",
              "      <td>Motor 4.0 Turbo</td>\n",
              "      <td>2019</td>\n",
              "      <td>NaN</td>\n",
              "      <td>True</td>\n",
              "      <td>['Painel digital', 'Piloto automático', 'Centr...</td>\n",
              "      <td>77675.79</td>\n",
              "    </tr>\n",
              "  </tbody>\n",
              "</table>\n",
              "<p>61 rows × 6 columns</p>\n",
              "</div>"
            ],
            "text/plain": [
              "                                Motor  ...      Valor\n",
              "Nome                                   ...           \n",
              "DS5                   Motor 2.4 Turbo  ...  124549.07\n",
              "A5                    Motor 4.0 Turbo  ...   56445.20\n",
              "J5                           Motor V6  ...   53183.38\n",
              "A3                       Motor 1.0 8v  ...   88552.39\n",
              "Série 1 M                    Motor V8  ...   94564.40\n",
              "...                               ...  ...        ...\n",
              "Lamborghini Reventón  Motor 4.0 Turbo  ...   67664.86\n",
              "Benni Mini                   Motor V8  ...  126247.84\n",
              "Uno                   Motor Diesel V6  ...  128852.21\n",
              "Santa Fe                Motor 3.0 32v  ...  129415.33\n",
              "XC60                  Motor 4.0 Turbo  ...   77675.79\n",
              "\n",
              "[61 rows x 6 columns]"
            ]
          },
          "metadata": {},
          "execution_count": 149
        }
      ]
    },
    {
      "cell_type": "code",
      "metadata": {
        "id": "OL04QU5RD1Be"
      },
      "source": [
        "dataset.fillna(0, inplace = True)"
      ],
      "execution_count": null,
      "outputs": []
    },
    {
      "cell_type": "code",
      "metadata": {
        "scrolled": true,
        "id": "fTH2JkGDD1Bf",
        "colab": {
          "base_uri": "https://localhost:8080/",
          "height": 450
        },
        "outputId": "941508c0-39f7-4210-b0bf-b34184ff6822"
      },
      "source": [
        "dataset.query(\"Zero_km == True\")"
      ],
      "execution_count": null,
      "outputs": [
        {
          "output_type": "execute_result",
          "data": {
            "text/html": [
              "<div>\n",
              "<style scoped>\n",
              "    .dataframe tbody tr th:only-of-type {\n",
              "        vertical-align: middle;\n",
              "    }\n",
              "\n",
              "    .dataframe tbody tr th {\n",
              "        vertical-align: top;\n",
              "    }\n",
              "\n",
              "    .dataframe thead th {\n",
              "        text-align: right;\n",
              "    }\n",
              "</style>\n",
              "<table border=\"1\" class=\"dataframe\">\n",
              "  <thead>\n",
              "    <tr style=\"text-align: right;\">\n",
              "      <th></th>\n",
              "      <th>Motor</th>\n",
              "      <th>Ano</th>\n",
              "      <th>Quilometragem</th>\n",
              "      <th>Zero_km</th>\n",
              "      <th>Acessórios</th>\n",
              "      <th>Valor</th>\n",
              "    </tr>\n",
              "    <tr>\n",
              "      <th>Nome</th>\n",
              "      <th></th>\n",
              "      <th></th>\n",
              "      <th></th>\n",
              "      <th></th>\n",
              "      <th></th>\n",
              "      <th></th>\n",
              "    </tr>\n",
              "  </thead>\n",
              "  <tbody>\n",
              "    <tr>\n",
              "      <th>DS5</th>\n",
              "      <td>Motor 2.4 Turbo</td>\n",
              "      <td>2019</td>\n",
              "      <td>0.0</td>\n",
              "      <td>True</td>\n",
              "      <td>['Travas elétricas', '4 X 4', 'Vidros elétrico...</td>\n",
              "      <td>124549.07</td>\n",
              "    </tr>\n",
              "    <tr>\n",
              "      <th>A5</th>\n",
              "      <td>Motor 4.0 Turbo</td>\n",
              "      <td>2019</td>\n",
              "      <td>0.0</td>\n",
              "      <td>True</td>\n",
              "      <td>['Câmbio automático', 'Câmera de estacionament...</td>\n",
              "      <td>56445.20</td>\n",
              "    </tr>\n",
              "    <tr>\n",
              "      <th>J5</th>\n",
              "      <td>Motor V6</td>\n",
              "      <td>2019</td>\n",
              "      <td>0.0</td>\n",
              "      <td>True</td>\n",
              "      <td>['Sensor crepuscular', 'Painel digital', 'Roda...</td>\n",
              "      <td>53183.38</td>\n",
              "    </tr>\n",
              "    <tr>\n",
              "      <th>A3</th>\n",
              "      <td>Motor 1.0 8v</td>\n",
              "      <td>2019</td>\n",
              "      <td>0.0</td>\n",
              "      <td>True</td>\n",
              "      <td>['4 X 4', 'Piloto automático', 'Central multim...</td>\n",
              "      <td>88552.39</td>\n",
              "    </tr>\n",
              "    <tr>\n",
              "      <th>Série 1 M</th>\n",
              "      <td>Motor V8</td>\n",
              "      <td>2019</td>\n",
              "      <td>0.0</td>\n",
              "      <td>True</td>\n",
              "      <td>['Controle de estabilidade', 'Central multimíd...</td>\n",
              "      <td>94564.40</td>\n",
              "    </tr>\n",
              "    <tr>\n",
              "      <th>...</th>\n",
              "      <td>...</td>\n",
              "      <td>...</td>\n",
              "      <td>...</td>\n",
              "      <td>...</td>\n",
              "      <td>...</td>\n",
              "      <td>...</td>\n",
              "    </tr>\n",
              "    <tr>\n",
              "      <th>Lamborghini Reventón</th>\n",
              "      <td>Motor 4.0 Turbo</td>\n",
              "      <td>2019</td>\n",
              "      <td>0.0</td>\n",
              "      <td>True</td>\n",
              "      <td>['Controle de tração', 'Ar condicionado', 'Cen...</td>\n",
              "      <td>67664.86</td>\n",
              "    </tr>\n",
              "    <tr>\n",
              "      <th>Benni Mini</th>\n",
              "      <td>Motor V8</td>\n",
              "      <td>2019</td>\n",
              "      <td>0.0</td>\n",
              "      <td>True</td>\n",
              "      <td>['Sensor crepuscular', 'Câmbio automático', 'C...</td>\n",
              "      <td>126247.84</td>\n",
              "    </tr>\n",
              "    <tr>\n",
              "      <th>Uno</th>\n",
              "      <td>Motor Diesel V6</td>\n",
              "      <td>2019</td>\n",
              "      <td>0.0</td>\n",
              "      <td>True</td>\n",
              "      <td>['Central multimídia', 'Sensor crepuscular', '...</td>\n",
              "      <td>128852.21</td>\n",
              "    </tr>\n",
              "    <tr>\n",
              "      <th>Santa Fe</th>\n",
              "      <td>Motor 3.0 32v</td>\n",
              "      <td>2019</td>\n",
              "      <td>0.0</td>\n",
              "      <td>True</td>\n",
              "      <td>['Travas elétricas', 'Ar condicionado', '4 X 4...</td>\n",
              "      <td>129415.33</td>\n",
              "    </tr>\n",
              "    <tr>\n",
              "      <th>XC60</th>\n",
              "      <td>Motor 4.0 Turbo</td>\n",
              "      <td>2019</td>\n",
              "      <td>0.0</td>\n",
              "      <td>True</td>\n",
              "      <td>['Painel digital', 'Piloto automático', 'Centr...</td>\n",
              "      <td>77675.79</td>\n",
              "    </tr>\n",
              "  </tbody>\n",
              "</table>\n",
              "<p>61 rows × 6 columns</p>\n",
              "</div>"
            ],
            "text/plain": [
              "                                Motor  ...      Valor\n",
              "Nome                                   ...           \n",
              "DS5                   Motor 2.4 Turbo  ...  124549.07\n",
              "A5                    Motor 4.0 Turbo  ...   56445.20\n",
              "J5                           Motor V6  ...   53183.38\n",
              "A3                       Motor 1.0 8v  ...   88552.39\n",
              "Série 1 M                    Motor V8  ...   94564.40\n",
              "...                               ...  ...        ...\n",
              "Lamborghini Reventón  Motor 4.0 Turbo  ...   67664.86\n",
              "Benni Mini                   Motor V8  ...  126247.84\n",
              "Uno                   Motor Diesel V6  ...  128852.21\n",
              "Santa Fe                Motor 3.0 32v  ...  129415.33\n",
              "XC60                  Motor 4.0 Turbo  ...   77675.79\n",
              "\n",
              "[61 rows x 6 columns]"
            ]
          },
          "metadata": {},
          "execution_count": 152
        }
      ]
    },
    {
      "cell_type": "code",
      "metadata": {
        "id": "lure2GvpD1Bg",
        "colab": {
          "base_uri": "https://localhost:8080/",
          "height": 450
        },
        "outputId": "b44c4e4f-f8c6-4ee0-b435-552887a8e49c"
      },
      "source": [
        "dataset"
      ],
      "execution_count": null,
      "outputs": [
        {
          "output_type": "execute_result",
          "data": {
            "text/html": [
              "<div>\n",
              "<style scoped>\n",
              "    .dataframe tbody tr th:only-of-type {\n",
              "        vertical-align: middle;\n",
              "    }\n",
              "\n",
              "    .dataframe tbody tr th {\n",
              "        vertical-align: top;\n",
              "    }\n",
              "\n",
              "    .dataframe thead th {\n",
              "        text-align: right;\n",
              "    }\n",
              "</style>\n",
              "<table border=\"1\" class=\"dataframe\">\n",
              "  <thead>\n",
              "    <tr style=\"text-align: right;\">\n",
              "      <th></th>\n",
              "      <th>Motor</th>\n",
              "      <th>Ano</th>\n",
              "      <th>Quilometragem</th>\n",
              "      <th>Zero_km</th>\n",
              "      <th>Acessórios</th>\n",
              "      <th>Valor</th>\n",
              "    </tr>\n",
              "    <tr>\n",
              "      <th>Nome</th>\n",
              "      <th></th>\n",
              "      <th></th>\n",
              "      <th></th>\n",
              "      <th></th>\n",
              "      <th></th>\n",
              "      <th></th>\n",
              "    </tr>\n",
              "  </thead>\n",
              "  <tbody>\n",
              "    <tr>\n",
              "      <th>Jetta Variant</th>\n",
              "      <td>Motor 4.0 Turbo</td>\n",
              "      <td>2003</td>\n",
              "      <td>44410.0</td>\n",
              "      <td>False</td>\n",
              "      <td>['Rodas de liga', 'Travas elétricas', 'Piloto ...</td>\n",
              "      <td>88078.64</td>\n",
              "    </tr>\n",
              "    <tr>\n",
              "      <th>Passat</th>\n",
              "      <td>Motor Diesel</td>\n",
              "      <td>1991</td>\n",
              "      <td>5712.0</td>\n",
              "      <td>False</td>\n",
              "      <td>['Central multimídia', 'Teto panorâmico', 'Fre...</td>\n",
              "      <td>106161.94</td>\n",
              "    </tr>\n",
              "    <tr>\n",
              "      <th>Crossfox</th>\n",
              "      <td>Motor Diesel V8</td>\n",
              "      <td>1990</td>\n",
              "      <td>37123.0</td>\n",
              "      <td>False</td>\n",
              "      <td>['Piloto automático', 'Controle de estabilidad...</td>\n",
              "      <td>72832.16</td>\n",
              "    </tr>\n",
              "    <tr>\n",
              "      <th>DS5</th>\n",
              "      <td>Motor 2.4 Turbo</td>\n",
              "      <td>2019</td>\n",
              "      <td>NaN</td>\n",
              "      <td>True</td>\n",
              "      <td>['Travas elétricas', '4 X 4', 'Vidros elétrico...</td>\n",
              "      <td>124549.07</td>\n",
              "    </tr>\n",
              "    <tr>\n",
              "      <th>Aston Martin DB4</th>\n",
              "      <td>Motor 2.4 Turbo</td>\n",
              "      <td>2006</td>\n",
              "      <td>25757.0</td>\n",
              "      <td>False</td>\n",
              "      <td>['Rodas de liga', '4 X 4', 'Central multimídia...</td>\n",
              "      <td>92612.10</td>\n",
              "    </tr>\n",
              "    <tr>\n",
              "      <th>...</th>\n",
              "      <td>...</td>\n",
              "      <td>...</td>\n",
              "      <td>...</td>\n",
              "      <td>...</td>\n",
              "      <td>...</td>\n",
              "      <td>...</td>\n",
              "    </tr>\n",
              "    <tr>\n",
              "      <th>Phantom 2013</th>\n",
              "      <td>Motor V8</td>\n",
              "      <td>2014</td>\n",
              "      <td>27505.0</td>\n",
              "      <td>False</td>\n",
              "      <td>['Controle de estabilidade', 'Piloto automátic...</td>\n",
              "      <td>51759.58</td>\n",
              "    </tr>\n",
              "    <tr>\n",
              "      <th>Cadillac Ciel concept</th>\n",
              "      <td>Motor V8</td>\n",
              "      <td>1991</td>\n",
              "      <td>29981.0</td>\n",
              "      <td>False</td>\n",
              "      <td>['Bancos de couro', 'Painel digital', 'Sensor ...</td>\n",
              "      <td>51667.06</td>\n",
              "    </tr>\n",
              "    <tr>\n",
              "      <th>Classe GLK</th>\n",
              "      <td>Motor 5.0 V8 Bi-Turbo</td>\n",
              "      <td>2002</td>\n",
              "      <td>52637.0</td>\n",
              "      <td>False</td>\n",
              "      <td>['Rodas de liga', 'Controle de tração', 'Câmbi...</td>\n",
              "      <td>68934.03</td>\n",
              "    </tr>\n",
              "    <tr>\n",
              "      <th>Aston Martin DB5</th>\n",
              "      <td>Motor Diesel</td>\n",
              "      <td>1996</td>\n",
              "      <td>7685.0</td>\n",
              "      <td>False</td>\n",
              "      <td>['Ar condicionado', '4 X 4', 'Câmbio automátic...</td>\n",
              "      <td>122110.90</td>\n",
              "    </tr>\n",
              "    <tr>\n",
              "      <th>Macan</th>\n",
              "      <td>Motor Diesel V6</td>\n",
              "      <td>1992</td>\n",
              "      <td>50188.0</td>\n",
              "      <td>False</td>\n",
              "      <td>['Central multimídia', 'Teto panorâmico', 'Vid...</td>\n",
              "      <td>90381.47</td>\n",
              "    </tr>\n",
              "  </tbody>\n",
              "</table>\n",
              "<p>258 rows × 6 columns</p>\n",
              "</div>"
            ],
            "text/plain": [
              "                                       Motor  ...      Valor\n",
              "Nome                                          ...           \n",
              "Jetta Variant                Motor 4.0 Turbo  ...   88078.64\n",
              "Passat                          Motor Diesel  ...  106161.94\n",
              "Crossfox                     Motor Diesel V8  ...   72832.16\n",
              "DS5                          Motor 2.4 Turbo  ...  124549.07\n",
              "Aston Martin DB4             Motor 2.4 Turbo  ...   92612.10\n",
              "...                                      ...  ...        ...\n",
              "Phantom 2013                        Motor V8  ...   51759.58\n",
              "Cadillac Ciel concept               Motor V8  ...   51667.06\n",
              "Classe GLK             Motor 5.0 V8 Bi-Turbo  ...   68934.03\n",
              "Aston Martin DB5                Motor Diesel  ...  122110.90\n",
              "Macan                        Motor Diesel V6  ...   90381.47\n",
              "\n",
              "[258 rows x 6 columns]"
            ]
          },
          "metadata": {},
          "execution_count": 154
        }
      ]
    },
    {
      "cell_type": "code",
      "metadata": {
        "id": "4-ZvhXjvD1Bj"
      },
      "source": [
        "dataset.dropna(subset = ['Quilometragem'], inplace = True) # Neste caso é para quando queremos eliminar os NaN."
      ],
      "execution_count": null,
      "outputs": []
    },
    {
      "cell_type": "code",
      "metadata": {
        "scrolled": true,
        "id": "MQUw7i1OD1Bk",
        "colab": {
          "base_uri": "https://localhost:8080/",
          "height": 450
        },
        "outputId": "7a1e33a3-3acd-41c0-dd73-79d78b7064c9"
      },
      "source": [
        "dataset"
      ],
      "execution_count": null,
      "outputs": [
        {
          "output_type": "execute_result",
          "data": {
            "text/html": [
              "<div>\n",
              "<style scoped>\n",
              "    .dataframe tbody tr th:only-of-type {\n",
              "        vertical-align: middle;\n",
              "    }\n",
              "\n",
              "    .dataframe tbody tr th {\n",
              "        vertical-align: top;\n",
              "    }\n",
              "\n",
              "    .dataframe thead th {\n",
              "        text-align: right;\n",
              "    }\n",
              "</style>\n",
              "<table border=\"1\" class=\"dataframe\">\n",
              "  <thead>\n",
              "    <tr style=\"text-align: right;\">\n",
              "      <th></th>\n",
              "      <th>Motor</th>\n",
              "      <th>Ano</th>\n",
              "      <th>Quilometragem</th>\n",
              "      <th>Zero_km</th>\n",
              "      <th>Acessórios</th>\n",
              "      <th>Valor</th>\n",
              "    </tr>\n",
              "    <tr>\n",
              "      <th>Nome</th>\n",
              "      <th></th>\n",
              "      <th></th>\n",
              "      <th></th>\n",
              "      <th></th>\n",
              "      <th></th>\n",
              "      <th></th>\n",
              "    </tr>\n",
              "  </thead>\n",
              "  <tbody>\n",
              "    <tr>\n",
              "      <th>Jetta Variant</th>\n",
              "      <td>Motor 4.0 Turbo</td>\n",
              "      <td>2003</td>\n",
              "      <td>44410.0</td>\n",
              "      <td>False</td>\n",
              "      <td>['Rodas de liga', 'Travas elétricas', 'Piloto ...</td>\n",
              "      <td>88078.64</td>\n",
              "    </tr>\n",
              "    <tr>\n",
              "      <th>Passat</th>\n",
              "      <td>Motor Diesel</td>\n",
              "      <td>1991</td>\n",
              "      <td>5712.0</td>\n",
              "      <td>False</td>\n",
              "      <td>['Central multimídia', 'Teto panorâmico', 'Fre...</td>\n",
              "      <td>106161.94</td>\n",
              "    </tr>\n",
              "    <tr>\n",
              "      <th>Crossfox</th>\n",
              "      <td>Motor Diesel V8</td>\n",
              "      <td>1990</td>\n",
              "      <td>37123.0</td>\n",
              "      <td>False</td>\n",
              "      <td>['Piloto automático', 'Controle de estabilidad...</td>\n",
              "      <td>72832.16</td>\n",
              "    </tr>\n",
              "    <tr>\n",
              "      <th>Aston Martin DB4</th>\n",
              "      <td>Motor 2.4 Turbo</td>\n",
              "      <td>2006</td>\n",
              "      <td>25757.0</td>\n",
              "      <td>False</td>\n",
              "      <td>['Rodas de liga', '4 X 4', 'Central multimídia...</td>\n",
              "      <td>92612.10</td>\n",
              "    </tr>\n",
              "    <tr>\n",
              "      <th>Palio Weekend</th>\n",
              "      <td>Motor 1.8 16v</td>\n",
              "      <td>2012</td>\n",
              "      <td>10728.0</td>\n",
              "      <td>False</td>\n",
              "      <td>['Sensor de estacionamento', 'Teto panorâmico'...</td>\n",
              "      <td>97497.73</td>\n",
              "    </tr>\n",
              "    <tr>\n",
              "      <th>...</th>\n",
              "      <td>...</td>\n",
              "      <td>...</td>\n",
              "      <td>...</td>\n",
              "      <td>...</td>\n",
              "      <td>...</td>\n",
              "      <td>...</td>\n",
              "    </tr>\n",
              "    <tr>\n",
              "      <th>Phantom 2013</th>\n",
              "      <td>Motor V8</td>\n",
              "      <td>2014</td>\n",
              "      <td>27505.0</td>\n",
              "      <td>False</td>\n",
              "      <td>['Controle de estabilidade', 'Piloto automátic...</td>\n",
              "      <td>51759.58</td>\n",
              "    </tr>\n",
              "    <tr>\n",
              "      <th>Cadillac Ciel concept</th>\n",
              "      <td>Motor V8</td>\n",
              "      <td>1991</td>\n",
              "      <td>29981.0</td>\n",
              "      <td>False</td>\n",
              "      <td>['Bancos de couro', 'Painel digital', 'Sensor ...</td>\n",
              "      <td>51667.06</td>\n",
              "    </tr>\n",
              "    <tr>\n",
              "      <th>Classe GLK</th>\n",
              "      <td>Motor 5.0 V8 Bi-Turbo</td>\n",
              "      <td>2002</td>\n",
              "      <td>52637.0</td>\n",
              "      <td>False</td>\n",
              "      <td>['Rodas de liga', 'Controle de tração', 'Câmbi...</td>\n",
              "      <td>68934.03</td>\n",
              "    </tr>\n",
              "    <tr>\n",
              "      <th>Aston Martin DB5</th>\n",
              "      <td>Motor Diesel</td>\n",
              "      <td>1996</td>\n",
              "      <td>7685.0</td>\n",
              "      <td>False</td>\n",
              "      <td>['Ar condicionado', '4 X 4', 'Câmbio automátic...</td>\n",
              "      <td>122110.90</td>\n",
              "    </tr>\n",
              "    <tr>\n",
              "      <th>Macan</th>\n",
              "      <td>Motor Diesel V6</td>\n",
              "      <td>1992</td>\n",
              "      <td>50188.0</td>\n",
              "      <td>False</td>\n",
              "      <td>['Central multimídia', 'Teto panorâmico', 'Vid...</td>\n",
              "      <td>90381.47</td>\n",
              "    </tr>\n",
              "  </tbody>\n",
              "</table>\n",
              "<p>197 rows × 6 columns</p>\n",
              "</div>"
            ],
            "text/plain": [
              "                                       Motor  ...      Valor\n",
              "Nome                                          ...           \n",
              "Jetta Variant                Motor 4.0 Turbo  ...   88078.64\n",
              "Passat                          Motor Diesel  ...  106161.94\n",
              "Crossfox                     Motor Diesel V8  ...   72832.16\n",
              "Aston Martin DB4             Motor 2.4 Turbo  ...   92612.10\n",
              "Palio Weekend                  Motor 1.8 16v  ...   97497.73\n",
              "...                                      ...  ...        ...\n",
              "Phantom 2013                        Motor V8  ...   51759.58\n",
              "Cadillac Ciel concept               Motor V8  ...   51667.06\n",
              "Classe GLK             Motor 5.0 V8 Bi-Turbo  ...   68934.03\n",
              "Aston Martin DB5                Motor Diesel  ...  122110.90\n",
              "Macan                        Motor Diesel V6  ...   90381.47\n",
              "\n",
              "[197 rows x 6 columns]"
            ]
          },
          "metadata": {},
          "execution_count": 156
        }
      ]
    },
    {
      "cell_type": "code",
      "metadata": {
        "id": "U4Cse7miD1Bl"
      },
      "source": [
        ""
      ],
      "execution_count": null,
      "outputs": []
    },
    {
      "cell_type": "code",
      "metadata": {
        "scrolled": true,
        "id": "8L4wum05D1Bl"
      },
      "source": [
        ""
      ],
      "execution_count": null,
      "outputs": []
    },
    {
      "cell_type": "code",
      "metadata": {
        "id": "8iLOc-U3D1Bm"
      },
      "source": [
        ""
      ],
      "execution_count": null,
      "outputs": []
    },
    {
      "cell_type": "code",
      "metadata": {
        "id": "HsyfM30NP8jL"
      },
      "source": [
        ""
      ],
      "execution_count": null,
      "outputs": []
    }
  ]
}